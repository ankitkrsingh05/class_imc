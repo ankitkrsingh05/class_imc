{
 "cells": [
  {
   "cell_type": "code",
   "execution_count": 25,
   "id": "c092c28c-ba6d-461b-b18c-edc67a520649",
   "metadata": {},
   "outputs": [],
   "source": [
    "d = {'a':11,'b':4,'be':4,'c':14,'e':7,'f':7,'g':21,'h':21,'l':21,'pa':14,'ap':14}"
   ]
  },
  {
   "cell_type": "code",
   "execution_count": 36,
   "id": "15d9bbd6-695a-4d4d-bb7e-94659314e40d",
   "metadata": {},
   "outputs": [],
   "source": [
    "slowest = sorted(set(d.values()))[1]\n",
    "# slowest = sorted_list[1]\n",
    "# sorted_list.remove(sorted_list[0])\n",
    "# print (sorted_list)\n",
    "# sorted_list.remove(list(d.values())[0]))"
   ]
  },
  {
   "cell_type": "code",
   "execution_count": 37,
   "id": "f138ebad-06c6-434d-966d-b421ff32d3c3",
   "metadata": {},
   "outputs": [],
   "source": [
    "l = sorted(d.items(), key=lambda x: x[1],reverse = True)"
   ]
  },
  {
   "cell_type": "code",
   "execution_count": 40,
   "id": "422f1b77-fc9b-48af-afb9-92f25381effb",
   "metadata": {},
   "outputs": [
    {
     "data": {
      "text/plain": [
       "['e', 'f']"
      ]
     },
     "execution_count": 40,
     "metadata": {},
     "output_type": "execute_result"
    }
   ],
   "source": [
    "# lowest = l[0][1]\n",
    "sorted([vals[0] for vals in l if vals[1] == slowest])"
   ]
  },
  {
   "cell_type": "code",
   "execution_count": 41,
   "id": "8428219c-a177-45e9-a377-6086e3c11d96",
   "metadata": {},
   "outputs": [
    {
     "name": "stdout",
     "output_type": "stream",
     "text": [
      "0   10\n",
      "1   9\n",
      "2   8\n",
      "3   7\n",
      "4   6\n",
      "5   5\n",
      "6   4\n",
      "7   3\n",
      "8   2\n",
      "9   1\n"
     ]
    }
   ],
   "source": [
    "for i in range(10):\n",
    "    print (i,\" \",10 - i)"
   ]
  },
  {
   "cell_type": "code",
   "execution_count": null,
   "id": "9717741f-f0b6-45f0-923e-582077bf39d1",
   "metadata": {},
   "outputs": [],
   "source": []
  },
  {
   "cell_type": "code",
   "execution_count": null,
   "id": "52267be5-5146-4e5f-a1c7-2ff7afa76ed0",
   "metadata": {},
   "outputs": [],
   "source": []
  }
 ],
 "metadata": {
  "kernelspec": {
   "display_name": "Python 3 (ipykernel)",
   "language": "python",
   "name": "python3"
  },
  "language_info": {
   "codemirror_mode": {
    "name": "ipython",
    "version": 3
   },
   "file_extension": ".py",
   "mimetype": "text/x-python",
   "name": "python",
   "nbconvert_exporter": "python",
   "pygments_lexer": "ipython3",
   "version": "3.11.7"
  }
 },
 "nbformat": 4,
 "nbformat_minor": 5
}
