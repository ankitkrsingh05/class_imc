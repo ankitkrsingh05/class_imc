{
 "cells": [
  {
   "cell_type": "code",
   "execution_count": null,
   "id": "af399112-0c60-4f5a-b954-393f9ce0b1a6",
   "metadata": {},
   "outputs": [],
   "source": [
    "Random experiment\n",
    "trial\n",
    "outcome\n",
    "sample space\n",
    "event\n"
   ]
  },
  {
   "cell_type": "code",
   "execution_count": null,
   "id": "8a243de3-b92d-4621-8872-a1e581399293",
   "metadata": {},
   "outputs": [],
   "source": [
    "simple event\n",
    "compund event\n",
    "independent event\n",
    "dependent event\n",
    "mutually exclusive event\n",
    "exhaustive event\n",
    "impossible event"
   ]
  },
  {
   "cell_type": "code",
   "execution_count": null,
   "id": "c5608e13-54be-4b50-9473-568ad726930b",
   "metadata": {},
   "outputs": [],
   "source": [
    "emperical probability\n",
    "theoritical probability\n"
   ]
  },
  {
   "cell_type": "code",
   "execution_count": null,
   "id": "74ff3fec-3fff-4965-aaaa-00826633bb47",
   "metadata": {},
   "outputs": [],
   "source": [
    "random variable /function"
   ]
  },
  {
   "cell_type": "code",
   "execution_count": null,
   "id": "d4195274-c9a9-4aee-b460-b072a877bd85",
   "metadata": {},
   "outputs": [],
   "source": [
    "probability distribution of function\n"
   ]
  },
  {
   "cell_type": "code",
   "execution_count": null,
   "id": "60e5d6c0-4432-40bf-b5d0-15222a0d81ec",
   "metadata": {},
   "outputs": [],
   "source": [
    "mean of random variable\n",
    "variance of random variable\n"
   ]
  }
 ],
 "metadata": {
  "kernelspec": {
   "display_name": "Python 3 (ipykernel)",
   "language": "python",
   "name": "python3"
  },
  "language_info": {
   "codemirror_mode": {
    "name": "ipython",
    "version": 3
   },
   "file_extension": ".py",
   "mimetype": "text/x-python",
   "name": "python",
   "nbconvert_exporter": "python",
   "pygments_lexer": "ipython3",
   "version": "3.11.7"
  }
 },
 "nbformat": 4,
 "nbformat_minor": 5
}
