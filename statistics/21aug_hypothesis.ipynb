{
 "cells": [
  {
   "cell_type": "code",
   "execution_count": null,
   "id": "ccd62f98-e131-4016-aff7-fe0c120d3f5c",
   "metadata": {},
   "outputs": [],
   "source": [
    "Why?\n",
    "\n",
    "Null hypothesis:\n",
    "# (in a statistical test) the hypothesis that there is no significant difference between specified populations,\n",
    "# any observed difference being due to sampling or experimental error.   \n",
    "Alternate hypothesis:\n"
   ]
  },
  {
   "cell_type": "code",
   "execution_count": null,
   "id": "494e7a2c-2740-4708-92d4-ed44c56cf195",
   "metadata": {},
   "outputs": [],
   "source": [
    "Null hypothesis\n",
    "alternate hypothesis\n",
    "\n",
    "Important Points\n",
    "How to decide what will be Null hypothesis and what will be Alternate\n",
    "Hypothesis(Typically the Null hypothesis says nothing new is happening)\n",
    "•\n",
    "\n",
    "• We try to gather evidence to reject the null hypothesis\n",
    "It's important to note that failing to reject the null hypothesis doesn't necessarily mean\n",
    "that the null hypothesis is true; it just means that there isn't enough evidence to support\n",
    "the alternative hypothesis."
   ]
  },
  {
   "cell_type": "code",
   "execution_count": null,
   "id": "feebdee3-56a7-4d53-a039-1684a2a3961c",
   "metadata": {},
   "outputs": [],
   "source": [
    "z test - intiution\n",
    "formula understanding and standardization"
   ]
  },
  {
   "cell_type": "code",
   "execution_count": null,
   "id": "7b0f3ef8-888a-4412-9975-c07be5966b78",
   "metadata": {},
   "outputs": [],
   "source": [
    "left tailed: Ha < \n",
    "right tailed: Ha >\n",
    "Both tailed: Ha !=\n"
   ]
  },
  {
   "cell_type": "code",
   "execution_count": null,
   "id": "4ba3f152-3bd9-42ac-b190-3089c3872132",
   "metadata": {},
   "outputs": [],
   "source": [
    "Rejection Region Approach\n",
    "1. Formulate a Null and Alternate hypothesis\n",
    "2. Select a significance level(This is the probability of rejecting the null hypothesis when it is\n",
    "actually true, usually set at 0.05 or 0.01)\n",
    "3. Check assumptions (example distribution and sample size,(also checj=k for central linmit theorem if the sample size is greater than ))\n",
    "4. Decide which test is appropriate(Z-test, T-test, Chi-square test, ANOVA)\n",
    "5. State the relevant test statistic\n",
    "6. Conduct the test\n",
    "7. Reject or not reject the Null Hypothesis.\n",
    "8. Interpret the result\n",
    "9. Check the errors"
   ]
  },
  {
   "cell_type": "code",
   "execution_count": null,
   "id": "7f6d333e-eff5-4c1c-8915-0a8a35e753fd",
   "metadata": {},
   "outputs": [],
   "source": [
    "Suppose a company is evaluating the impact of a new training program on the productivity of\n",
    "its employees. The company has data on the average productivity of its employees before\n",
    "implementing the training program. The average productivity was 50 units per day with a\n",
    "known population standard deviation of 5 units. After implementing the training program, the\n",
    "company measures the productivity of a random sample of 30 employees. The sample has an\n",
    "average productivity of 53 units per day. The company wants to know if the new training\n",
    "program has significantly increased productivity.\n",
    "\n"
   ]
  },
  {
   "cell_type": "code",
   "execution_count": null,
   "id": "00ceb97d-4f10-4295-8416-e5dde014f1a8",
   "metadata": {},
   "outputs": [],
   "source": [
    "# z test\n",
    "population std dev = 5\n",
    "population mean = 50\n",
    "\n",
    "sample mean = 53\n",
    "Step 1:\n",
    "Ho => u = 50\n",
    "Ha = > u > 50\n",
    "Step 2:\n",
    "significane alpha = 0.05\n",
    "Step 3:\n",
    "sample size = 30 (normal distributed data based on CLT)\n",
    "Step 4:\n",
    "z-test = (x(mean) - population mean(u))/(pop_stdev/sqrt(n(sample size))\n",
    "= 3.29\n"
   ]
  },
  {
   "cell_type": "code",
   "execution_count": null,
   "id": "b52f1f91-1433-4a97-b39e-77d1333073da",
   "metadata": {},
   "outputs": [],
   "source": [
    "Example 1: A teacher claims that \n",
    "the mean score of students in his class is greater than 82 \n",
    "with a standard deviation of 20.\n",
    "If a sample of 81 students was selected with a mean score of 90 \n",
    "then check if there is enough evidence to support this claim \n",
    "at a 0.05 significance level.\n",
    "\n",
    "Solution: As the sample size is 81 and population standard deviation is known, this is an example of a right-tailed one-sample z test.\n",
    "\n",
    "H\n",
    "0\n",
    " : \n",
    "μ\n",
    "=\n",
    "82\n",
    "H\n",
    "1\n",
    " : \n",
    "μ\n",
    ">\n",
    "82\n",
    "From the z table the critical value at \n",
    "α\n",
    " = 1.645\n",
    "\n",
    "z = \n",
    "¯¯¯\n",
    "x\n",
    "−\n",
    "μ\n",
    "σ\n",
    "√\n",
    "n\n",
    "¯¯¯\n",
    "x\n",
    " = 90, \n",
    "μ\n",
    " = 82, n = 81, \n",
    "σ\n",
    " = 20\n",
    "\n",
    "z = 3.6\n",
    "\n",
    "As 3.6 > 1.645 thus, the null hypothesis is rejected and it is concluded that there is enough evidence to support the teacher's claim.\n",
    "\n",
    "Answer: Reject the null hypothesis"
   ]
  },
  {
   "cell_type": "code",
   "execution_count": null,
   "id": "8860661f-8831-4212-b105-c04ff5c52886",
   "metadata": {},
   "outputs": [],
   "source": [
    "\n"
   ]
  },
  {
   "cell_type": "code",
   "execution_count": null,
   "id": "0b938634-7c36-4aaa-85e0-643664f407e2",
   "metadata": {},
   "outputs": [],
   "source": [
    "significance level\n",
    "type 1 and type 2 error\n"
   ]
  },
  {
   "cell_type": "code",
   "execution_count": null,
   "id": "e137d04c-a84d-4847-8493-6a39df32dd6b",
   "metadata": {},
   "outputs": [],
   "source": [
    "one sided ,and 2 sided test\n",
    "advantages disadvantages\n",
    "\n"
   ]
  },
  {
   "cell_type": "code",
   "execution_count": null,
   "id": "c61c36ba-a9a0-45b7-bbcf-6b14f580dd5d",
   "metadata": {},
   "outputs": [],
   "source": [
    "pvalue\n",
    "\n",
    "interpreting pvalue\n",
    "Without significance value\n",
    "Very small p-values (e.g., p < 0.01) indicate strong evidence against the null hypothesis,\n",
    "suggesting that the observed effect or difference is unlikely to have occurred by chance\n",
    "alone.\n",
    "1.\n",
    "\n",
    "Small p-values (e.g., 0.01 ≤ p < 0.05) indicate moderate evidence against the null\n",
    "hypothesis, suggesting that the observed effect or difference is less likely to have\n",
    "occurred by chance alone.\n",
    "2.\n",
    "\n",
    "Large p-values (e.g., 0.05 ≤ p < 0.1) indicate weak evidence against the null hypothesis,\n",
    "suggesting that the observed effect or difference might have occurred by chance alone,\n",
    "but there is still some level of uncertainty.\n",
    "3.\n",
    "\n",
    "Very large p-values (e.g., p ≥ 0.1) indicate weak or no evidence against the null\n",
    "hypothesis, suggesting that the observed effect or difference is likely to have occurred by\n",
    "chance alone."
   ]
  },
  {
   "cell_type": "code",
   "execution_count": null,
   "id": "7927be0f-ee16-4059-9f8c-8365922020a2",
   "metadata": {},
   "outputs": [],
   "source": []
  },
  {
   "cell_type": "code",
   "execution_count": null,
   "id": "8293a115-13ac-4261-8212-cc4ca8289c06",
   "metadata": {},
   "outputs": [],
   "source": [
    "# 22 aug 2024"
   ]
  },
  {
   "cell_type": "code",
   "execution_count": 1,
   "id": "1c513a8f-5444-4283-a1d3-79047bdb7a4b",
   "metadata": {},
   "outputs": [],
   "source": [
    "test = 'reverse_check'"
   ]
  },
  {
   "cell_type": "code",
   "execution_count": 13,
   "id": "7cea3880-ccd1-45e9-bbff-aacdc2e84083",
   "metadata": {},
   "outputs": [],
   "source": [
    "test_list = list(test)"
   ]
  },
  {
   "cell_type": "code",
   "execution_count": 23,
   "id": "391a4eeb-b842-485b-bb0a-7a95f3dac705",
   "metadata": {},
   "outputs": [
    {
     "name": "stdout",
     "output_type": "stream",
     "text": [
      "r\n",
      "e\n",
      "v\n",
      "e\n",
      "r\n",
      "s\n",
      "e\n",
      "_\n",
      "c\n",
      "h\n",
      "e\n",
      "c\n",
      "k\n",
      "['k', 'c', 'e', 'h', 'c', '_', 'e', 's', 'r', 'e', 'v', 'e', 'r']\n"
     ]
    }
   ],
   "source": [
    "# rev_str = []\n",
    "# for s in test_list:\n",
    "#     print (s)\n",
    "#     rev_str.insert(0,s)\n",
    "# print (rev_str)"
   ]
  },
  {
   "cell_type": "code",
   "execution_count": 59,
   "id": "b829ef6c-cfc4-4896-a5e7-6637ac00dac8",
   "metadata": {},
   "outputs": [],
   "source": [
    "X = [[1,2,3,4],\n",
    "    [4 ,5,6,7],\n",
    "    [7 ,8,9,10]]\n",
    "\n",
    "Y = [[1,8,1],\n",
    "    [3,7,3],\n",
    "    [4,5,9],\n",
    "    [5,7,2]]"
   ]
  },
  {
   "cell_type": "code",
   "execution_count": 57,
   "id": "e0642d1c-e5eb-4e46-b7b2-a8e69294a5a5",
   "metadata": {},
   "outputs": [
    {
     "name": "stdout",
     "output_type": "stream",
     "text": [
      "3 4\n",
      "4 3\n"
     ]
    }
   ],
   "source": [
    "print (len(X),len(X[0]))\n",
    "print (len(Y),len(Y[0]))"
   ]
  },
  {
   "cell_type": "code",
   "execution_count": 77,
   "id": "5746f336-afd8-4a0b-b77b-0206bf47fc28",
   "metadata": {},
   "outputs": [],
   "source": [
    "sum_mat = [[0]* len(X)]* len(Y[0])"
   ]
  },
  {
   "cell_type": "code",
   "execution_count": 93,
   "id": "153fa4e5-63c4-4734-af03-fb6c9370b65d",
   "metadata": {},
   "outputs": [],
   "source": [
    "import numpy as np"
   ]
  },
  {
   "cell_type": "code",
   "execution_count": 97,
   "id": "4347c421-f321-466a-b3b4-1c81d22efdcb",
   "metadata": {},
   "outputs": [
    {
     "data": {
      "text/plain": [
       "array([[ 39,  65,  42],\n",
       "       [ 78, 146,  87],\n",
       "       [117, 227, 132]])"
      ]
     },
     "execution_count": 97,
     "metadata": {},
     "output_type": "execute_result"
    }
   ],
   "source": [
    "np.dot(np.array(X),np.array(Y))"
   ]
  },
  {
   "cell_type": "code",
   "execution_count": 127,
   "id": "0fa4f2a1-bb1c-4aa2-ac9c-327ad990fce0",
   "metadata": {},
   "outputs": [
    {
     "name": "stdout",
     "output_type": "stream",
     "text": [
      "[]\n",
      "[[39, 65, 42]]\n",
      "[[39, 65, 42], [78, 146, 87]]\n",
      "[[39, 65, 42], [78, 146, 87], [117, 227, 132]]\n"
     ]
    }
   ],
   "source": [
    "final_sum = []\n",
    "for row in range(len(X)):\n",
    "    # print (\"row:\",row,X[row]) - 1st pass\n",
    "    sum_row = []\n",
    "    for col in range(len(Y[0])):\n",
    "        # print (\"col\",col) - 1st pass\n",
    "        sum_var = 0\n",
    "        for y_row in range(len(Y)):\n",
    "            # print (\"y row\",y_row,\"val\",Y[y_row][col]) - 1st pass\n",
    "\n",
    "            # print (\"X_val\",X[row][y_row],\"Y val\",Y[y_row][col]) - 2nd pass\n",
    "\n",
    "            sum_var += (X[row][y_row] * Y[y_row][col])\n",
    "'''\n",
    "This was  when we had fixed one row as 0 and then worked on it\n",
    "        #     print (\"index of i\",i,\"x-value\",X[row][i]) - 3rd p\n",
    "        #     print (\"index of y\",i,\"y-value\",Y[i][row])\n",
    "        #     var += (X[row][i] * Y[i][row])\n",
    "        # print (var) - 2nd pass\n",
    "        # print (\"\\n\",sum_var) - 2nd pass\n",
    "'''\n",
    "        sum_row.append(sum_var)\n",
    "    print (final_sum)\n",
    "    final_sum.append(sum_row)\n",
    "    \n",
    "print (final_sum)  "
   ]
  },
  {
   "cell_type": "code",
   "execution_count": null,
   "id": "f412ff46-626b-4ad3-9837-48da7e758091",
   "metadata": {},
   "outputs": [],
   "source": [
    "[1,2,3],\n",
    "1\n",
    "3\n",
    "4"
   ]
  },
  {
   "cell_type": "code",
   "execution_count": null,
   "id": "d2b15cda-c7d0-45f1-8ccb-9bd060ee7da4",
   "metadata": {},
   "outputs": [],
   "source": [
    "X[0][0],X[0][1],X[0][2]\n",
    "Y[0][0],\n",
    "Y[1][0],\n",
    "Y[2][0]"
   ]
  },
  {
   "cell_type": "code",
   "execution_count": null,
   "id": "044b0e9d-87ed-4752-959a-219703a7b7a7",
   "metadata": {},
   "outputs": [],
   "source": []
  }
 ],
 "metadata": {
  "kernelspec": {
   "display_name": "Python 3 (ipykernel)",
   "language": "python",
   "name": "python3"
  },
  "language_info": {
   "codemirror_mode": {
    "name": "ipython",
    "version": 3
   },
   "file_extension": ".py",
   "mimetype": "text/x-python",
   "name": "python",
   "nbconvert_exporter": "python",
   "pygments_lexer": "ipython3",
   "version": "3.11.7"
  }
 },
 "nbformat": 4,
 "nbformat_minor": 5
}
