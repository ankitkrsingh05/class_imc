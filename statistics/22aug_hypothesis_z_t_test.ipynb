{
 "cells": [
  {
   "cell_type": "code",
   "execution_count": null,
   "id": "a72045ce-e5c9-49b0-a54e-eabfdada037d",
   "metadata": {},
   "outputs": [],
   "source": []
  },
  {
   "cell_type": "code",
   "execution_count": null,
   "id": "8ec9a9ef-d8f0-43df-a93b-c907401fcd7e",
   "metadata": {},
   "outputs": [],
   "source": [
    "Statistical method for the comparison of the mean of the two groups of the normally distributed sample(s).\n",
    "\n",
    "It is used when:\n",
    "\n",
    "Population parameter (mean and standard deviation) is not known\n",
    "Sample size (number of observations) < 30"
   ]
  },
  {
   "cell_type": "code",
   "execution_count": null,
   "id": "741ca864-c6d2-41ff-9c78-2933986bf220",
   "metadata": {},
   "outputs": [],
   "source": [
    "Types of t test\n",
    "\n",
    "one sample\n",
    "independent\n",
    "paired\n"
   ]
  }
 ],
 "metadata": {
  "kernelspec": {
   "display_name": "Python 3 (ipykernel)",
   "language": "python",
   "name": "python3"
  },
  "language_info": {
   "codemirror_mode": {
    "name": "ipython",
    "version": 3
   },
   "file_extension": ".py",
   "mimetype": "text/x-python",
   "name": "python",
   "nbconvert_exporter": "python",
   "pygments_lexer": "ipython3",
   "version": "3.11.7"
  }
 },
 "nbformat": 4,
 "nbformat_minor": 5
}
