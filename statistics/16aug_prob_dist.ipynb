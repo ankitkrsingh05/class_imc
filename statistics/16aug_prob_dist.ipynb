{
 "cells": [
  {
   "cell_type": "code",
   "execution_count": null,
   "id": "ccd0a1b3-5faf-47b1-bf55-3fa34534f9c1",
   "metadata": {},
   "outputs": [],
   "source": [
    "In a survey among few people, 60% read Hindi newspaper, 40% read English newspaper and 20% read both. If a person is chosen at random and if he already reads English newspaper find the probability that he also reads Hindi newspaper."
   ]
  },
  {
   "cell_type": "code",
   "execution_count": null,
   "id": "811ca5a8-ff28-485e-9368-04216b6afed5",
   "metadata": {},
   "outputs": [],
   "source": [
    "Two dice are rolled, if it is known that atleast one of the dice always shows 4, find the probability that the numbers appeared on the dice have a sum 8."
   ]
  },
  {
   "cell_type": "code",
   "execution_count": null,
   "id": "51c14497-ddc6-467a-a729-a15fd652d1d3",
   "metadata": {},
   "outputs": [],
   "source": [
    "A bag contains 3 red and 7 black balls. Two balls are drawn at randon without replacement. If the second ball is red, what is the probability that the first ball is also red?"
   ]
  },
  {
   "cell_type": "code",
   "execution_count": null,
   "id": "64d911b8-2996-40c0-a1fb-d3fb553f07bf",
   "metadata": {},
   "outputs": [],
   "source": [
    "A die is rolled. Find the conditional probability that it shows a three if it is known that an odd number has shown."
   ]
  },
  {
   "cell_type": "code",
   "execution_count": null,
   "id": "3d442f15-20b9-4ea7-87e3-a63d4a9b29ba",
   "metadata": {},
   "outputs": [],
   "source": [
    "Plan for the day\n",
    "\n",
    "Random variables\n",
    "probability distribution\n",
    "double die : crosstab\n",
    "\n",
    "distribution\n",
    "function\n",
    "pdf\n",
    "cdf\n",
    "    in function perspective f(x<=4)\n",
    "Pmf\n",
    "prob density finction\n",
    "\n",
    "\n",
    "density estimation\n",
    "    paramateric\n",
    "    non prametric"
   ]
  },
  {
   "cell_type": "code",
   "execution_count": 1,
   "id": "f015ef2b-14f8-4cb0-9cd8-aebb97d4b770",
   "metadata": {},
   "outputs": [],
   "source": [
    "import numpy as np\n",
    "import pandas as pd"
   ]
  },
  {
   "cell_type": "code",
   "execution_count": null,
   "id": "6ae5b561-e569-43ba-9a1e-62031b32344b",
   "metadata": {},
   "outputs": [],
   "source": []
  },
  {
   "cell_type": "code",
   "execution_count": null,
   "id": "0dc48cde-784f-4fb0-8dff-287871f72f25",
   "metadata": {},
   "outputs": [],
   "source": [
    "def trial_diceroll():\n",
    "    outcome=np.randomrand_int"
   ]
  },
  {
   "cell_type": "code",
   "execution_count": null,
   "id": "227dbe74-21e7-4fa7-9b4a-1545b36a8db9",
   "metadata": {},
   "outputs": [],
   "source": [
    "dice_roll_2=[]\n",
    "for i in range(1000):\n",
    "    dice_roll_2.apend(trial_diceroll()+trial_diceroll"
   ]
  },
  {
   "cell_type": "code",
   "execution_count": null,
   "id": "ebeeea21-71b7-49e0-9b09-8394ee9f5c88",
   "metadata": {},
   "outputs": [],
   "source": [
    "# conditional prob:p(A|b given)=p(a and b)/p(b)\n",
    "=p(prob of 3|it is odd no)="
   ]
  },
  {
   "cell_type": "code",
   "execution_count": null,
   "id": "93ef8438-3a4b-4b9d-9efa-a9a6cb02888c",
   "metadata": {},
   "outputs": [],
   "source": []
  },
  {
   "cell_type": "code",
   "execution_count": 4,
   "id": "73d12087-8d55-4414-8ab4-fc956cdbd839",
   "metadata": {},
   "outputs": [],
   "source": [
    "import matplotlib.pyplot as plt\n",
    "import numpy as np\n",
    "from numpy.random import normal\n",
    "\n",
    "sample = normal(loc=50, scale=5,size=1000)"
   ]
  },
  {
   "cell_type": "code",
   "execution_count": null,
   "id": "f2404d7a-ffdc-4ba5-beb6-82f615cc510b",
   "metadata": {},
   "outputs": [],
   "source": [
    "sample.mean()"
   ]
  },
  {
   "cell_type": "code",
   "execution_count": null,
   "id": "7c5331b7-18e7-4f6b-b28f-7cf832e7565c",
   "metadata": {},
   "outputs": [],
   "source": [
    "# calculate sample mean and sample std dev\n",
    "sample_mean = sample.mean()\n",
    "sample_std = sample.std()"
   ]
  },
  {
   "cell_type": "code",
   "execution_count": null,
   "id": "86daffec-add3-4999-8717-580496871de5",
   "metadata": {},
   "outputs": [],
   "source": [
    "# fit the distribution with the above parameters\n",
    "\n",
    "from scipy.stats import norm\n",
    "dist = norm(60, 12)"
   ]
  },
  {
   "cell_type": "code",
   "execution_count": null,
   "id": "271ccdd9-d475-4086-a10b-db05f91f75dd",
   "metadata": {},
   "outputs": [],
   "source": [
    "values = np.linspace(sample.min(),sample.max(),100)"
   ]
  },
  {
   "cell_type": "code",
   "execution_count": null,
   "id": "0c4d3688-58d5-458d-9f9f-b66c95ea2e99",
   "metadata": {},
   "outputs": [],
   "source": [
    "sample.max()"
   ]
  },
  {
   "cell_type": "code",
   "execution_count": null,
   "id": "7a37dc5f-e515-4207-88ab-ac2c524b11e2",
   "metadata": {},
   "outputs": [],
   "source": [
    "probabilities = [dist.pdf(value) for value in values]"
   ]
  },
  {
   "cell_type": "code",
   "execution_count": null,
   "id": "5abe7f26-f597-4c62-8c86-9422c62c4d6b",
   "metadata": {},
   "outputs": [],
   "source": [
    "# plot the histogram and pdf\n",
    "plt.hist(sample,bins=10,density=True)\n",
    "plt.plot(values,probabilities)"
   ]
  },
  {
   "cell_type": "code",
   "execution_count": null,
   "id": "e79887b0-5018-4f9e-8398-03e435845ae8",
   "metadata": {},
   "outputs": [],
   "source": [
    "import seaborn as sns\n",
    "sns.distplot(sample)"
   ]
  },
  {
   "cell_type": "code",
   "execution_count": 2,
   "id": "16b9b5e1-e1ab-4e08-bea2-48dfaf393806",
   "metadata": {},
   "outputs": [],
   "source": [
    "# 17 august\n"
   ]
  },
  {
   "cell_type": "code",
   "execution_count": 11,
   "id": "f7c5975f-49ea-44c1-a793-78391f33996a",
   "metadata": {},
   "outputs": [],
   "source": [
    "import numpy as np"
   ]
  },
  {
   "cell_type": "code",
   "execution_count": 12,
   "id": "c9b87a9b-3ee1-4046-9c8b-20c80d85a392",
   "metadata": {},
   "outputs": [],
   "source": [
    "sample  = np.random.randint(1,50,1000)"
   ]
  },
  {
   "cell_type": "code",
   "execution_count": 13,
   "id": "7c69e50e-f8d6-4d34-823a-6fa99fb6f9fa",
   "metadata": {},
   "outputs": [
    {
     "data": {
      "text/plain": [
       "array([29, 25,  3, 29, 29,  9, 38, 20, 33,  8, 29, 14, 38, 10, 10,  3, 42,\n",
       "       44, 26, 25, 40, 37,  2,  4, 38,  5, 39, 28, 44,  8, 25, 12, 12,  8,\n",
       "       26, 12, 19,  1, 16, 18, 25, 26, 45, 24, 10, 22, 35, 34, 10, 33, 48,\n",
       "       11, 27, 11, 32, 22, 14, 20, 34,  4,  9, 24, 30,  7, 21, 11, 23,  8,\n",
       "       44, 37, 30, 46, 22,  9, 30, 28, 21, 35, 30, 40,  7, 11, 11, 19, 14,\n",
       "       33, 42, 36, 10, 23, 46, 46, 40, 17,  3, 10, 10, 47,  5, 41, 26, 32,\n",
       "       16, 19,  2, 39,  6, 41, 21, 19,  4, 33,  2, 30, 26, 36, 15, 45, 10,\n",
       "       19,  8, 11, 21, 15, 36, 20, 25, 20, 14, 46, 40, 37, 21, 16, 30, 32,\n",
       "       20, 38, 21, 38, 43, 43,  2, 22, 45, 38, 35, 25,  7, 29,  2, 41, 34,\n",
       "        9, 48, 17, 19, 43, 34,  4, 12, 44,  4,  7, 24, 16, 26,  4, 38, 14,\n",
       "       46, 22, 21, 17, 35, 18, 31,  2, 23, 43, 16, 22, 46, 41, 10, 38,  7,\n",
       "       36, 36, 22, 19, 37, 29, 14, 12, 11, 13, 26,  8, 10, 16, 18, 45, 34,\n",
       "        3, 21, 24,  4, 28,  7, 42, 41, 25, 25, 40,  1, 46, 45, 16, 22, 37,\n",
       "        9, 25,  8, 30, 10, 15, 27, 28, 31, 45, 15, 13, 37, 17, 31, 27, 22,\n",
       "       45, 32, 45, 46, 44, 41,  8,  1,  5, 34, 12, 27, 42, 18, 22, 43, 17,\n",
       "        1, 35, 31,  1, 24, 27,  9, 22,  5, 39, 26, 42, 15, 44, 45, 43, 42,\n",
       "        8, 30, 25,  6,  1,  1, 13, 36, 28, 35, 32, 48, 47, 30, 41, 28,  2,\n",
       "       10, 15, 30, 31, 20, 15, 27, 17, 18, 39, 21, 42, 38, 25, 10, 27, 18,\n",
       "       27, 48, 27, 46, 33, 13, 18, 47, 45, 40, 45,  3,  6,  3, 39, 12,  5,\n",
       "        4, 15, 21, 45, 41, 46, 21,  3, 17, 36,  2, 48,  8, 23,  3, 12, 43,\n",
       "        5, 15, 30, 45, 42,  4,  6, 23, 11, 42, 15, 18,  6, 29, 38, 13,  8,\n",
       "       17,  5,  3,  5, 41, 35, 44,  2, 10, 39, 14, 12, 20, 25, 17,  9, 10,\n",
       "       19, 35, 49, 30,  1, 25, 40, 23, 47, 45, 19, 15, 39, 10, 14, 39, 38,\n",
       "       28, 22, 42,  7, 39, 40, 23, 16,  3, 32,  9, 37, 20, 22,  8, 11, 26,\n",
       "       18, 35, 31, 33, 29,  7, 12, 37, 34, 26, 32, 17, 19, 48, 41, 38,  7,\n",
       "        6, 33, 28,  3, 40, 39,  8,  1,  8, 25, 44,  8, 12, 23, 26, 23, 36,\n",
       "       14,  6, 28, 45, 43, 41, 12,  7,  9, 29, 40, 47,  3, 43, 33, 18, 32,\n",
       "       45, 42, 11, 22, 36, 20,  1, 16, 20, 17, 32, 46, 26, 41, 39, 45,  9,\n",
       "       49, 12, 32,  6, 41, 15, 31, 42,  2, 48,  4, 45, 25, 49, 24, 24, 19,\n",
       "       20, 31, 28, 44, 20,  4,  3,  4,  1,  1, 46, 41, 32, 23, 24, 29, 39,\n",
       "       27, 21, 45, 13, 37, 29, 34, 25, 40, 11, 46, 35, 48, 26, 33, 17, 29,\n",
       "       41, 12,  9, 34, 43, 32, 32,  9, 23, 45, 34,  3, 29, 36, 26, 42, 37,\n",
       "       39, 18, 34, 34,  8, 21, 43, 15,  9, 28, 33, 17, 32, 18, 47, 40,  2,\n",
       "       34, 14,  5, 30, 11, 27, 40, 14, 24, 21,  5, 26, 19, 15, 24,  3, 46,\n",
       "       45, 36, 42, 22, 39, 36, 34, 19,  2,  8, 11, 41, 40,  2, 17, 34,  4,\n",
       "       16, 31, 24, 33, 46, 48, 48, 42, 24, 13, 16,  7, 28,  6, 34, 22,  2,\n",
       "        2, 28,  5,  6, 33, 34, 43, 19,  1, 28, 45, 11, 10,  3, 15, 46, 49,\n",
       "       13, 45, 17, 19, 12, 26, 28,  2, 20, 36, 39,  8,  6, 34, 23, 44, 40,\n",
       "       19, 22, 24, 15, 12,  3,  2, 10,  2, 35, 30, 46,  9, 29, 15, 22, 14,\n",
       "       49, 12, 28, 36, 20, 18, 44,  5, 13, 32, 47,  3, 20,  1, 49, 18,  5,\n",
       "       30, 30, 43, 38, 48, 18, 39, 45, 33,  6, 17, 33, 33,  1, 15, 46, 43,\n",
       "       35, 33,  7, 22, 38, 35, 25, 43, 31, 10,  9, 47, 11, 30, 19, 33, 46,\n",
       "       37,  9, 19,  6, 43, 49, 22, 45, 25, 19, 34, 31, 28, 39,  3,  8, 40,\n",
       "       28, 44, 33,  4, 46, 27, 29, 36,  8, 45, 33, 25, 34,  8, 39, 41, 18,\n",
       "       40, 29, 13, 15, 29, 14,  7, 46, 38, 26, 18, 11, 44, 39, 40, 40, 39,\n",
       "       14,  8,  2, 21, 46, 45, 41, 48, 17, 11, 33, 33, 28, 17,  3, 44, 10,\n",
       "       17, 22, 27,  4,  7, 44, 29, 34, 38,  7, 47, 16,  6, 11, 48,  9,  1,\n",
       "       10, 42, 36, 34, 38,  3, 15, 15, 23, 32, 17, 46, 38, 12, 38,  8, 16,\n",
       "       29, 15, 22, 44,  7, 10, 16, 12, 15,  9, 30, 30, 15, 45, 13, 19, 15,\n",
       "        5, 37, 20, 28, 21, 22, 13, 37, 46, 13, 31, 12, 11, 35, 16, 21, 27,\n",
       "       14, 35, 48, 39, 13, 24,  5, 16, 43, 10, 11, 12, 48, 34,  7, 45,  7,\n",
       "       26, 19, 29, 40, 13,  2, 24, 11, 11, 20, 30, 34, 11, 32, 25, 29, 43,\n",
       "       47, 25, 26, 23, 13, 19, 24, 34,  1, 34, 34, 46, 29, 45,  8,  3,  7,\n",
       "       42, 28, 46, 45,  8, 39, 40, 41, 22, 10, 13, 37,  1, 48,  8,  2, 36,\n",
       "       40, 20,  4, 37, 21, 15,  8, 25, 13, 15,  9, 40, 22, 35, 40, 30, 11,\n",
       "       37, 39,  1, 23,  9, 36, 40, 46, 45, 49, 11, 46, 36, 40, 46, 24, 16,\n",
       "        8, 22,  3, 29, 15, 42,  4, 38, 17,  5, 48, 47, 31, 35, 29, 38, 27,\n",
       "       45, 45, 17,  9,  2, 13, 39, 36, 28, 27, 47, 33,  2, 31, 22, 14, 39,\n",
       "       16, 37, 46, 43, 44, 42,  4, 37, 16,  7, 32, 34, 48, 17])"
      ]
     },
     "execution_count": 13,
     "metadata": {},
     "output_type": "execute_result"
    }
   ],
   "source": [
    "sample"
   ]
  },
  {
   "cell_type": "code",
   "execution_count": 18,
   "id": "55965eb6-3e99-45f9-bc4f-8a26805ff2a1",
   "metadata": {},
   "outputs": [
    {
     "data": {
      "text/html": [
       "<style>#sk-container-id-3 {color: black;background-color: white;}#sk-container-id-3 pre{padding: 0;}#sk-container-id-3 div.sk-toggleable {background-color: white;}#sk-container-id-3 label.sk-toggleable__label {cursor: pointer;display: block;width: 100%;margin-bottom: 0;padding: 0.3em;box-sizing: border-box;text-align: center;}#sk-container-id-3 label.sk-toggleable__label-arrow:before {content: \"▸\";float: left;margin-right: 0.25em;color: #696969;}#sk-container-id-3 label.sk-toggleable__label-arrow:hover:before {color: black;}#sk-container-id-3 div.sk-estimator:hover label.sk-toggleable__label-arrow:before {color: black;}#sk-container-id-3 div.sk-toggleable__content {max-height: 0;max-width: 0;overflow: hidden;text-align: left;background-color: #f0f8ff;}#sk-container-id-3 div.sk-toggleable__content pre {margin: 0.2em;color: black;border-radius: 0.25em;background-color: #f0f8ff;}#sk-container-id-3 input.sk-toggleable__control:checked~div.sk-toggleable__content {max-height: 200px;max-width: 100%;overflow: auto;}#sk-container-id-3 input.sk-toggleable__control:checked~label.sk-toggleable__label-arrow:before {content: \"▾\";}#sk-container-id-3 div.sk-estimator input.sk-toggleable__control:checked~label.sk-toggleable__label {background-color: #d4ebff;}#sk-container-id-3 div.sk-label input.sk-toggleable__control:checked~label.sk-toggleable__label {background-color: #d4ebff;}#sk-container-id-3 input.sk-hidden--visually {border: 0;clip: rect(1px 1px 1px 1px);clip: rect(1px, 1px, 1px, 1px);height: 1px;margin: -1px;overflow: hidden;padding: 0;position: absolute;width: 1px;}#sk-container-id-3 div.sk-estimator {font-family: monospace;background-color: #f0f8ff;border: 1px dotted black;border-radius: 0.25em;box-sizing: border-box;margin-bottom: 0.5em;}#sk-container-id-3 div.sk-estimator:hover {background-color: #d4ebff;}#sk-container-id-3 div.sk-parallel-item::after {content: \"\";width: 100%;border-bottom: 1px solid gray;flex-grow: 1;}#sk-container-id-3 div.sk-label:hover label.sk-toggleable__label {background-color: #d4ebff;}#sk-container-id-3 div.sk-serial::before {content: \"\";position: absolute;border-left: 1px solid gray;box-sizing: border-box;top: 0;bottom: 0;left: 50%;z-index: 0;}#sk-container-id-3 div.sk-serial {display: flex;flex-direction: column;align-items: center;background-color: white;padding-right: 0.2em;padding-left: 0.2em;position: relative;}#sk-container-id-3 div.sk-item {position: relative;z-index: 1;}#sk-container-id-3 div.sk-parallel {display: flex;align-items: stretch;justify-content: center;background-color: white;position: relative;}#sk-container-id-3 div.sk-item::before, #sk-container-id-3 div.sk-parallel-item::before {content: \"\";position: absolute;border-left: 1px solid gray;box-sizing: border-box;top: 0;bottom: 0;left: 50%;z-index: -1;}#sk-container-id-3 div.sk-parallel-item {display: flex;flex-direction: column;z-index: 1;position: relative;background-color: white;}#sk-container-id-3 div.sk-parallel-item:first-child::after {align-self: flex-end;width: 50%;}#sk-container-id-3 div.sk-parallel-item:last-child::after {align-self: flex-start;width: 50%;}#sk-container-id-3 div.sk-parallel-item:only-child::after {width: 0;}#sk-container-id-3 div.sk-dashed-wrapped {border: 1px dashed gray;margin: 0 0.4em 0.5em 0.4em;box-sizing: border-box;padding-bottom: 0.4em;background-color: white;}#sk-container-id-3 div.sk-label label {font-family: monospace;font-weight: bold;display: inline-block;line-height: 1.2em;}#sk-container-id-3 div.sk-label-container {text-align: center;}#sk-container-id-3 div.sk-container {/* jupyter's `normalize.less` sets `[hidden] { display: none; }` but bootstrap.min.css set `[hidden] { display: none !important; }` so we also need the `!important` here to be able to override the default hidden behavior on the sphinx rendered scikit-learn.org. See: https://github.com/scikit-learn/scikit-learn/issues/21755 */display: inline-block !important;position: relative;}#sk-container-id-3 div.sk-text-repr-fallback {display: none;}</style><div id=\"sk-container-id-3\" class=\"sk-top-container\"><div class=\"sk-text-repr-fallback\"><pre>KernelDensity(bandwidth=1)</pre><b>In a Jupyter environment, please rerun this cell to show the HTML representation or trust the notebook. <br />On GitHub, the HTML representation is unable to render, please try loading this page with nbviewer.org.</b></div><div class=\"sk-container\" hidden><div class=\"sk-item\"><div class=\"sk-estimator sk-toggleable\"><input class=\"sk-toggleable__control sk-hidden--visually\" id=\"sk-estimator-id-3\" type=\"checkbox\" checked><label for=\"sk-estimator-id-3\" class=\"sk-toggleable__label sk-toggleable__label-arrow\">KernelDensity</label><div class=\"sk-toggleable__content\"><pre>KernelDensity(bandwidth=1)</pre></div></div></div></div></div>"
      ],
      "text/plain": [
       "KernelDensity(bandwidth=1)"
      ]
     },
     "execution_count": 18,
     "metadata": {},
     "output_type": "execute_result"
    }
   ],
   "source": [
    "from sklearn.neighbors import KernelDensity\n",
    "\n",
    "model = KernelDensity(bandwidth=1, kernel='gaussian')\n",
    "\n",
    "# convert data to a 2D array\n",
    "sample = sample.reshape((len(sample), 1))\n",
    "\n",
    "model.fit(sample)"
   ]
  },
  {
   "cell_type": "code",
   "execution_count": 19,
   "id": "6cbf18d2-7554-49bb-825c-1e2aef11265b",
   "metadata": {},
   "outputs": [],
   "source": [
    "values = np.linspace(sample.min(),sample.max(),100)\n",
    "values = values.reshape((len(values), 1))"
   ]
  },
  {
   "cell_type": "code",
   "execution_count": 20,
   "id": "d9e05554-e101-4e19-b0e4-a0d4b1174984",
   "metadata": {},
   "outputs": [],
   "source": [
    "probabilities = model.score_samples(values)\n",
    "probabilities = np.exp(probabilities)"
   ]
  },
  {
   "cell_type": "code",
   "execution_count": 21,
   "id": "566606e2-fee8-4c88-b933-5d12d135204d",
   "metadata": {},
   "outputs": [
    {
     "data": {
      "image/png": "[encoded data removed]",
      "text/plain": [
       "<Figure size 640x480 with 1 Axes>"
      ]
     },
     "metadata": {},
     "output_type": "display_data"
    }
   ],
   "source": [
    "plt.hist(sample, bins=50, density=True)\n",
    "plt.plot(values[:], probabilities)\n",
    "plt.show()"
   ]
  },
  {
   "cell_type": "code",
   "execution_count": 9,
   "id": "d995c70d-48c8-4cd7-b3a3-2220a870875b",
   "metadata": {},
   "outputs": [
    {
     "ename": "NameError",
     "evalue": "name 'sns' is not defined",
     "output_type": "error",
     "traceback": [
      "\u001b[0;31m---------------------------------------------------------------------------\u001b[0m",
      "\u001b[0;31mNameError\u001b[0m                                 Traceback (most recent call last)",
      "Cell \u001b[0;32mIn[9], line 1\u001b[0m\n\u001b[0;32m----> 1\u001b[0m sns\u001b[38;5;241m.\u001b[39mkdeplot(sample\u001b[38;5;241m.\u001b[39mreshape(\u001b[38;5;241m1000\u001b[39m),bw_adjust\u001b[38;5;241m=\u001b[39m\u001b[38;5;241m0.02\u001b[39m)\n",
      "\u001b[0;31mNameError\u001b[0m: name 'sns' is not defined"
     ]
    }
   ],
   "source": [
    "sns.kdeplot(sample.reshape(1000),bw_adjust=0.02)"
   ]
  },
  {
   "cell_type": "code",
   "execution_count": null,
   "id": "61116216-51d4-4375-bfba-fa58956040ae",
   "metadata": {},
   "outputs": [],
   "source": []
  }
 ],
 "metadata": {
  "kernelspec": {
   "display_name": "Python 3 (ipykernel)",
   "language": "python",
   "name": "python3"
  },
  "language_info": {
   "codemirror_mode": {
    "name": "ipython",
    "version": 3
   },
   "file_extension": ".py",
   "mimetype": "text/x-python",
   "name": "python",
   "nbconvert_exporter": "python",
   "pygments_lexer": "ipython3",
   "version": "3.11.7"
  }
 },
 "nbformat": 4,
 "nbformat_minor": 5
}
