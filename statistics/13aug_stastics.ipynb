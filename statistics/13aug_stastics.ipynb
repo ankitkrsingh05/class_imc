{
 "cells": [
  {
   "cell_type": "code",
   "execution_count": null,
   "id": "5bfd01ec-8ab5-4221-85e0-180398085728",
   "metadata": {},
   "outputs": [],
   "source": [
    "# measure of dispersion\n"
   ]
  },
  {
   "cell_type": "code",
   "execution_count": null,
   "id": "8de58efe-a443-492e-92a2-6763493dc2de",
   "metadata": {},
   "outputs": [],
   "source": [
    "# variance:\n",
    "    # it is a measure of dispersion which tells us \n",
    "    # that how far are the data points spread across the mean\n",
    "\n",
    "\n"
   ]
  },
  {
   "cell_type": "code",
   "execution_count": 3,
   "id": "96f7f3ee-3005-4a28-b2d9-11fa819e5287",
   "metadata": {},
   "outputs": [],
   "source": [
    "import pandas as pd"
   ]
  },
  {
   "cell_type": "code",
   "execution_count": 4,
   "id": "6fcc0642-89d3-4021-8dd9-504501e41118",
   "metadata": {},
   "outputs": [],
   "source": [
    "data = pd.Series([1,2,3,4,5,5,6,6,7,7,54,3,2,2,22,34,5])\n"
   ]
  },
  {
   "cell_type": "code",
   "execution_count": 5,
   "id": "de8781cd-e728-4bc9-9056-ecdc6bbb3d27",
   "metadata": {},
   "outputs": [
    {
     "data": {
      "text/plain": [
       "0      1\n",
       "1      2\n",
       "2      3\n",
       "3      4\n",
       "4      5\n",
       "5      5\n",
       "6      6\n",
       "7      6\n",
       "8      7\n",
       "9      7\n",
       "10    54\n",
       "11     3\n",
       "12     2\n",
       "13     2\n",
       "14    22\n",
       "15    34\n",
       "16     5\n",
       "dtype: int64"
      ]
     },
     "execution_count": 5,
     "metadata": {},
     "output_type": "execute_result"
    }
   ],
   "source": [
    "data"
   ]
  },
  {
   "cell_type": "code",
   "execution_count": 6,
   "id": "4a20ab63-873b-4cd3-a16e-102cfb59fe85",
   "metadata": {},
   "outputs": [],
   "source": [
    "x_mean  = data.mean()"
   ]
  },
  {
   "cell_type": "code",
   "execution_count": 7,
   "id": "815bfed9-07f1-40bc-8050-16b51525cd52",
   "metadata": {},
   "outputs": [
    {
     "data": {
      "text/plain": [
       "9.882352941176471"
      ]
     },
     "execution_count": 7,
     "metadata": {},
     "output_type": "execute_result"
    }
   ],
   "source": [
    "x_mean"
   ]
  },
  {
   "cell_type": "code",
   "execution_count": 32,
   "id": "41465f19-a897-421b-84b9-12b1e6f33827",
   "metadata": {},
   "outputs": [],
   "source": [
    "# (data - x_mean)**2\n",
    "sample_variance = sum(pow((data - x_mean),2))/(len(data)-1)\n",
    "population_variance = sum(pow((data - x_mean),2))/(len(data))"
   ]
  },
  {
   "cell_type": "code",
   "execution_count": 33,
   "id": "b767e283-84e4-43f6-9f76-7dddbb8c8a1c",
   "metadata": {},
   "outputs": [
    {
     "data": {
      "text/plain": [
       "(199.2352941176471, 187.5155709342561)"
      ]
     },
     "execution_count": 33,
     "metadata": {},
     "output_type": "execute_result"
    }
   ],
   "source": [
    "sample_variance,population_variance"
   ]
  },
  {
   "cell_type": "code",
   "execution_count": 36,
   "id": "76c0d773-9512-400b-9c3d-e5f4e7f60d3d",
   "metadata": {},
   "outputs": [],
   "source": [
    "population_var = data.var(ddof=0)\n",
    "sample_var = data.var()"
   ]
  },
  {
   "cell_type": "code",
   "execution_count": 37,
   "id": "209e3adb-9352-4949-b55b-7cc3669182d3",
   "metadata": {},
   "outputs": [
    {
     "data": {
      "text/plain": [
       "(187.5155709342561, 199.2352941176471)"
      ]
     },
     "execution_count": 37,
     "metadata": {},
     "output_type": "execute_result"
    }
   ],
   "source": [
    "population_var,sample_var"
   ]
  },
  {
   "cell_type": "code",
   "execution_count": 38,
   "id": "017259da-6b7d-4210-8cb6-2a96c111c1c2",
   "metadata": {},
   "outputs": [
    {
     "data": {
      "text/plain": [
       "14.115073294802514"
      ]
     },
     "execution_count": 38,
     "metadata": {},
     "output_type": "execute_result"
    }
   ],
   "source": [
    "data.std()"
   ]
  },
  {
   "cell_type": "code",
   "execution_count": 27,
   "id": "9fec5e23-f11a-4091-8569-5c4e0e23d394",
   "metadata": {},
   "outputs": [],
   "source": [
    "from math import sqrt"
   ]
  },
  {
   "cell_type": "code",
   "execution_count": 41,
   "id": "cf418cf2-8cbc-4ebc-ab27-a6d443195227",
   "metadata": {},
   "outputs": [
    {
     "data": {
      "text/plain": [
       "13.693632495954319"
      ]
     },
     "execution_count": 41,
     "metadata": {},
     "output_type": "execute_result"
    }
   ],
   "source": [
    "sqrt(sample_var)\n",
    "sqrt(population_var)"
   ]
  },
  {
   "cell_type": "code",
   "execution_count": 44,
   "id": "bf704881-e1bb-4fe6-b33e-6301988d5d8d",
   "metadata": {},
   "outputs": [],
   "source": [
    "import seaborn as sns"
   ]
  },
  {
   "cell_type": "code",
   "execution_count": 46,
   "id": "d93018f9-1747-41a7-b13f-8e09cfadf063",
   "metadata": {},
   "outputs": [],
   "source": [
    "titanic_df = sns.load_dataset('titanic')"
   ]
  },
  {
   "cell_type": "code",
   "execution_count": 47,
   "id": "bd47ba1e-80a8-468c-a454-eab733fa96f5",
   "metadata": {},
   "outputs": [
    {
     "data": {
      "text/plain": [
       "Index(['survived', 'pclass', 'sex', 'age', 'sibsp', 'parch', 'fare',\n",
       "       'embarked', 'class', 'who', 'adult_male', 'deck', 'embark_town',\n",
       "       'alive', 'alone'],\n",
       "      dtype='object')"
      ]
     },
     "execution_count": 47,
     "metadata": {},
     "output_type": "execute_result"
    }
   ],
   "source": [
    "titanic_df.columns"
   ]
  },
  {
   "cell_type": "code",
   "execution_count": 55,
   "id": "d8f7df8a-1b71-474a-bb4a-e0aaf6cee319",
   "metadata": {},
   "outputs": [],
   "source": [
    "cv_age = (titanic_df.age.std()/titanic_df.age.mean()) * 100"
   ]
  },
  {
   "cell_type": "code",
   "execution_count": 54,
   "id": "5e0e7be6-28c3-4ba3-aa78-dc54b7590e18",
   "metadata": {},
   "outputs": [],
   "source": [
    "cv_fare = (titanic_df.fare.std()/titanic_df.fare.mean()) * 100"
   ]
  },
  {
   "cell_type": "code",
   "execution_count": 56,
   "id": "7ee0cc9b-3335-4c97-bc98-1733538a92e5",
   "metadata": {},
   "outputs": [
    {
     "data": {
      "text/plain": [
       "(48.912218554656754, 154.307252784085)"
      ]
     },
     "execution_count": 56,
     "metadata": {},
     "output_type": "execute_result"
    }
   ],
   "source": [
    "cv_age,cv_fare"
   ]
  },
  {
   "cell_type": "code",
   "execution_count": 53,
   "id": "f60ad631-5b32-4150-bb8c-50144899c8a5",
   "metadata": {},
   "outputs": [
    {
     "data": {
      "text/plain": [
       "(0      1\n",
       " 1      2\n",
       " 2      3\n",
       " 3      4\n",
       " 4      5\n",
       " 5      5\n",
       " 6      6\n",
       " 7      6\n",
       " 8      7\n",
       " 9      7\n",
       " 10    54\n",
       " 11     3\n",
       " 12     2\n",
       " 13     2\n",
       " 14    22\n",
       " 15    34\n",
       " 16     5\n",
       " dtype: int64,\n",
       " 0     0.101190\n",
       " 1     0.202381\n",
       " 2     0.303571\n",
       " 3     0.404762\n",
       " 4     0.505952\n",
       " 5     0.505952\n",
       " 6     0.607143\n",
       " 7     0.607143\n",
       " 8     0.708333\n",
       " 9     0.708333\n",
       " 10    5.464286\n",
       " 11    0.303571\n",
       " 12    0.202381\n",
       " 13    0.202381\n",
       " 14    2.226190\n",
       " 15    3.440476\n",
       " 16    0.505952\n",
       " dtype: float64)"
      ]
     },
     "execution_count": 53,
     "metadata": {},
     "output_type": "execute_result"
    }
   ],
   "source": [
    "data,data/data.mean()"
   ]
  },
  {
   "cell_type": "code",
   "execution_count": 57,
   "id": "84806d2a-6d56-4915-8b54-a6668416340b",
   "metadata": {},
   "outputs": [
    {
     "data": {
      "text/html": [
       "<div>\n",
       "<style scoped>\n",
       "    .dataframe tbody tr th:only-of-type {\n",
       "        vertical-align: middle;\n",
       "    }\n",
       "\n",
       "    .dataframe tbody tr th {\n",
       "        vertical-align: top;\n",
       "    }\n",
       "\n",
       "    .dataframe thead th {\n",
       "        text-align: right;\n",
       "    }\n",
       "</style>\n",
       "<table border=\"1\" class=\"dataframe\">\n",
       "  <thead>\n",
       "    <tr style=\"text-align: right;\">\n",
       "      <th></th>\n",
       "      <th>survived</th>\n",
       "      <th>pclass</th>\n",
       "      <th>sex</th>\n",
       "      <th>age</th>\n",
       "      <th>sibsp</th>\n",
       "      <th>parch</th>\n",
       "      <th>fare</th>\n",
       "      <th>embarked</th>\n",
       "      <th>class</th>\n",
       "      <th>who</th>\n",
       "      <th>adult_male</th>\n",
       "      <th>deck</th>\n",
       "      <th>embark_town</th>\n",
       "      <th>alive</th>\n",
       "      <th>alone</th>\n",
       "    </tr>\n",
       "  </thead>\n",
       "  <tbody>\n",
       "    <tr>\n",
       "      <th>0</th>\n",
       "      <td>0</td>\n",
       "      <td>3</td>\n",
       "      <td>male</td>\n",
       "      <td>22.0</td>\n",
       "      <td>1</td>\n",
       "      <td>0</td>\n",
       "      <td>7.2500</td>\n",
       "      <td>S</td>\n",
       "      <td>Third</td>\n",
       "      <td>man</td>\n",
       "      <td>True</td>\n",
       "      <td>NaN</td>\n",
       "      <td>Southampton</td>\n",
       "      <td>no</td>\n",
       "      <td>False</td>\n",
       "    </tr>\n",
       "    <tr>\n",
       "      <th>1</th>\n",
       "      <td>1</td>\n",
       "      <td>1</td>\n",
       "      <td>female</td>\n",
       "      <td>38.0</td>\n",
       "      <td>1</td>\n",
       "      <td>0</td>\n",
       "      <td>71.2833</td>\n",
       "      <td>C</td>\n",
       "      <td>First</td>\n",
       "      <td>woman</td>\n",
       "      <td>False</td>\n",
       "      <td>C</td>\n",
       "      <td>Cherbourg</td>\n",
       "      <td>yes</td>\n",
       "      <td>False</td>\n",
       "    </tr>\n",
       "    <tr>\n",
       "      <th>2</th>\n",
       "      <td>1</td>\n",
       "      <td>3</td>\n",
       "      <td>female</td>\n",
       "      <td>26.0</td>\n",
       "      <td>0</td>\n",
       "      <td>0</td>\n",
       "      <td>7.9250</td>\n",
       "      <td>S</td>\n",
       "      <td>Third</td>\n",
       "      <td>woman</td>\n",
       "      <td>False</td>\n",
       "      <td>NaN</td>\n",
       "      <td>Southampton</td>\n",
       "      <td>yes</td>\n",
       "      <td>True</td>\n",
       "    </tr>\n",
       "    <tr>\n",
       "      <th>3</th>\n",
       "      <td>1</td>\n",
       "      <td>1</td>\n",
       "      <td>female</td>\n",
       "      <td>35.0</td>\n",
       "      <td>1</td>\n",
       "      <td>0</td>\n",
       "      <td>53.1000</td>\n",
       "      <td>S</td>\n",
       "      <td>First</td>\n",
       "      <td>woman</td>\n",
       "      <td>False</td>\n",
       "      <td>C</td>\n",
       "      <td>Southampton</td>\n",
       "      <td>yes</td>\n",
       "      <td>False</td>\n",
       "    </tr>\n",
       "    <tr>\n",
       "      <th>4</th>\n",
       "      <td>0</td>\n",
       "      <td>3</td>\n",
       "      <td>male</td>\n",
       "      <td>35.0</td>\n",
       "      <td>0</td>\n",
       "      <td>0</td>\n",
       "      <td>8.0500</td>\n",
       "      <td>S</td>\n",
       "      <td>Third</td>\n",
       "      <td>man</td>\n",
       "      <td>True</td>\n",
       "      <td>NaN</td>\n",
       "      <td>Southampton</td>\n",
       "      <td>no</td>\n",
       "      <td>True</td>\n",
       "    </tr>\n",
       "    <tr>\n",
       "      <th>...</th>\n",
       "      <td>...</td>\n",
       "      <td>...</td>\n",
       "      <td>...</td>\n",
       "      <td>...</td>\n",
       "      <td>...</td>\n",
       "      <td>...</td>\n",
       "      <td>...</td>\n",
       "      <td>...</td>\n",
       "      <td>...</td>\n",
       "      <td>...</td>\n",
       "      <td>...</td>\n",
       "      <td>...</td>\n",
       "      <td>...</td>\n",
       "      <td>...</td>\n",
       "      <td>...</td>\n",
       "    </tr>\n",
       "    <tr>\n",
       "      <th>886</th>\n",
       "      <td>0</td>\n",
       "      <td>2</td>\n",
       "      <td>male</td>\n",
       "      <td>27.0</td>\n",
       "      <td>0</td>\n",
       "      <td>0</td>\n",
       "      <td>13.0000</td>\n",
       "      <td>S</td>\n",
       "      <td>Second</td>\n",
       "      <td>man</td>\n",
       "      <td>True</td>\n",
       "      <td>NaN</td>\n",
       "      <td>Southampton</td>\n",
       "      <td>no</td>\n",
       "      <td>True</td>\n",
       "    </tr>\n",
       "    <tr>\n",
       "      <th>887</th>\n",
       "      <td>1</td>\n",
       "      <td>1</td>\n",
       "      <td>female</td>\n",
       "      <td>19.0</td>\n",
       "      <td>0</td>\n",
       "      <td>0</td>\n",
       "      <td>30.0000</td>\n",
       "      <td>S</td>\n",
       "      <td>First</td>\n",
       "      <td>woman</td>\n",
       "      <td>False</td>\n",
       "      <td>B</td>\n",
       "      <td>Southampton</td>\n",
       "      <td>yes</td>\n",
       "      <td>True</td>\n",
       "    </tr>\n",
       "    <tr>\n",
       "      <th>888</th>\n",
       "      <td>0</td>\n",
       "      <td>3</td>\n",
       "      <td>female</td>\n",
       "      <td>NaN</td>\n",
       "      <td>1</td>\n",
       "      <td>2</td>\n",
       "      <td>23.4500</td>\n",
       "      <td>S</td>\n",
       "      <td>Third</td>\n",
       "      <td>woman</td>\n",
       "      <td>False</td>\n",
       "      <td>NaN</td>\n",
       "      <td>Southampton</td>\n",
       "      <td>no</td>\n",
       "      <td>False</td>\n",
       "    </tr>\n",
       "    <tr>\n",
       "      <th>889</th>\n",
       "      <td>1</td>\n",
       "      <td>1</td>\n",
       "      <td>male</td>\n",
       "      <td>26.0</td>\n",
       "      <td>0</td>\n",
       "      <td>0</td>\n",
       "      <td>30.0000</td>\n",
       "      <td>C</td>\n",
       "      <td>First</td>\n",
       "      <td>man</td>\n",
       "      <td>True</td>\n",
       "      <td>C</td>\n",
       "      <td>Cherbourg</td>\n",
       "      <td>yes</td>\n",
       "      <td>True</td>\n",
       "    </tr>\n",
       "    <tr>\n",
       "      <th>890</th>\n",
       "      <td>0</td>\n",
       "      <td>3</td>\n",
       "      <td>male</td>\n",
       "      <td>32.0</td>\n",
       "      <td>0</td>\n",
       "      <td>0</td>\n",
       "      <td>7.7500</td>\n",
       "      <td>Q</td>\n",
       "      <td>Third</td>\n",
       "      <td>man</td>\n",
       "      <td>True</td>\n",
       "      <td>NaN</td>\n",
       "      <td>Queenstown</td>\n",
       "      <td>no</td>\n",
       "      <td>True</td>\n",
       "    </tr>\n",
       "  </tbody>\n",
       "</table>\n",
       "<p>891 rows × 15 columns</p>\n",
       "</div>"
      ],
      "text/plain": [
       "     survived  pclass     sex   age  sibsp  parch     fare embarked   class  \\\n",
       "0           0       3    male  22.0      1      0   7.2500        S   Third   \n",
       "1           1       1  female  38.0      1      0  71.2833        C   First   \n",
       "2           1       3  female  26.0      0      0   7.9250        S   Third   \n",
       "3           1       1  female  35.0      1      0  53.1000        S   First   \n",
       "4           0       3    male  35.0      0      0   8.0500        S   Third   \n",
       "..        ...     ...     ...   ...    ...    ...      ...      ...     ...   \n",
       "886         0       2    male  27.0      0      0  13.0000        S  Second   \n",
       "887         1       1  female  19.0      0      0  30.0000        S   First   \n",
       "888         0       3  female   NaN      1      2  23.4500        S   Third   \n",
       "889         1       1    male  26.0      0      0  30.0000        C   First   \n",
       "890         0       3    male  32.0      0      0   7.7500        Q   Third   \n",
       "\n",
       "       who  adult_male deck  embark_town alive  alone  \n",
       "0      man        True  NaN  Southampton    no  False  \n",
       "1    woman       False    C    Cherbourg   yes  False  \n",
       "2    woman       False  NaN  Southampton   yes   True  \n",
       "3    woman       False    C  Southampton   yes  False  \n",
       "4      man        True  NaN  Southampton    no   True  \n",
       "..     ...         ...  ...          ...   ...    ...  \n",
       "886    man        True  NaN  Southampton    no   True  \n",
       "887  woman       False    B  Southampton   yes   True  \n",
       "888  woman       False  NaN  Southampton    no  False  \n",
       "889    man        True    C    Cherbourg   yes   True  \n",
       "890    man        True  NaN   Queenstown    no   True  \n",
       "\n",
       "[891 rows x 15 columns]"
      ]
     },
     "execution_count": 57,
     "metadata": {},
     "output_type": "execute_result"
    }
   ],
   "source": [
    "# titanic_df['age-age_mean']\n",
    "# titanic_df['age-age_mean_squared']\n",
    "# titanic_df['age-age_mean_squared_div_N']\n",
    "# titanic_df['age_std_dev_variance']"
   ]
  },
  {
   "cell_type": "code",
   "execution_count": null,
   "id": "cf445436-c0ca-4532-b520-e9575bccebba",
   "metadata": {},
   "outputs": [],
   "source": [
    "# Compute the Mean (μ): Calculate the arithmetic mean of the dataset.\n",
    "# Compute the Variance (σ2): Calculate the variance of the dataset, which is the average of the squared differences from the mean.\n",
    "# Compute the Standard Deviation (σ): Take the square root of the variance to find the standard deviation.\n",
    "# Compute the Fourth Moment (μ4): Calculate the fourth moment of the dataset, which is the average of the fourth power of the differences from the mean.\n",
    "Kurtosis = μ4/σ4​\n"
   ]
  },
  {
   "cell_type": "code",
   "execution_count": 60,
   "id": "1f360434-cb7f-43b1-b870-818bb898b500",
   "metadata": {},
   "outputs": [
    {
     "data": {
      "text/html": [
       "<div>\n",
       "<style scoped>\n",
       "    .dataframe tbody tr th:only-of-type {\n",
       "        vertical-align: middle;\n",
       "    }\n",
       "\n",
       "    .dataframe tbody tr th {\n",
       "        vertical-align: top;\n",
       "    }\n",
       "\n",
       "    .dataframe thead th {\n",
       "        text-align: right;\n",
       "    }\n",
       "</style>\n",
       "<table border=\"1\" class=\"dataframe\">\n",
       "  <thead>\n",
       "    <tr style=\"text-align: right;\">\n",
       "      <th></th>\n",
       "      <th>age</th>\n",
       "      <th>fare</th>\n",
       "    </tr>\n",
       "  </thead>\n",
       "  <tbody>\n",
       "    <tr>\n",
       "      <th>age</th>\n",
       "      <td>1.000000</td>\n",
       "      <td>0.096067</td>\n",
       "    </tr>\n",
       "    <tr>\n",
       "      <th>fare</th>\n",
       "      <td>0.096067</td>\n",
       "      <td>1.000000</td>\n",
       "    </tr>\n",
       "  </tbody>\n",
       "</table>\n",
       "</div>"
      ],
      "text/plain": [
       "           age      fare\n",
       "age   1.000000  0.096067\n",
       "fare  0.096067  1.000000"
      ]
     },
     "execution_count": 60,
     "metadata": {},
     "output_type": "execute_result"
    }
   ],
   "source": [
    "titanic_df[['age','fare']].corr()"
   ]
  },
  {
   "cell_type": "code",
   "execution_count": 62,
   "id": "628b515e-94a4-4813-bead-0d1393541c82",
   "metadata": {},
   "outputs": [],
   "source": [
    "iris_data = sns.load_dataset('iris')"
   ]
  },
  {
   "cell_type": "code",
   "execution_count": null,
   "id": "3027f246-625f-444d-a632-ef844b9f7f5f",
   "metadata": {},
   "outputs": [],
   "source": []
  }
 ],
 "metadata": {
  "kernelspec": {
   "display_name": "Python 3 (ipykernel)",
   "language": "python",
   "name": "python3"
  },
  "language_info": {
   "codemirror_mode": {
    "name": "ipython",
    "version": 3
   },
   "file_extension": ".py",
   "mimetype": "text/x-python",
   "name": "python",
   "nbconvert_exporter": "python",
   "pygments_lexer": "ipython3",
   "version": "3.11.7"
  }
 },
 "nbformat": 4,
 "nbformat_minor": 5
}
