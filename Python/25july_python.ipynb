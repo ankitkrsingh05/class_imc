{
 "cells": [
  {
   "cell_type": "code",
   "execution_count": null,
   "id": "73e73e20-084c-4a47-8cfe-a1706f0a4e7a",
   "metadata": {},
   "outputs": [],
   "source": [
    "# 1 pattern problem\n",
    "# list comprehension\n",
    "# lamda , map , reduce ,filter\n",
    "# numpy pandas theory and practical\n",
    "# "
   ]
  },
  {
   "cell_type": "code",
   "execution_count": 7,
   "id": "4990bb17-9163-4c1d-a641-fa4e9b9bf4f8",
   "metadata": {},
   "outputs": [
    {
     "name": "stdout",
     "output_type": "stream",
     "text": [
      "5\n",
      "6\n",
      "7\n",
      "8\n",
      "9\n"
     ]
    }
   ],
   "source": [
    "# pyramid\n",
    "\n",
    "#      *\n",
    "#     ***\n",
    "#    *****\n",
    "#   *******\n",
    "#  *********\n",
    "\n",
    "# num = 5\n",
    "# for i in range(0,num):\n",
    "#     # print (\" \" * )\n",
    "#     print ()\n",
    "#     # print (2*i + 1)\n"
   ]
  },
  {
   "cell_type": "code",
   "execution_count": 8,
   "id": "9183a2f6-2cb6-474d-8712-2c059473876d",
   "metadata": {},
   "outputs": [],
   "source": [
    "lst = [1,23,45,67,23,22,12,14]"
   ]
  },
  {
   "cell_type": "code",
   "execution_count": 9,
   "id": "8aa5fef7-d851-425b-bbd4-02813d7b5471",
   "metadata": {},
   "outputs": [
    {
     "name": "stdout",
     "output_type": "stream",
     "text": [
      "[1, 23, 45, 67, 23, 22, 12, 14]\n"
     ]
    }
   ],
   "source": [
    "print (lst)"
   ]
  },
  {
   "cell_type": "code",
   "execution_count": 45,
   "id": "9d630be4-9dc0-44fa-8aed-a593196e497f",
   "metadata": {},
   "outputs": [
    {
     "name": "stdout",
     "output_type": "stream",
     "text": [
      "2\n",
      "46\n",
      "90\n",
      "134\n",
      "46\n",
      "44\n",
      "24\n",
      "28\n"
     ]
    },
    {
     "data": {
      "text/plain": [
       "[1, 23, 45, 67, 23, 22, 12, 14]"
      ]
     },
     "execution_count": 45,
     "metadata": {},
     "output_type": "execute_result"
    }
   ],
   "source": [
    "# new_list = []\n",
    "for l in lst:\n",
    "    print(l*2)\n",
    "# lst\n",
    "# [l*2 for l in lst]  "
   ]
  },
  {
   "cell_type": "code",
   "execution_count": 29,
   "id": "8cd7fe0c-741a-4488-8f0b-fc4c3d552cc2",
   "metadata": {},
   "outputs": [
    {
     "name": "stdout",
     "output_type": "stream",
     "text": [
      "8397\n",
      "8397\n",
      "207\n"
     ]
    }
   ],
   "source": [
    "# list comprehension\n",
    "# usage- \n",
    "#  when we want to a create new list with ooperations on it\n",
    "#  single line statements\n",
    "\n",
    "# squared sum of each element in the list\n",
    "print (sum([l**2 for l in lst]))\n",
    "# implement the same using map & lambda\n",
    "# map is used when we want to apply a function/ operation \n",
    "# on each element of the list we use map\n",
    "print (sum(list(map(lambda x: x**2,lst))))\n",
    "# implemt the same using reduce \n",
    "\n",
    "from functools import reduce\n",
    "print (reduce(lambda x,y: x + y,lst))\n",
    "\n",
    "# factorial of a number\n",
    "# 5\n",
    "# Find factorial using while loop, for loop\n",
    "# Write a function to calculate the factorial using function, and lambda function\n",
    "# Write a program to find the factorial using map and lamda,\n",
    "# using reduce\n",
    "\n"
   ]
  },
  {
   "cell_type": "code",
   "execution_count": 35,
   "id": "893ce28c-b331-4282-9db1-6aa6ea8320eb",
   "metadata": {},
   "outputs": [
    {
     "name": "stdout",
     "output_type": "stream",
     "text": [
      "[12, 14, 22]\n",
      "[0.1, 2.3, 2.3, 4.5, 6.7, 12, 14, 22]\n"
     ]
    }
   ],
   "source": [
    "# Find all the even elements in the list\n",
    "print (sorted([ l for l in lst if l % 2 == 0 ]))\n",
    "# even elements as it is and odd elements /10\n",
    "print (sorted([ l if l % 2 == 0 else l/10 for l in lst  ]))\n",
    "\n"
   ]
  },
  {
   "cell_type": "code",
   "execution_count": 62,
   "id": "6f3c4dd9-5271-4d22-a3f2-57054b3db794",
   "metadata": {},
   "outputs": [
    {
     "name": "stdout",
     "output_type": "stream",
     "text": [
      "11\n",
      "11\n"
     ]
    }
   ],
   "source": [
    "# Find all of the numbers from 1-1000 that are divisible by 7\n",
    "# Find all of the numbers from 1-1000 that have a 3 in them else write not three\n",
    "# Count the number of spaces in a string\n",
    "\n",
    "[vals for vals in list(range(1,1000)) if vals%7 ==0]\n",
    "\n",
    "# [vals if '3' in str(vals) else \"not three\" for vals in list(range(1,1000))]\n",
    "\n",
    "str_test = \"this is a test string to check for the count of spaces\"\n",
    "# lst.count(' ')\n",
    "len([s for s in str_test if s==' '])\n",
    "print (sum([1 if s==' ' else 0 for s in str_test ]))\n",
    "print (sum([True if s==' ' else False for s in str_test ]))\n",
    "# we can also use filter onto the iterator"
   ]
  },
  {
   "cell_type": "code",
   "execution_count": 64,
   "id": "bcfc7f36-3637-4347-9a77-3eb68faadb5a",
   "metadata": {},
   "outputs": [],
   "source": [
    "import numpy as np"
   ]
  },
  {
   "cell_type": "code",
   "execution_count": 66,
   "id": "ec669fdd-f716-4ffc-acf8-f45287b6c240",
   "metadata": {},
   "outputs": [
    {
     "data": {
      "text/plain": [
       "(<module 'numpy' from '/opt/anaconda3/lib/python3.11/site-packages/numpy/__init__.py'>,\n",
       " module)"
      ]
     },
     "execution_count": 66,
     "metadata": {},
     "output_type": "execute_result"
    }
   ],
   "source": [
    "np,type(np)"
   ]
  },
  {
   "cell_type": "code",
   "execution_count": null,
   "id": "e55704e2-8e7f-458d-abf8-d38e420a4797",
   "metadata": {},
   "outputs": [],
   "source": []
  },
  {
   "cell_type": "code",
   "execution_count": 133,
   "id": "0709009b-f67c-4b53-8170-d9169fce5617",
   "metadata": {},
   "outputs": [
    {
     "name": "stdout",
     "output_type": "stream",
     "text": [
      "[ 1  2  3  4  5  6  7  8  9 10] <class 'numpy.ndarray'>\n",
      "[0.72495985 0.18083243 0.60114776 0.14784403 0.8509391  0.23946315\n",
      " 0.88611063 0.25807069 0.43725945 0.07402191 0.66505698 0.93383255]\n",
      "[17 19 15  2 19  6 14 15  8 10]\n",
      "[ 1  3  5  7  9 11]\n",
      "5.5\n",
      "5.5\n",
      "10\n",
      "1\n",
      "[[1 2 3]\n",
      " [4 5 6]\n",
      " [7 8 9]]\n",
      "5\n",
      "(10,) (3, 3)\n",
      "reshape the array/flatten the array [1 2 3 4 5 6 7 8 9]\n",
      "(2, 1) [[4], [5]]\n"
     ]
    }
   ],
   "source": [
    "# numpy\n",
    "\n",
    "# creation\n",
    "    # creation from list\n",
    "numpy_arr = np.array([1,2,3,4,5,6,7,8,9,10])\n",
    "print (numpy_arr,type(numpy_arr))\n",
    "    # creation from random numbers\n",
    "print (np.random.rand(12))\n",
    "print (np.random.randint(1,20,10))\n",
    "    # creation lin_space,ones,zeros\n",
    "    # Arranging the array\n",
    "    # numpy.arange([start, ]stop, [step, ]dtype=None, *, device=None, like=None)\n",
    "print (np.arange(1,12,2))\n",
    "# Analytical functions\n",
    "# Mean, Median, mode\n",
    "print (np.mean(numpy_arr))\n",
    "print (np.median(numpy_arr))\n",
    "print (np.max(numpy_arr))\n",
    "print (np.min(numpy_arr))\n",
    "# slicing in numpy array\n",
    "numpy_arr[4:7]\n",
    "numpy_arr[7:4:-1]\n",
    "# numpy_arr[1:4]\n",
    "\n",
    "#accessing of nupy array is also same as list\n",
    "numpy_arr[4]\n",
    "# creation of n dimensional ndarray\n",
    "numpy_arr_2d = np.array([[1,2,3],[4,5,6],[7,8,9]])\n",
    "print (numpy_arr_2d)\n",
    "# acessing of 2d array\n",
    "# find the second element from the second row\n",
    "print (numpy_arr_2d[1][1] )\n",
    "# Dot product\n",
    "# shape and reshape\n",
    "\n",
    "# sqrt\n",
    "np.sqrt(25)\n",
    "# square\n",
    "np.square(3)\n",
    "\n",
    "# zeros generate\n",
    "np.zeros(10)\n",
    "# np.ones()\n",
    "np.ones(10)\n",
    "# numpy.linspace(start, stop, num=50, endpoint=True, retstep=False, dtype=None, axis=0, *, device=None)[source]\n",
    "np.linspace(1,15,5)\n",
    "# mathematics dot product\n",
    "np.dot(numpy_arr_2d[0],numpy_arr_2d[0])\n",
    "# shape and reshape\n",
    "\n",
    "print (np.shape(numpy_arr),np.shape(numpy_arr_2d))\n",
    "\n",
    "print (\"reshape the array/flatten the array\",np.reshape(numpy_arr_2d,(9,)))\n",
    "print (np.shape(np.array([[4],[5]])),[[4],[5]])\n",
    "\n",
    "\n",
    "\n"
   ]
  },
  {
   "cell_type": "code",
   "execution_count": 149,
   "id": "54e8c131-46db-4595-a4b2-aa3d4a43c721",
   "metadata": {},
   "outputs": [
    {
     "name": "stdout",
     "output_type": "stream",
     "text": [
      "[[1 2 3]\n",
      " [4 5 6]\n",
      " [7 8 9]]\n",
      "reshape the array/flatten the array [1 2 3 4 5 6 7 8 9]\n",
      "[1 2 3 4 5 6 7 8 9]\n",
      "[[1 2 3]\n",
      " [4 5 6]\n",
      " [7 8 9]]\n",
      "[[1 2]\n",
      " [3 4]\n",
      " [5 6]\n",
      " [7 8]]\n",
      "1d-array:[ 1  2  3  4  5  6  7  8  9 10] , 2d-array: [[1 2 3]\n",
      " [4 5 6]\n",
      " [7 8 9]], 3d-array: [[[1, 1, 2]]]\n",
      "2 1 3\n",
      "[[ 1  3  4]\n",
      " [ 6  6  7]\n",
      " [ 8 12 13]]\n"
     ]
    }
   ],
   "source": [
    "print (numpy_arr_2d)\n",
    "# this is converting the array shape in to a 1* 9 dimension array\n",
    "print (\"reshape the array/flatten the array\",np.reshape(numpy_arr_2d,(9)))\n",
    "new_arr = np.reshape(numpy_arr_2d,(9))\n",
    "print (new_arr)\n",
    "print (np.reshape(new_arr,(3,3)))\n",
    "# for cases with not possible shapes with the current list it would give an error\n",
    "print (np.reshape(new_arr[:-1],(4,2)))\n",
    "# ndim would return the dimension of the array\n",
    "print (f'1d-array:{numpy_arr} , 2d-array: {numpy_arr_2d}, 3d-array: {[[[1,1,2]]]}')\n",
    "print (np.ndim(numpy_arr_2d),np.ndim(numpy_arr),np.ndim([[[1,1,2]]]))\n",
    "\n",
    "\n",
    "\n",
    "\n",
    "\n",
    "\n",
    "\n",
    "# Steps for preparation of the data\n",
    "# for any operation on a matrix:\n",
    "# find the dimension of the array: using ndim\n",
    "# if needed reshape the data based on your requirement\n",
    "# apply intented operation on the array\n",
    "\n",
    "# If we are converting the array into dataframes, for ML models,"
   ]
  },
  {
   "cell_type": "code",
   "execution_count": 175,
   "id": "47f2cdf1-8861-4a36-bddb-eabb681b32a3",
   "metadata": {},
   "outputs": [
    {
     "name": "stdout",
     "output_type": "stream",
     "text": [
      "This is 1d array [1, 2, 3, 4, 5, 6, 7, 8, 9]\n",
      "the dimension of this array is : 1\n",
      "This is 2d array [[1 2 3]\n",
      " [4 5 6]\n",
      " [7 8 9]]\n",
      "the dimension of this array is : 2\n",
      "This is 3d array [[[1 2]\n",
      "  [3 4]]\n",
      "\n",
      " [[5 6]\n",
      "  [7 8]]]\n",
      "the dimension of this array is : 3\n",
      "\n",
      "\n",
      "\n",
      "\n",
      "\n"
     ]
    }
   ],
   "source": [
    "# ndim explaination for differnt dimension array\n",
    "array_1d = [1,2,3,4,5,6,7,8,9]\n",
    "print (\"This is 1d array\",array_1d)\n",
    "print (\"the dimension of this array is :\",np.ndim(array_1d))\n",
    "# convert this into 3 x 3\n",
    "array_2d = np.reshape(array_1d,(3,3))\n",
    "print (\"This is 2d array\",array_2d)\n",
    "print (\"the dimension of this array is :\",np.ndim(array_2d))\n",
    "array_3d = np.reshape(array_1d[:-1],(2,2,2))\n",
    "print (\"This is 3d array\",array_3d)\n",
    "print (\"the dimension of this array is :\",np.ndim(array_3d))\n",
    "print(\"\\n\\n\\n\\n\")\n"
   ]
  },
  {
   "cell_type": "code",
   "execution_count": 171,
   "id": "7543018b-a38b-4c4e-9f1f-36169c53fcd5",
   "metadata": {},
   "outputs": [
    {
     "name": "stdout",
     "output_type": "stream",
     "text": [
      "length of the total array: 2 \n",
      " array first element [[1 3]\n",
      " [4 6]]\t array second element [[ 6  7]\n",
      " [ 8 12]] ,[1 3],1\n"
     ]
    }
   ],
   "source": [
    "print (f'length of the total array: {len(array_3d)} \\n array first element {array_3d[0]}\\t array second element {array_3d[1]} ,{array_3d[0][0]},{array_3d[0][0][0]}')"
   ]
  },
  {
   "cell_type": "code",
   "execution_count": 173,
   "id": "edf29b7b-b8de-452f-93d7-75e166f5f808",
   "metadata": {},
   "outputs": [
    {
     "name": "stdout",
     "output_type": "stream",
     "text": [
      "[[1 3]\n",
      " [4 6]] 2 (2, 2)\n"
     ]
    }
   ],
   "source": [
    "print (array_3d[0],np.ndim(array_3d[0]),np.shape(array_3d[0]))"
   ]
  },
  {
   "cell_type": "code",
   "execution_count": 174,
   "id": "e9771b6f-f3f8-45b2-acf5-e1d81b9df2d9",
   "metadata": {},
   "outputs": [
    {
     "name": "stdout",
     "output_type": "stream",
     "text": [
      "[1 3] 1 (2,)\n"
     ]
    }
   ],
   "source": [
    "print (array_3d[0][0],np.ndim(array_3d[0][0]),np.shape(array_3d[0][0]))"
   ]
  },
  {
   "cell_type": "code",
   "execution_count": null,
   "id": "1ca228ab-cb14-4e4a-b412-692843292166",
   "metadata": {},
   "outputs": [],
   "source": [
    "dimensions\n",
    "arr.ndim\n",
    "np.arange()\n",
    "np.zeros()\n",
    "np.ones()\n",
    "np.linspace()\n",
    "np.random.rand()\n",
    "np.random.randint()\n",
    "np.max()\n",
    "np.min()\n",
    "np.mean()\n",
    "median mode\n",
    "np.dot()\n",
    "shape and reshape\n"
   ]
  },
  {
   "cell_type": "code",
   "execution_count": null,
   "id": "5d3269b0-f733-4768-9234-908fe805d103",
   "metadata": {},
   "outputs": [],
   "source": [
    "# Dictionary question counter\n",
    "# sorting of the dictionary based on keys and values\n",
    "# "
   ]
  },
  {
   "cell_type": "code",
   "execution_count": null,
   "id": "ce58ae4c-a270-47be-b44a-9aef88245052",
   "metadata": {},
   "outputs": [],
   "source": [
    "\n",
    "# pandas"
   ]
  }
 ],
 "metadata": {
  "kernelspec": {
   "display_name": "Python 3 (ipykernel)",
   "language": "python",
   "name": "python3"
  },
  "language_info": {
   "codemirror_mode": {
    "name": "ipython",
    "version": 3
   },
   "file_extension": ".py",
   "mimetype": "text/x-python",
   "name": "python",
   "nbconvert_exporter": "python",
   "pygments_lexer": "ipython3",
   "version": "3.11.7"
  }
 },
 "nbformat": 4,
 "nbformat_minor": 5
}
