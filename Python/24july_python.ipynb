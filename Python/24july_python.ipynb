{
 "cells": [
  {
   "cell_type": "code",
   "execution_count": 1,
   "id": "f5b72563-026b-42a1-86cf-c309d4a16599",
   "metadata": {},
   "outputs": [],
   "source": [
    "# while question\n",
    "# map reduce filter revision\n",
    "# nested loop patter programs\n",
    "# question"
   ]
  },
  {
   "cell_type": "code",
   "execution_count": 2,
   "id": "551a530c-d8f3-4c3e-8cab-c097c8144360",
   "metadata": {},
   "outputs": [],
   "source": [
    "matrix_var = [[1,2,3,4,5],[6,7,8,9,10],[12,13,54,33,12]]"
   ]
  },
  {
   "cell_type": "code",
   "execution_count": 4,
   "id": "1944fda7-2da0-42c2-a669-39d1440895e7",
   "metadata": {},
   "outputs": [
    {
     "name": "stdout",
     "output_type": "stream",
     "text": [
      "i = 0,j = 0, current_list= [1, 2, 3, 4, 5],individual_val = 1\n",
      "i = 0,j = 1, current_list= [1, 2, 3, 4, 5],individual_val = 2\n",
      "i = 0,j = 2, current_list= [1, 2, 3, 4, 5],individual_val = 3\n",
      "i = 0,j = 3, current_list= [1, 2, 3, 4, 5],individual_val = 4\n",
      "i = 0,j = 4, current_list= [1, 2, 3, 4, 5],individual_val = 5\n",
      "\n",
      "\n",
      "i = 1,j = 0, current_list= [6, 7, 8, 9, 10],individual_val = 6\n",
      "i = 1,j = 1, current_list= [6, 7, 8, 9, 10],individual_val = 7\n",
      "i = 1,j = 2, current_list= [6, 7, 8, 9, 10],individual_val = 8\n",
      "i = 1,j = 3, current_list= [6, 7, 8, 9, 10],individual_val = 9\n",
      "i = 1,j = 4, current_list= [6, 7, 8, 9, 10],individual_val = 10\n",
      "\n",
      "\n",
      "i = 2,j = 0, current_list= [12, 13, 54, 33, 12],individual_val = 12\n",
      "i = 2,j = 1, current_list= [12, 13, 54, 33, 12],individual_val = 13\n",
      "i = 2,j = 2, current_list= [12, 13, 54, 33, 12],individual_val = 54\n",
      "i = 2,j = 3, current_list= [12, 13, 54, 33, 12],individual_val = 33\n",
      "i = 2,j = 4, current_list= [12, 13, 54, 33, 12],individual_val = 12\n",
      "\n",
      "\n"
     ]
    }
   ],
   "source": [
    "# 2d array access\n",
    "for i in range(len(matrix_var)):\n",
    "    for j in range(len(matrix_var[i])):\n",
    "        print (f'i = {i},j = {j}, current_list= {matrix_var[i]},individual_val = {matrix_var[i][j]}')\n",
    "    print (\"\\n\")"
   ]
  },
  {
   "cell_type": "code",
   "execution_count": null,
   "id": "8da93731-956a-44c5-b288-ab7a612e15c5",
   "metadata": {},
   "outputs": [],
   "source": []
  }
 ],
 "metadata": {
  "kernelspec": {
   "display_name": "Python 3 (ipykernel)",
   "language": "python",
   "name": "python3"
  },
  "language_info": {
   "codemirror_mode": {
    "name": "ipython",
    "version": 3
   },
   "file_extension": ".py",
   "mimetype": "text/x-python",
   "name": "python",
   "nbconvert_exporter": "python",
   "pygments_lexer": "ipython3",
   "version": "3.11.7"
  }
 },
 "nbformat": 4,
 "nbformat_minor": 5
}
