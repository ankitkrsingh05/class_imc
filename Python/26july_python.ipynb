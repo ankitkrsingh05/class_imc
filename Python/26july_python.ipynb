{
 "cells": [
  {
   "cell_type": "code",
   "execution_count": null,
   "id": "b1ef3625-7a1c-4d5f-8238-97a52e2315a0",
   "metadata": {},
   "outputs": [],
   "source": [
    "# pandas\n",
    "    # pandas series, data frame\n",
    "    # class pandas.Series(data=None, index=None, dtype=None, name=None, copy=None, fastpath=_NoDefault.no_default)\n",
    "    # version check\n",
    "    # difference between pandas series and numpy series\n",
    "    # Series creation\n",
    "        # pd.series (list,labels)\n",
    "        # pd.series (<dictionary>)\n",
    "        # dataframe creation using dictionary\n",
    "        # dataframe creation using  index and data :named index\n",
    "    # Reading data : csv,xls,json,sql\n",
    "    # shape,dtypes,info,values,head,tail,sample,describe,\n",
    "    # sum,min,max,mean,median,variance,std,unique,value counts\n",
    "    \n",
    "# virtual environment      "
   ]
  },
  {
   "cell_type": "code",
   "execution_count": null,
   "id": "f27bda44-bfe3-4f63-b810-46240eaed987",
   "metadata": {},
   "outputs": [],
   "source": [
    "# installation of pandas\n",
    "# pip install pandas\n"
   ]
  },
  {
   "cell_type": "code",
   "execution_count": 1,
   "id": "0fd5c4cb-8d84-446a-8df3-ac26f9a5e855",
   "metadata": {},
   "outputs": [],
   "source": [
    "import pandas as pd"
   ]
  },
  {
   "cell_type": "code",
   "execution_count": 3,
   "id": "f2bb1bbf-fd78-434a-862b-21b8e1a36f67",
   "metadata": {},
   "outputs": [
    {
     "name": "stdout",
     "output_type": "stream",
     "text": [
      "<module 'pandas' from '/opt/anaconda3/lib/python3.11/site-packages/pandas/__init__.py'> <class 'module'>\n"
     ]
    }
   ],
   "source": [
    "print (pd,type(pd))"
   ]
  },
  {
   "cell_type": "code",
   "execution_count": 156,
   "id": "766feafc-26f2-4e64-a67c-03f2fe611e60",
   "metadata": {},
   "outputs": [
    {
     "name": "stdout",
     "output_type": "stream",
     "text": [
      "<class 'numpy.ndarray'> [ 1  2  3  4 56  6 77]\n"
     ]
    }
   ],
   "source": [
    "# import numpy as np\n",
    "# test_arr = np.array([1,2,3,4,56,6,77])\n",
    "# print (type(test_arr),test_arr)"
   ]
  },
  {
   "cell_type": "code",
   "execution_count": 157,
   "id": "fca3300c-806e-45c2-b1f4-150d8732b6c5",
   "metadata": {},
   "outputs": [
    {
     "data": {
      "text/plain": [
       "Series([], dtype: object)"
      ]
     },
     "execution_count": 157,
     "metadata": {},
     "output_type": "execute_result"
    }
   ],
   "source": [
    "# dataypes / datastructures in pandas:\n",
    "    # series\n",
    "    # dataframe\n",
    "# Series is 1d array\n",
    "# dataframe is 2d (combination of multiple pandas series)\n",
    "\n",
    "pd.Series()\n",
    "# difference between pandas seriess and numpy array\n",
    "    # for pandas series can be accessed using labels\n",
    "    # numpy array cant be used using labels"
   ]
  },
  {
   "cell_type": "code",
   "execution_count": 163,
   "id": "b43bdadd-5f5b-4426-b151-a3b67fb93af7",
   "metadata": {},
   "outputs": [
    {
     "name": "stdout",
     "output_type": "stream",
     "text": [
      "<class 'list'>\n"
     ]
    }
   ],
   "source": [
    "# \n",
    "# print (type([2,4,6,8,10]))"
   ]
  },
  {
   "cell_type": "code",
   "execution_count": 158,
   "id": "52e5b800-cf7d-45a2-83d6-098a5413da82",
   "metadata": {},
   "outputs": [],
   "source": [
    "# series definition without index:\n",
    "    # default indexing would be numerical starting from 0\n",
    "ser_a = pd.Series([2,4,6,8,10])\n",
    "# series can take labels\n",
    "ser_b = pd.Series([2,4,6,8,10],index = ['a','b','c','d','e'])"
   ]
  },
  {
   "cell_type": "code",
   "execution_count": 161,
   "id": "21f1b630-7d57-47d1-a73b-eede9fd2dfe4",
   "metadata": {},
   "outputs": [
    {
     "name": "stdout",
     "output_type": "stream",
     "text": [
      "0     2\n",
      "1     4\n",
      "2     6\n",
      "3     8\n",
      "4    10\n",
      "dtype: int64 a     2\n",
      "b     4\n",
      "c     6\n",
      "d     8\n",
      "e    10\n",
      "dtype: int64\n",
      "third value is  6\n",
      "third value is  6\n"
     ]
    }
   ],
   "source": [
    "print (ser_a,ser_b)\n",
    "# accessing of series elements\n",
    "print (\"third value is \", ser_a[2])\n",
    "print (\"third value is \", ser_b['c'])"
   ]
  },
  {
   "cell_type": "code",
   "execution_count": 162,
   "id": "dbdabcc5-f428-4a6e-9d8d-b58c8c04303d",
   "metadata": {},
   "outputs": [
    {
     "data": {
      "text/plain": [
       "RangeIndex(start=0, stop=5, step=1)"
      ]
     },
     "execution_count": 162,
     "metadata": {},
     "output_type": "execute_result"
    }
   ],
   "source": [
    "# index are the unique indentifier for a row\n",
    "ser_a.index"
   ]
  },
  {
   "cell_type": "code",
   "execution_count": 16,
   "id": "4ab54173-5c26-4de7-83d5-c4d32e4df950",
   "metadata": {},
   "outputs": [
    {
     "data": {
      "text/plain": [
       "Index(['a', 'b', 'c', 'd', 'e'], dtype='object')"
      ]
     },
     "execution_count": 16,
     "metadata": {},
     "output_type": "execute_result"
    }
   ],
   "source": [
    "ser_b.index"
   ]
  },
  {
   "cell_type": "code",
   "execution_count": 166,
   "id": "bb8cf70b-6011-4735-adeb-33fe5e77ce36",
   "metadata": {},
   "outputs": [
    {
     "name": "stdout",
     "output_type": "stream",
     "text": [
      "series creation using  a    2\n",
      "b    4\n",
      "c    6\n",
      "d    8\n",
      "dtype: int64\n",
      "series creation using dictiory and selecting labels a    2\n",
      "b    4\n",
      "c    6\n",
      "dtype: int64\n",
      "a    2\n",
      "b    4\n",
      "c    6\n",
      "d    8\n",
      "dtype: int64\n",
      "8\n"
     ]
    }
   ],
   "source": [
    "# creation of series using dictionary\n",
    "test_dict = {'a':2,'b':4,'c': 6,'d':8}\n",
    "print (\"series creation using \",pd.Series(test_dict))\n",
    "print (\"series creation using dictiory and selecting labels\",\\\n",
    "       pd.Series(test_dict,index=['a','b','c']))\n",
    "test_series_frm_dict = pd.Series(test_dict)\n",
    "print (test_series_frm_dict)\n",
    "# to get the value 8\n",
    "print (test_series_frm_dict['d'])"
   ]
  },
  {
   "cell_type": "code",
   "execution_count": 36,
   "id": "ba9b4890-d04a-4cad-9f15-a24479446194",
   "metadata": {},
   "outputs": [],
   "source": [
    "# conversion of range type to list for creation of dictionary\n",
    "indexes = list(ser_a.index) # first way to convert index to list - explicit type conversion\n",
    "ser_a.index.tolist() # second way\n",
    "list(ser_a.index), \n",
    "# series values are generated\n",
    "ser_a.values.tolist() # first way to convert values to list\n",
    "values = list(ser_a.values) # second way to convert values to list\n",
    "\n",
    "\n",
    "# conversion to dictionary type\n",
    "test_dict = dict(zip(indexes,values))\n",
    "\n"
   ]
  },
  {
   "cell_type": "code",
   "execution_count": 170,
   "id": "c7c6c3a5-35f7-4a92-9eaa-d9211475ea16",
   "metadata": {},
   "outputs": [
    {
     "data": {
      "text/plain": [
       "dict_keys(['a', 'b', 'c', 'd'])"
      ]
     },
     "execution_count": 170,
     "metadata": {},
     "output_type": "execute_result"
    }
   ],
   "source": [
    "test_dict.keys()"
   ]
  },
  {
   "cell_type": "code",
   "execution_count": null,
   "id": "42452840-dd2f-422c-9834-64bf579ed49e",
   "metadata": {},
   "outputs": [],
   "source": [
    "# we can select only the index values we want using the index parameter"
   ]
  },
  {
   "cell_type": "code",
   "execution_count": 167,
   "id": "8ea04faf-1d62-4d82-ada6-0e22892a15ee",
   "metadata": {},
   "outputs": [
    {
     "ename": "TypeError",
     "evalue": "not all arguments converted during string formatting",
     "output_type": "error",
     "traceback": [
      "\u001b[0;31m---------------------------------------------------------------------------\u001b[0m",
      "\u001b[0;31mTypeError\u001b[0m                                 Traceback (most recent call last)",
      "Cell \u001b[0;32mIn[167], line 1\u001b[0m\n\u001b[0;32m----> 1\u001b[0m [l \u001b[38;5;28;01mfor\u001b[39;00m l \u001b[38;5;129;01min\u001b[39;00m test_dict\u001b[38;5;241m.\u001b[39mkeys() \u001b[38;5;28;01mif\u001b[39;00m l\u001b[38;5;241m%\u001b[39m\u001b[38;5;241m2\u001b[39m\u001b[38;5;241m==\u001b[39m \u001b[38;5;241m0\u001b[39m ]\n",
      "Cell \u001b[0;32mIn[167], line 1\u001b[0m, in \u001b[0;36m<listcomp>\u001b[0;34m(.0)\u001b[0m\n\u001b[0;32m----> 1\u001b[0m [l \u001b[38;5;28;01mfor\u001b[39;00m l \u001b[38;5;129;01min\u001b[39;00m test_dict\u001b[38;5;241m.\u001b[39mkeys() \u001b[38;5;28;01mif\u001b[39;00m l\u001b[38;5;241m%\u001b[39m\u001b[38;5;241m2\u001b[39m\u001b[38;5;241m==\u001b[39m \u001b[38;5;241m0\u001b[39m ]\n",
      "\u001b[0;31mTypeError\u001b[0m: not all arguments converted during string formatting"
     ]
    }
   ],
   "source": [
    "# [l for l in test_dict.keys() if l%2== 0 ]"
   ]
  },
  {
   "cell_type": "code",
   "execution_count": 177,
   "id": "085ca0be-5aaa-4d46-9c7c-df9e9532bfb4",
   "metadata": {},
   "outputs": [],
   "source": [
    "# for duplicate keys passed in the dictionary, the dictionary would take the last indexed values\n",
    "# it works for each keys sequentially soo the last key found would replace the values\n",
    "test_dict = {0:2, 1:4 , 2:6 , 3:8 , 2:16 , 3:18,14:33,24:12}"
   ]
  },
  {
   "cell_type": "code",
   "execution_count": 178,
   "id": "f06429ef-744d-4d4f-8be4-bd116becd1a5",
   "metadata": {},
   "outputs": [
    {
     "data": {
      "text/plain": [
       "{0: 2, 1: 4, 2: 16, 3: 18, 14: 33, 24: 12}"
      ]
     },
     "execution_count": 178,
     "metadata": {},
     "output_type": "execute_result"
    }
   ],
   "source": [
    "test_dict"
   ]
  },
  {
   "cell_type": "code",
   "execution_count": null,
   "id": "4827d1ea-d43a-44ee-a7aa-acbe183b8870",
   "metadata": {},
   "outputs": [],
   "source": []
  },
  {
   "cell_type": "code",
   "execution_count": 185,
   "id": "4fe25af9-5681-4837-82fe-65ed52babea5",
   "metadata": {},
   "outputs": [
    {
     "name": "stdout",
     "output_type": "stream",
     "text": [
      "the dictionary is  {0: 2, 1: 4, 2: 16, 3: 18, 14: 33, 24: 12}\n",
      "dictionary keys are: dict_keys([0, 1, 2, 3, 14, 24]) dictionary values dict_values([2, 4, 16, 18, 33, 12])\n",
      "even indexed vals generated from list comprehension [0, 2, 14, 24]\n"
     ]
    },
    {
     "data": {
      "text/plain": [
       "0      2\n",
       "2     16\n",
       "14    33\n",
       "24    12\n",
       "dtype: int64"
      ]
     },
     "execution_count": 185,
     "metadata": {},
     "output_type": "execute_result"
    }
   ],
   "source": [
    "# We have a dictionary and want to create a new series but taking only even indexed values\n",
    "# test_dict = {0:2,1:4,2: 6,3:8,2: 6,3:8}\n",
    "even_indexed_vals = [l for l in test_dict.keys() if l%2== 0 ]\n",
    "print (\"the dictionary is \",test_dict)\n",
    "print (\"dictionary keys are:\",test_dict.keys(),\"dictionary values\",test_dict.values())\n",
    "print (\"even indexed vals generated from list comprehension\",even_indexed_vals)\n",
    "pd.Series(test_dict,index = even_indexed_vals)\n"
   ]
  },
  {
   "cell_type": "code",
   "execution_count": null,
   "id": "f4168760-3cdb-47de-87ce-8ead8d57268c",
   "metadata": {},
   "outputs": [],
   "source": [
    "# reading of data:\n",
    "# csv,xls,json,sql, if time permits: psycopg2 (for postgres)"
   ]
  },
  {
   "cell_type": "code",
   "execution_count": null,
   "id": "c704bb0f-2b11-4761-adf3-f73dd7b133ec",
   "metadata": {},
   "outputs": [],
   "source": [
    "# dataframes"
   ]
  },
  {
   "cell_type": "code",
   "execution_count": 199,
   "id": "78b544da-dbc9-42d3-b22e-7001f17b00ad",
   "metadata": {},
   "outputs": [],
   "source": [
    "# here we are using only 1 parameter\n",
    "# there are a lots of other parameters in read_csv: please visit the officical documentation for alll other useful parameters\n",
    "# delimiter , null values definition: helps to define the string which would be concidered as null value\n",
    "csv_file_path = '/Users/ankitkumarsingh/Documents/imarticus/class_imc/Python/employee_details.csv'\n",
    "df = pd.read_csv(csv_file_path)\n",
    "\n"
   ]
  },
  {
   "cell_type": "code",
   "execution_count": 118,
   "id": "4a18856d-2f77-416b-97ee-533b15cad0a7",
   "metadata": {},
   "outputs": [
    {
     "name": "stdout",
     "output_type": "stream",
     "text": [
      "    EMPLOYEE_ID FIRST_NAME    LAST_NAME                EMAIL PHONE_NUMBER  \\\n",
      "0           100     Steven         King     Steven@gmail.com  515.125.678   \n",
      "1           101       Ross      Kochhar   Rkochhar@yahoo.com  590.126.679   \n",
      "2           102       Alex        Urman  AlexUrman@gmail.com  515.123.245   \n",
      "3           103      Bruce         Popp      Bruce@gmail.com  515.125.679   \n",
      "4           104      David     Raphaely   Raphaely@gmail.com  590.126.680   \n",
      "5           105      Nancy         Khoo      Nancy@gmail.com  515.123.246   \n",
      "6           106       John        Baida       John@yahoo.com  515.125.680   \n",
      "7           107     Daniel        Weiss      Weiss@yahoo.com  590.126.681   \n",
      "8           108      Sigal     Kaufling   Kaufling@yahoo.com  515.123.247   \n",
      "9           109       Adam      Vollman       Adam@gmail.com  515.125.681   \n",
      "10          110     Mathew       Himuro     Himuro@yahoo.com  590.126.682   \n",
      "11          111     Harvey  Mikkilineni     Harvey@gmail.com  515.123.248   \n",
      "12          112      Kevin       Rogers     Rogers@yahoo.com  515.125.682   \n",
      "13          113      Julia        Patel      Julia@yahoo.com  590.126.683   \n",
      "14          114      Irene       Davies     Davies@gmail.com  515.123.249   \n",
      "15          115      James      Zlotkey      James@gmail.com  515.125.683   \n",
      "16          116      Jason    Bernstein  Bernstein@yahoo.com  590.126.684   \n",
      "17          117      Peter         Hall       Hall@gmail.com  515.123.250   \n",
      "18          118     Sartha        Sully     Sartha@gmail.com  515.125.684   \n",
      "19          119    William        Smith      Smith@yahoo.com  590.126.685   \n",
      "20          120       Jack       Greene    Jgreene@gmail.com  515.123.251   \n",
      "\n",
      "   HIRE_DATE\\t         JOB_ID  SALARY  MANAGER_ID\\t  DEPARTMENT_ID  \n",
      "0   17-06-2017        AD_PRES   24000           100             90  \n",
      "1   23-01-2001          AD_VP   50806           100             90  \n",
      "2   31-08-2002        IT_PROG   54071           102             90  \n",
      "3   08-04-2003         FI_MGR   26969           103             60  \n",
      "4   15-11-2009         PU_MAN   34048           105             60  \n",
      "5   23-06-2005       ST_CLERK   46206           113             70  \n",
      "6   29-01-2009  AC_ACCOUNTANT   63090           123             70  \n",
      "7   06-09-1902        AD_PRES   56356           131             70  \n",
      "8   17-06-2017          AD_VP   23488           111             60  \n",
      "9   23-01-2001        IT_PROG   29047           114             90  \n",
      "10  17-06-2017         FI_MGR   51428           145            100  \n",
      "11  23-01-2001         PU_MAN   61770           145            100  \n",
      "12  17-06-2017       ST_CLERK   30897           112             70  \n",
      "13  23-01-2001  AC_ACCOUNTANT   59197           131             80  \n",
      "14  17-06-2017        AD_PRES   61211           121             80  \n",
      "15  23-01-2001          AD_VP   43386           116             80  \n",
      "16  17-06-2017        IT_PROG   27978           117            100  \n",
      "17  23-01-2001         FI_MGR   46632           118             80  \n",
      "18  17-06-2017         PU_MAN   66662           121             60  \n",
      "19  23-01-2001       ST_CLERK   38628           120             70  \n",
      "20  17-06-2017  AC_ACCOUNTANT   20068           119             90   <class 'pandas.core.frame.DataFrame'>\n"
     ]
    }
   ],
   "source": [
    "print (df,type(df))"
   ]
  },
  {
   "cell_type": "code",
   "execution_count": 203,
   "id": "b559c48f-d654-4052-a456-384c70b2f592",
   "metadata": {},
   "outputs": [],
   "source": [
    "# dataframe columns fetch\n",
    "# using list comprehension to change the column names to small and remove the \\t \n",
    "# and then assignig the new colummns names to the dataframe column\n",
    "df.columns = [cols.lower().replace('\\t','') for cols in df.columns]\n"
   ]
  },
  {
   "cell_type": "code",
   "execution_count": 90,
   "id": "f0994e07-1dc6-4826-9fb2-5178a0212534",
   "metadata": {},
   "outputs": [
    {
     "data": {
      "text/plain": [
       "5    105\n",
       "6    106\n",
       "7    107\n",
       "Name: employee_id, dtype: int64"
      ]
     },
     "execution_count": 90,
     "metadata": {},
     "output_type": "execute_result"
    }
   ],
   "source": [
    "# dataframe accessing\n",
    "df['employee_id'],type(df['employee_id'])\n",
    "df['employee_id'][5] # to get the specified index values in the series\n",
    "df['employee_id'][5:8] # to get the sliced values from the series"
   ]
  },
  {
   "cell_type": "code",
   "execution_count": 190,
   "id": "39b9afa3-aedf-4782-a706-adee6884bbb1",
   "metadata": {},
   "outputs": [
    {
     "name": "stdout",
     "output_type": "stream",
     "text": [
      "<class 'pandas.core.series.Series'>\n",
      "<class 'pandas.core.frame.DataFrame'>\n",
      "1    101\n",
      "2    102\n",
      "3    103\n",
      "4    104\n",
      "Name: employee_id, dtype: int64\n",
      "   employee_id first_name last_name                email phone_number  \\\n",
      "1          101       Ross   Kochhar   Rkochhar@yahoo.com  590.126.679   \n",
      "2          102       Alex     Urman  AlexUrman@gmail.com  515.123.245   \n",
      "3          103      Bruce      Popp      Bruce@gmail.com  515.125.679   \n",
      "4          104      David  Raphaely   Raphaely@gmail.com  590.126.680   \n",
      "\n",
      "    hire_date   job_id  salary  manager_id  department_id  increment  \\\n",
      "1  23-01-2001    AD_VP   50806         100             90          7   \n",
      "2  31-08-2002  IT_PROG   54071         102             90          1   \n",
      "3  08-04-2003   FI_MGR   26969         103             60          8   \n",
      "4  15-11-2009   PU_MAN   34048         105             60          4   \n",
      "\n",
      "   incremented_sal  \n",
      "1          3556.42  \n",
      "2           540.71  \n",
      "3          2157.52  \n",
      "4          1361.92  \n"
     ]
    },
    {
     "ename": "KeyError",
     "evalue": "('employee_id', 'first_name', 'last_name')",
     "output_type": "error",
     "traceback": [
      "\u001b[0;31m---------------------------------------------------------------------------\u001b[0m",
      "\u001b[0;31mKeyError\u001b[0m                                  Traceback (most recent call last)",
      "File \u001b[0;32m/opt/anaconda3/lib/python3.11/site-packages/pandas/core/indexes/base.py:3791\u001b[0m, in \u001b[0;36mIndex.get_loc\u001b[0;34m(self, key)\u001b[0m\n\u001b[1;32m   3790\u001b[0m \u001b[38;5;28;01mtry\u001b[39;00m:\n\u001b[0;32m-> 3791\u001b[0m     \u001b[38;5;28;01mreturn\u001b[39;00m \u001b[38;5;28mself\u001b[39m\u001b[38;5;241m.\u001b[39m_engine\u001b[38;5;241m.\u001b[39mget_loc(casted_key)\n\u001b[1;32m   3792\u001b[0m \u001b[38;5;28;01mexcept\u001b[39;00m \u001b[38;5;167;01mKeyError\u001b[39;00m \u001b[38;5;28;01mas\u001b[39;00m err:\n",
      "File \u001b[0;32mindex.pyx:152\u001b[0m, in \u001b[0;36mpandas._libs.index.IndexEngine.get_loc\u001b[0;34m()\u001b[0m\n",
      "File \u001b[0;32mindex.pyx:181\u001b[0m, in \u001b[0;36mpandas._libs.index.IndexEngine.get_loc\u001b[0;34m()\u001b[0m\n",
      "File \u001b[0;32mpandas/_libs/hashtable_class_helper.pxi:7080\u001b[0m, in \u001b[0;36mpandas._libs.hashtable.PyObjectHashTable.get_item\u001b[0;34m()\u001b[0m\n",
      "File \u001b[0;32mpandas/_libs/hashtable_class_helper.pxi:7088\u001b[0m, in \u001b[0;36mpandas._libs.hashtable.PyObjectHashTable.get_item\u001b[0;34m()\u001b[0m\n",
      "\u001b[0;31mKeyError\u001b[0m: ('employee_id', 'first_name', 'last_name')",
      "\nThe above exception was the direct cause of the following exception:\n",
      "\u001b[0;31mKeyError\u001b[0m                                  Traceback (most recent call last)",
      "Cell \u001b[0;32mIn[190], line 12\u001b[0m\n\u001b[1;32m     10\u001b[0m emp_details \u001b[38;5;241m=\u001b[39m df[[\u001b[38;5;124m'\u001b[39m\u001b[38;5;124memployee_id\u001b[39m\u001b[38;5;124m'\u001b[39m,\u001b[38;5;124m'\u001b[39m\u001b[38;5;124mfirst_name\u001b[39m\u001b[38;5;124m'\u001b[39m,\u001b[38;5;124m'\u001b[39m\u001b[38;5;124mlast_name\u001b[39m\u001b[38;5;124m'\u001b[39m]]\n\u001b[1;32m     11\u001b[0m emp_details[\u001b[38;5;241m0\u001b[39m:\u001b[38;5;241m5\u001b[39m]\n\u001b[0;32m---> 12\u001b[0m df[\u001b[38;5;124m'\u001b[39m\u001b[38;5;124memployee_id\u001b[39m\u001b[38;5;124m'\u001b[39m,\u001b[38;5;124m'\u001b[39m\u001b[38;5;124mfirst_name\u001b[39m\u001b[38;5;124m'\u001b[39m,\u001b[38;5;124m'\u001b[39m\u001b[38;5;124mlast_name\u001b[39m\u001b[38;5;124m'\u001b[39m]\n",
      "File \u001b[0;32m/opt/anaconda3/lib/python3.11/site-packages/pandas/core/frame.py:3893\u001b[0m, in \u001b[0;36mDataFrame.__getitem__\u001b[0;34m(self, key)\u001b[0m\n\u001b[1;32m   3891\u001b[0m \u001b[38;5;28;01mif\u001b[39;00m \u001b[38;5;28mself\u001b[39m\u001b[38;5;241m.\u001b[39mcolumns\u001b[38;5;241m.\u001b[39mnlevels \u001b[38;5;241m>\u001b[39m \u001b[38;5;241m1\u001b[39m:\n\u001b[1;32m   3892\u001b[0m     \u001b[38;5;28;01mreturn\u001b[39;00m \u001b[38;5;28mself\u001b[39m\u001b[38;5;241m.\u001b[39m_getitem_multilevel(key)\n\u001b[0;32m-> 3893\u001b[0m indexer \u001b[38;5;241m=\u001b[39m \u001b[38;5;28mself\u001b[39m\u001b[38;5;241m.\u001b[39mcolumns\u001b[38;5;241m.\u001b[39mget_loc(key)\n\u001b[1;32m   3894\u001b[0m \u001b[38;5;28;01mif\u001b[39;00m is_integer(indexer):\n\u001b[1;32m   3895\u001b[0m     indexer \u001b[38;5;241m=\u001b[39m [indexer]\n",
      "File \u001b[0;32m/opt/anaconda3/lib/python3.11/site-packages/pandas/core/indexes/base.py:3798\u001b[0m, in \u001b[0;36mIndex.get_loc\u001b[0;34m(self, key)\u001b[0m\n\u001b[1;32m   3793\u001b[0m     \u001b[38;5;28;01mif\u001b[39;00m \u001b[38;5;28misinstance\u001b[39m(casted_key, \u001b[38;5;28mslice\u001b[39m) \u001b[38;5;129;01mor\u001b[39;00m (\n\u001b[1;32m   3794\u001b[0m         \u001b[38;5;28misinstance\u001b[39m(casted_key, abc\u001b[38;5;241m.\u001b[39mIterable)\n\u001b[1;32m   3795\u001b[0m         \u001b[38;5;129;01mand\u001b[39;00m \u001b[38;5;28many\u001b[39m(\u001b[38;5;28misinstance\u001b[39m(x, \u001b[38;5;28mslice\u001b[39m) \u001b[38;5;28;01mfor\u001b[39;00m x \u001b[38;5;129;01min\u001b[39;00m casted_key)\n\u001b[1;32m   3796\u001b[0m     ):\n\u001b[1;32m   3797\u001b[0m         \u001b[38;5;28;01mraise\u001b[39;00m InvalidIndexError(key)\n\u001b[0;32m-> 3798\u001b[0m     \u001b[38;5;28;01mraise\u001b[39;00m \u001b[38;5;167;01mKeyError\u001b[39;00m(key) \u001b[38;5;28;01mfrom\u001b[39;00m \u001b[38;5;21;01merr\u001b[39;00m\n\u001b[1;32m   3799\u001b[0m \u001b[38;5;28;01mexcept\u001b[39;00m \u001b[38;5;167;01mTypeError\u001b[39;00m:\n\u001b[1;32m   3800\u001b[0m     \u001b[38;5;66;03m# If we have a listlike key, _check_indexing_error will raise\u001b[39;00m\n\u001b[1;32m   3801\u001b[0m     \u001b[38;5;66;03m#  InvalidIndexError. Otherwise we fall through and re-raise\u001b[39;00m\n\u001b[1;32m   3802\u001b[0m     \u001b[38;5;66;03m#  the TypeError.\u001b[39;00m\n\u001b[1;32m   3803\u001b[0m     \u001b[38;5;28mself\u001b[39m\u001b[38;5;241m.\u001b[39m_check_indexing_error(key)\n",
      "\u001b[0;31mKeyError\u001b[0m: ('employee_id', 'first_name', 'last_name')"
     ]
    }
   ],
   "source": [
    "df[0:5] # row based slicing\n",
    "# Selection of columns\n",
    "# each individual column is a series i.e all the functions of pandas series can be applied on each of the column selected in dataframes\n",
    "print (type(df['employee_id'])) # this would return a pandas series\n",
    "print (type(df[['employee_id']])) # this would return a pandas dataframe\n",
    "# slicing of a pandas series i.e here employee_id column\n",
    "print (df['employee_id'][1:5])\n",
    "print (df[1:5])\n",
    "# selection of columns and slicing\n",
    "emp_details = df[['employee_id','first_name','last_name']]\n",
    "emp_details[0:5]"
   ]
  },
  {
   "cell_type": "code",
   "execution_count": 198,
   "id": "627a2729-d5de-4407-a522-0a7fe17a5aec",
   "metadata": {},
   "outputs": [
    {
     "name": "stdout",
     "output_type": "stream",
     "text": [
      "columns to select  ['employee_id', 'salary', 'manager_id']\n",
      "new dataframe with employees salary and manager id is\n",
      "     employee_id  salary  manager_id\n",
      "0           100   24000         100\n",
      "1           101   50806         100\n",
      "2           102   54071         102\n",
      "3           103   26969         103\n",
      "4           104   34048         105\n",
      "5           105   46206         113\n",
      "6           106   63090         123\n",
      "7           107   56356         131\n",
      "8           108   23488         111\n",
      "9           109   29047         114\n",
      "10          110   51428         145\n",
      "11          111   61770         145\n",
      "12          112   30897         112\n",
      "13          113   59197         131\n",
      "14          114   61211         121\n",
      "15          115   43386         116\n",
      "16          116   27978         117\n",
      "17          117   46632         118\n",
      "18          118   66662         121\n",
      "19          119   38628         120\n",
      "20          120   20068         119\n"
     ]
    }
   ],
   "source": [
    "# Create a new data frame with columns as employee_id, salary and manager_id\n",
    "cols_to_select = ['employee_id','salary','manager_id']\n",
    "print (\"columns to select \",cols_to_select)\n",
    "emp_salary_details = df[cols_to_select]\n",
    "print (\"new dataframe with employees salary and manager id is\\n\",emp_salary_details)"
   ]
  },
  {
   "cell_type": "code",
   "execution_count": 127,
   "id": "fe2e7e1a-8981-4df9-9527-0d760b7c2d00",
   "metadata": {},
   "outputs": [
    {
     "name": "stdout",
     "output_type": "stream",
     "text": [
      "[0      True\n",
      "1     False\n",
      "2     False\n",
      "3      True\n",
      "4     False\n",
      "5     False\n",
      "6     False\n",
      "7     False\n",
      "8      True\n",
      "9      True\n",
      "10    False\n",
      "11    False\n",
      "12    False\n",
      "13    False\n",
      "14    False\n",
      "15    False\n",
      "16     True\n",
      "17    False\n",
      "18    False\n",
      "19    False\n",
      "20     True\n",
      "Name: salary, dtype: bool]\n"
     ]
    },
    {
     "data": {
      "text/html": [
       "<div>\n",
       "<style scoped>\n",
       "    .dataframe tbody tr th:only-of-type {\n",
       "        vertical-align: middle;\n",
       "    }\n",
       "\n",
       "    .dataframe tbody tr th {\n",
       "        vertical-align: top;\n",
       "    }\n",
       "\n",
       "    .dataframe thead th {\n",
       "        text-align: right;\n",
       "    }\n",
       "</style>\n",
       "<table border=\"1\" class=\"dataframe\">\n",
       "  <thead>\n",
       "    <tr style=\"text-align: right;\">\n",
       "      <th></th>\n",
       "      <th>employee_id</th>\n",
       "      <th>first_name</th>\n",
       "      <th>last_name</th>\n",
       "      <th>email</th>\n",
       "      <th>phone_number</th>\n",
       "      <th>hire_date</th>\n",
       "      <th>job_id</th>\n",
       "      <th>salary</th>\n",
       "      <th>manager_id</th>\n",
       "      <th>department_id</th>\n",
       "    </tr>\n",
       "  </thead>\n",
       "  <tbody>\n",
       "    <tr>\n",
       "      <th>0</th>\n",
       "      <td>100</td>\n",
       "      <td>Steven</td>\n",
       "      <td>King</td>\n",
       "      <td>Steven@gmail.com</td>\n",
       "      <td>515.125.678</td>\n",
       "      <td>17-06-2017</td>\n",
       "      <td>AD_PRES</td>\n",
       "      <td>24000</td>\n",
       "      <td>100</td>\n",
       "      <td>90</td>\n",
       "    </tr>\n",
       "    <tr>\n",
       "      <th>3</th>\n",
       "      <td>103</td>\n",
       "      <td>Bruce</td>\n",
       "      <td>Popp</td>\n",
       "      <td>Bruce@gmail.com</td>\n",
       "      <td>515.125.679</td>\n",
       "      <td>08-04-2003</td>\n",
       "      <td>FI_MGR</td>\n",
       "      <td>26969</td>\n",
       "      <td>103</td>\n",
       "      <td>60</td>\n",
       "    </tr>\n",
       "    <tr>\n",
       "      <th>8</th>\n",
       "      <td>108</td>\n",
       "      <td>Sigal</td>\n",
       "      <td>Kaufling</td>\n",
       "      <td>Kaufling@yahoo.com</td>\n",
       "      <td>515.123.247</td>\n",
       "      <td>17-06-2017</td>\n",
       "      <td>AD_VP</td>\n",
       "      <td>23488</td>\n",
       "      <td>111</td>\n",
       "      <td>60</td>\n",
       "    </tr>\n",
       "    <tr>\n",
       "      <th>9</th>\n",
       "      <td>109</td>\n",
       "      <td>Adam</td>\n",
       "      <td>Vollman</td>\n",
       "      <td>Adam@gmail.com</td>\n",
       "      <td>515.125.681</td>\n",
       "      <td>23-01-2001</td>\n",
       "      <td>IT_PROG</td>\n",
       "      <td>29047</td>\n",
       "      <td>114</td>\n",
       "      <td>90</td>\n",
       "    </tr>\n",
       "    <tr>\n",
       "      <th>16</th>\n",
       "      <td>116</td>\n",
       "      <td>Jason</td>\n",
       "      <td>Bernstein</td>\n",
       "      <td>Bernstein@yahoo.com</td>\n",
       "      <td>590.126.684</td>\n",
       "      <td>17-06-2017</td>\n",
       "      <td>IT_PROG</td>\n",
       "      <td>27978</td>\n",
       "      <td>117</td>\n",
       "      <td>100</td>\n",
       "    </tr>\n",
       "    <tr>\n",
       "      <th>20</th>\n",
       "      <td>120</td>\n",
       "      <td>Jack</td>\n",
       "      <td>Greene</td>\n",
       "      <td>Jgreene@gmail.com</td>\n",
       "      <td>515.123.251</td>\n",
       "      <td>17-06-2017</td>\n",
       "      <td>AC_ACCOUNTANT</td>\n",
       "      <td>20068</td>\n",
       "      <td>119</td>\n",
       "      <td>90</td>\n",
       "    </tr>\n",
       "  </tbody>\n",
       "</table>\n",
       "</div>"
      ],
      "text/plain": [
       "    employee_id first_name  last_name                email phone_number  \\\n",
       "0           100     Steven       King     Steven@gmail.com  515.125.678   \n",
       "3           103      Bruce       Popp      Bruce@gmail.com  515.125.679   \n",
       "8           108      Sigal   Kaufling   Kaufling@yahoo.com  515.123.247   \n",
       "9           109       Adam    Vollman       Adam@gmail.com  515.125.681   \n",
       "16          116      Jason  Bernstein  Bernstein@yahoo.com  590.126.684   \n",
       "20          120       Jack     Greene    Jgreene@gmail.com  515.123.251   \n",
       "\n",
       "     hire_date         job_id  salary  manager_id  department_id  \n",
       "0   17-06-2017        AD_PRES   24000         100             90  \n",
       "3   08-04-2003         FI_MGR   26969         103             60  \n",
       "8   17-06-2017          AD_VP   23488         111             60  \n",
       "9   23-01-2001        IT_PROG   29047         114             90  \n",
       "16  17-06-2017        IT_PROG   27978         117            100  \n",
       "20  17-06-2017  AC_ACCOUNTANT   20068         119             90  "
      ]
     },
     "execution_count": 127,
     "metadata": {},
     "output_type": "execute_result"
    }
   ],
   "source": [
    "# program to find the employee_details where salary is between 20000 and 30000\n",
    "condition = [(df['salary'] > 20000) & (df['salary'] < 30000)]\n",
    "print (condition)\n",
    "# the aboove would show you how internally the list for condition is created\n",
    "df[(df['salary'] > 20000) & (df['salary'] < 30000)]"
   ]
  },
  {
   "cell_type": "code",
   "execution_count": 204,
   "id": "26e55d72-48a6-44e2-8bab-2329b8391827",
   "metadata": {},
   "outputs": [
    {
     "data": {
      "text/plain": [
       "department_id\n",
       "90     5\n",
       "70     5\n",
       "60     4\n",
       "80     4\n",
       "100    3\n",
       "Name: count, dtype: int64"
      ]
     },
     "execution_count": 204,
     "metadata": {},
     "output_type": "execute_result"
    }
   ],
   "source": [
    "df['department_id'].value_counts()"
   ]
  },
  {
   "cell_type": "code",
   "execution_count": 130,
   "id": "fc583463-4e2c-4dd4-a12b-f03fe648763e",
   "metadata": {},
   "outputs": [
    {
     "ename": "TypeError",
     "evalue": "Could not convert ['StevenRossAlexBruceDavidNancyJohnDanielSigalAdamMathewHarveyKevinJuliaIreneJamesJasonPeterSarthaWilliamJack'\n 'KingKochharUrmanPoppRaphaelyKhooBaidaWeissKauflingVollmanHimuroMikkilineniRogersPatelDaviesZlotkeyBernsteinHallSullySmithGreene'\n 'Steven@gmail.comRkochhar@yahoo.comAlexUrman@gmail.comBruce@gmail.comRaphaely@gmail.comNancy@gmail.comJohn@yahoo.comWeiss@yahoo.comKaufling@yahoo.comAdam@gmail.comHimuro@yahoo.comHarvey@gmail.comRogers@yahoo.comJulia@yahoo.comDavies@gmail.comJames@gmail.comBernstein@yahoo.comHall@gmail.comSartha@gmail.comSmith@yahoo.comJgreene@gmail.com'\n '515.125.678590.126.679515.123.245515.125.679590.126.680515.123.246515.125.680590.126.681515.123.247515.125.681590.126.682515.123.248515.125.682590.126.683515.123.249515.125.683590.126.684515.123.250515.125.684590.126.685515.123.251'\n '17-06-201723-01-200131-08-200208-04-200315-11-200923-06-200529-01-200906-09-190217-06-201723-01-200117-06-201723-01-200117-06-201723-01-200117-06-201723-01-200117-06-201723-01-200117-06-201723-01-200117-06-2017'\n 'AD_PRESAD_VPIT_PROGFI_MGRPU_MANST_CLERKAC_ACCOUNTANTAD_PRESAD_VPIT_PROGFI_MGRPU_MANST_CLERKAC_ACCOUNTANTAD_PRESAD_VPIT_PROGFI_MGRPU_MANST_CLERKAC_ACCOUNTANT'] to numeric",
     "output_type": "error",
     "traceback": [
      "\u001b[0;31m---------------------------------------------------------------------------\u001b[0m",
      "\u001b[0;31mTypeError\u001b[0m                                 Traceback (most recent call last)",
      "Cell \u001b[0;32mIn[130], line 3\u001b[0m\n\u001b[1;32m      1\u001b[0m df\u001b[38;5;241m.\u001b[39mmin()\n\u001b[1;32m      2\u001b[0m df\u001b[38;5;241m.\u001b[39mmax()\n\u001b[0;32m----> 3\u001b[0m df\u001b[38;5;241m.\u001b[39mmean()\n\u001b[1;32m      4\u001b[0m df\u001b[38;5;241m.\u001b[39mmedian()\n",
      "File \u001b[0;32m/opt/anaconda3/lib/python3.11/site-packages/pandas/core/frame.py:11335\u001b[0m, in \u001b[0;36mDataFrame.mean\u001b[0;34m(self, axis, skipna, numeric_only, **kwargs)\u001b[0m\n\u001b[1;32m  11327\u001b[0m \u001b[38;5;129m@doc\u001b[39m(make_doc(\u001b[38;5;124m\"\u001b[39m\u001b[38;5;124mmean\u001b[39m\u001b[38;5;124m\"\u001b[39m, ndim\u001b[38;5;241m=\u001b[39m\u001b[38;5;241m2\u001b[39m))\n\u001b[1;32m  11328\u001b[0m \u001b[38;5;28;01mdef\u001b[39;00m \u001b[38;5;21mmean\u001b[39m(\n\u001b[1;32m  11329\u001b[0m     \u001b[38;5;28mself\u001b[39m,\n\u001b[0;32m   (...)\u001b[0m\n\u001b[1;32m  11333\u001b[0m     \u001b[38;5;241m*\u001b[39m\u001b[38;5;241m*\u001b[39mkwargs,\n\u001b[1;32m  11334\u001b[0m ):\n\u001b[0;32m> 11335\u001b[0m     result \u001b[38;5;241m=\u001b[39m \u001b[38;5;28msuper\u001b[39m()\u001b[38;5;241m.\u001b[39mmean(axis, skipna, numeric_only, \u001b[38;5;241m*\u001b[39m\u001b[38;5;241m*\u001b[39mkwargs)\n\u001b[1;32m  11336\u001b[0m     \u001b[38;5;28;01mif\u001b[39;00m \u001b[38;5;28misinstance\u001b[39m(result, Series):\n\u001b[1;32m  11337\u001b[0m         result \u001b[38;5;241m=\u001b[39m result\u001b[38;5;241m.\u001b[39m__finalize__(\u001b[38;5;28mself\u001b[39m, method\u001b[38;5;241m=\u001b[39m\u001b[38;5;124m\"\u001b[39m\u001b[38;5;124mmean\u001b[39m\u001b[38;5;124m\"\u001b[39m)\n",
      "File \u001b[0;32m/opt/anaconda3/lib/python3.11/site-packages/pandas/core/generic.py:11992\u001b[0m, in \u001b[0;36mNDFrame.mean\u001b[0;34m(self, axis, skipna, numeric_only, **kwargs)\u001b[0m\n\u001b[1;32m  11985\u001b[0m \u001b[38;5;28;01mdef\u001b[39;00m \u001b[38;5;21mmean\u001b[39m(\n\u001b[1;32m  11986\u001b[0m     \u001b[38;5;28mself\u001b[39m,\n\u001b[1;32m  11987\u001b[0m     axis: Axis \u001b[38;5;241m|\u001b[39m \u001b[38;5;28;01mNone\u001b[39;00m \u001b[38;5;241m=\u001b[39m \u001b[38;5;241m0\u001b[39m,\n\u001b[0;32m   (...)\u001b[0m\n\u001b[1;32m  11990\u001b[0m     \u001b[38;5;241m*\u001b[39m\u001b[38;5;241m*\u001b[39mkwargs,\n\u001b[1;32m  11991\u001b[0m ) \u001b[38;5;241m-\u001b[39m\u001b[38;5;241m>\u001b[39m Series \u001b[38;5;241m|\u001b[39m \u001b[38;5;28mfloat\u001b[39m:\n\u001b[0;32m> 11992\u001b[0m     \u001b[38;5;28;01mreturn\u001b[39;00m \u001b[38;5;28mself\u001b[39m\u001b[38;5;241m.\u001b[39m_stat_function(\n\u001b[1;32m  11993\u001b[0m         \u001b[38;5;124m\"\u001b[39m\u001b[38;5;124mmean\u001b[39m\u001b[38;5;124m\"\u001b[39m, nanops\u001b[38;5;241m.\u001b[39mnanmean, axis, skipna, numeric_only, \u001b[38;5;241m*\u001b[39m\u001b[38;5;241m*\u001b[39mkwargs\n\u001b[1;32m  11994\u001b[0m     )\n",
      "File \u001b[0;32m/opt/anaconda3/lib/python3.11/site-packages/pandas/core/generic.py:11949\u001b[0m, in \u001b[0;36mNDFrame._stat_function\u001b[0;34m(self, name, func, axis, skipna, numeric_only, **kwargs)\u001b[0m\n\u001b[1;32m  11945\u001b[0m nv\u001b[38;5;241m.\u001b[39mvalidate_func(name, (), kwargs)\n\u001b[1;32m  11947\u001b[0m validate_bool_kwarg(skipna, \u001b[38;5;124m\"\u001b[39m\u001b[38;5;124mskipna\u001b[39m\u001b[38;5;124m\"\u001b[39m, none_allowed\u001b[38;5;241m=\u001b[39m\u001b[38;5;28;01mFalse\u001b[39;00m)\n\u001b[0;32m> 11949\u001b[0m \u001b[38;5;28;01mreturn\u001b[39;00m \u001b[38;5;28mself\u001b[39m\u001b[38;5;241m.\u001b[39m_reduce(\n\u001b[1;32m  11950\u001b[0m     func, name\u001b[38;5;241m=\u001b[39mname, axis\u001b[38;5;241m=\u001b[39maxis, skipna\u001b[38;5;241m=\u001b[39mskipna, numeric_only\u001b[38;5;241m=\u001b[39mnumeric_only\n\u001b[1;32m  11951\u001b[0m )\n",
      "File \u001b[0;32m/opt/anaconda3/lib/python3.11/site-packages/pandas/core/frame.py:11204\u001b[0m, in \u001b[0;36mDataFrame._reduce\u001b[0;34m(self, op, name, axis, skipna, numeric_only, filter_type, **kwds)\u001b[0m\n\u001b[1;32m  11200\u001b[0m     df \u001b[38;5;241m=\u001b[39m df\u001b[38;5;241m.\u001b[39mT\n\u001b[1;32m  11202\u001b[0m \u001b[38;5;66;03m# After possibly _get_data and transposing, we are now in the\u001b[39;00m\n\u001b[1;32m  11203\u001b[0m \u001b[38;5;66;03m#  simple case where we can use BlockManager.reduce\u001b[39;00m\n\u001b[0;32m> 11204\u001b[0m res \u001b[38;5;241m=\u001b[39m df\u001b[38;5;241m.\u001b[39m_mgr\u001b[38;5;241m.\u001b[39mreduce(blk_func)\n\u001b[1;32m  11205\u001b[0m out \u001b[38;5;241m=\u001b[39m df\u001b[38;5;241m.\u001b[39m_constructor_from_mgr(res, axes\u001b[38;5;241m=\u001b[39mres\u001b[38;5;241m.\u001b[39maxes)\u001b[38;5;241m.\u001b[39miloc[\u001b[38;5;241m0\u001b[39m]\n\u001b[1;32m  11206\u001b[0m \u001b[38;5;28;01mif\u001b[39;00m out_dtype \u001b[38;5;129;01mis\u001b[39;00m \u001b[38;5;129;01mnot\u001b[39;00m \u001b[38;5;28;01mNone\u001b[39;00m \u001b[38;5;129;01mand\u001b[39;00m out\u001b[38;5;241m.\u001b[39mdtype \u001b[38;5;241m!=\u001b[39m \u001b[38;5;124m\"\u001b[39m\u001b[38;5;124mboolean\u001b[39m\u001b[38;5;124m\"\u001b[39m:\n",
      "File \u001b[0;32m/opt/anaconda3/lib/python3.11/site-packages/pandas/core/internals/managers.py:1459\u001b[0m, in \u001b[0;36mBlockManager.reduce\u001b[0;34m(self, func)\u001b[0m\n\u001b[1;32m   1457\u001b[0m res_blocks: \u001b[38;5;28mlist\u001b[39m[Block] \u001b[38;5;241m=\u001b[39m []\n\u001b[1;32m   1458\u001b[0m \u001b[38;5;28;01mfor\u001b[39;00m blk \u001b[38;5;129;01min\u001b[39;00m \u001b[38;5;28mself\u001b[39m\u001b[38;5;241m.\u001b[39mblocks:\n\u001b[0;32m-> 1459\u001b[0m     nbs \u001b[38;5;241m=\u001b[39m blk\u001b[38;5;241m.\u001b[39mreduce(func)\n\u001b[1;32m   1460\u001b[0m     res_blocks\u001b[38;5;241m.\u001b[39mextend(nbs)\n\u001b[1;32m   1462\u001b[0m index \u001b[38;5;241m=\u001b[39m Index([\u001b[38;5;28;01mNone\u001b[39;00m])  \u001b[38;5;66;03m# placeholder\u001b[39;00m\n",
      "File \u001b[0;32m/opt/anaconda3/lib/python3.11/site-packages/pandas/core/internals/blocks.py:377\u001b[0m, in \u001b[0;36mBlock.reduce\u001b[0;34m(self, func)\u001b[0m\n\u001b[1;32m    371\u001b[0m \u001b[38;5;129m@final\u001b[39m\n\u001b[1;32m    372\u001b[0m \u001b[38;5;28;01mdef\u001b[39;00m \u001b[38;5;21mreduce\u001b[39m(\u001b[38;5;28mself\u001b[39m, func) \u001b[38;5;241m-\u001b[39m\u001b[38;5;241m>\u001b[39m \u001b[38;5;28mlist\u001b[39m[Block]:\n\u001b[1;32m    373\u001b[0m     \u001b[38;5;66;03m# We will apply the function and reshape the result into a single-row\u001b[39;00m\n\u001b[1;32m    374\u001b[0m     \u001b[38;5;66;03m#  Block with the same mgr_locs; squeezing will be done at a higher level\u001b[39;00m\n\u001b[1;32m    375\u001b[0m     \u001b[38;5;28;01massert\u001b[39;00m \u001b[38;5;28mself\u001b[39m\u001b[38;5;241m.\u001b[39mndim \u001b[38;5;241m==\u001b[39m \u001b[38;5;241m2\u001b[39m\n\u001b[0;32m--> 377\u001b[0m     result \u001b[38;5;241m=\u001b[39m func(\u001b[38;5;28mself\u001b[39m\u001b[38;5;241m.\u001b[39mvalues)\n\u001b[1;32m    379\u001b[0m     \u001b[38;5;28;01mif\u001b[39;00m \u001b[38;5;28mself\u001b[39m\u001b[38;5;241m.\u001b[39mvalues\u001b[38;5;241m.\u001b[39mndim \u001b[38;5;241m==\u001b[39m \u001b[38;5;241m1\u001b[39m:\n\u001b[1;32m    380\u001b[0m         res_values \u001b[38;5;241m=\u001b[39m result\n",
      "File \u001b[0;32m/opt/anaconda3/lib/python3.11/site-packages/pandas/core/frame.py:11136\u001b[0m, in \u001b[0;36mDataFrame._reduce.<locals>.blk_func\u001b[0;34m(values, axis)\u001b[0m\n\u001b[1;32m  11134\u001b[0m         \u001b[38;5;28;01mreturn\u001b[39;00m np\u001b[38;5;241m.\u001b[39marray([result])\n\u001b[1;32m  11135\u001b[0m \u001b[38;5;28;01melse\u001b[39;00m:\n\u001b[0;32m> 11136\u001b[0m     \u001b[38;5;28;01mreturn\u001b[39;00m op(values, axis\u001b[38;5;241m=\u001b[39maxis, skipna\u001b[38;5;241m=\u001b[39mskipna, \u001b[38;5;241m*\u001b[39m\u001b[38;5;241m*\u001b[39mkwds)\n",
      "File \u001b[0;32m/opt/anaconda3/lib/python3.11/site-packages/pandas/core/nanops.py:147\u001b[0m, in \u001b[0;36mbottleneck_switch.__call__.<locals>.f\u001b[0;34m(values, axis, skipna, **kwds)\u001b[0m\n\u001b[1;32m    145\u001b[0m         result \u001b[38;5;241m=\u001b[39m alt(values, axis\u001b[38;5;241m=\u001b[39maxis, skipna\u001b[38;5;241m=\u001b[39mskipna, \u001b[38;5;241m*\u001b[39m\u001b[38;5;241m*\u001b[39mkwds)\n\u001b[1;32m    146\u001b[0m \u001b[38;5;28;01melse\u001b[39;00m:\n\u001b[0;32m--> 147\u001b[0m     result \u001b[38;5;241m=\u001b[39m alt(values, axis\u001b[38;5;241m=\u001b[39maxis, skipna\u001b[38;5;241m=\u001b[39mskipna, \u001b[38;5;241m*\u001b[39m\u001b[38;5;241m*\u001b[39mkwds)\n\u001b[1;32m    149\u001b[0m \u001b[38;5;28;01mreturn\u001b[39;00m result\n",
      "File \u001b[0;32m/opt/anaconda3/lib/python3.11/site-packages/pandas/core/nanops.py:404\u001b[0m, in \u001b[0;36m_datetimelike_compat.<locals>.new_func\u001b[0;34m(values, axis, skipna, mask, **kwargs)\u001b[0m\n\u001b[1;32m    401\u001b[0m \u001b[38;5;28;01mif\u001b[39;00m datetimelike \u001b[38;5;129;01mand\u001b[39;00m mask \u001b[38;5;129;01mis\u001b[39;00m \u001b[38;5;28;01mNone\u001b[39;00m:\n\u001b[1;32m    402\u001b[0m     mask \u001b[38;5;241m=\u001b[39m isna(values)\n\u001b[0;32m--> 404\u001b[0m result \u001b[38;5;241m=\u001b[39m func(values, axis\u001b[38;5;241m=\u001b[39maxis, skipna\u001b[38;5;241m=\u001b[39mskipna, mask\u001b[38;5;241m=\u001b[39mmask, \u001b[38;5;241m*\u001b[39m\u001b[38;5;241m*\u001b[39mkwargs)\n\u001b[1;32m    406\u001b[0m \u001b[38;5;28;01mif\u001b[39;00m datetimelike:\n\u001b[1;32m    407\u001b[0m     result \u001b[38;5;241m=\u001b[39m _wrap_results(result, orig_values\u001b[38;5;241m.\u001b[39mdtype, fill_value\u001b[38;5;241m=\u001b[39miNaT)\n",
      "File \u001b[0;32m/opt/anaconda3/lib/python3.11/site-packages/pandas/core/nanops.py:720\u001b[0m, in \u001b[0;36mnanmean\u001b[0;34m(values, axis, skipna, mask)\u001b[0m\n\u001b[1;32m    718\u001b[0m count \u001b[38;5;241m=\u001b[39m _get_counts(values\u001b[38;5;241m.\u001b[39mshape, mask, axis, dtype\u001b[38;5;241m=\u001b[39mdtype_count)\n\u001b[1;32m    719\u001b[0m the_sum \u001b[38;5;241m=\u001b[39m values\u001b[38;5;241m.\u001b[39msum(axis, dtype\u001b[38;5;241m=\u001b[39mdtype_sum)\n\u001b[0;32m--> 720\u001b[0m the_sum \u001b[38;5;241m=\u001b[39m _ensure_numeric(the_sum)\n\u001b[1;32m    722\u001b[0m \u001b[38;5;28;01mif\u001b[39;00m axis \u001b[38;5;129;01mis\u001b[39;00m \u001b[38;5;129;01mnot\u001b[39;00m \u001b[38;5;28;01mNone\u001b[39;00m \u001b[38;5;129;01mand\u001b[39;00m \u001b[38;5;28mgetattr\u001b[39m(the_sum, \u001b[38;5;124m\"\u001b[39m\u001b[38;5;124mndim\u001b[39m\u001b[38;5;124m\"\u001b[39m, \u001b[38;5;28;01mFalse\u001b[39;00m):\n\u001b[1;32m    723\u001b[0m     count \u001b[38;5;241m=\u001b[39m cast(np\u001b[38;5;241m.\u001b[39mndarray, count)\n",
      "File \u001b[0;32m/opt/anaconda3/lib/python3.11/site-packages/pandas/core/nanops.py:1678\u001b[0m, in \u001b[0;36m_ensure_numeric\u001b[0;34m(x)\u001b[0m\n\u001b[1;32m   1675\u001b[0m inferred \u001b[38;5;241m=\u001b[39m lib\u001b[38;5;241m.\u001b[39minfer_dtype(x)\n\u001b[1;32m   1676\u001b[0m \u001b[38;5;28;01mif\u001b[39;00m inferred \u001b[38;5;129;01min\u001b[39;00m [\u001b[38;5;124m\"\u001b[39m\u001b[38;5;124mstring\u001b[39m\u001b[38;5;124m\"\u001b[39m, \u001b[38;5;124m\"\u001b[39m\u001b[38;5;124mmixed\u001b[39m\u001b[38;5;124m\"\u001b[39m]:\n\u001b[1;32m   1677\u001b[0m     \u001b[38;5;66;03m# GH#44008, GH#36703 avoid casting e.g. strings to numeric\u001b[39;00m\n\u001b[0;32m-> 1678\u001b[0m     \u001b[38;5;28;01mraise\u001b[39;00m \u001b[38;5;167;01mTypeError\u001b[39;00m(\u001b[38;5;124mf\u001b[39m\u001b[38;5;124m\"\u001b[39m\u001b[38;5;124mCould not convert \u001b[39m\u001b[38;5;132;01m{\u001b[39;00mx\u001b[38;5;132;01m}\u001b[39;00m\u001b[38;5;124m to numeric\u001b[39m\u001b[38;5;124m\"\u001b[39m)\n\u001b[1;32m   1679\u001b[0m \u001b[38;5;28;01mtry\u001b[39;00m:\n\u001b[1;32m   1680\u001b[0m     x \u001b[38;5;241m=\u001b[39m x\u001b[38;5;241m.\u001b[39mastype(np\u001b[38;5;241m.\u001b[39mcomplex128)\n",
      "\u001b[0;31mTypeError\u001b[0m: Could not convert ['StevenRossAlexBruceDavidNancyJohnDanielSigalAdamMathewHarveyKevinJuliaIreneJamesJasonPeterSarthaWilliamJack'\n 'KingKochharUrmanPoppRaphaelyKhooBaidaWeissKauflingVollmanHimuroMikkilineniRogersPatelDaviesZlotkeyBernsteinHallSullySmithGreene'\n 'Steven@gmail.comRkochhar@yahoo.comAlexUrman@gmail.comBruce@gmail.comRaphaely@gmail.comNancy@gmail.comJohn@yahoo.comWeiss@yahoo.comKaufling@yahoo.comAdam@gmail.comHimuro@yahoo.comHarvey@gmail.comRogers@yahoo.comJulia@yahoo.comDavies@gmail.comJames@gmail.comBernstein@yahoo.comHall@gmail.comSartha@gmail.comSmith@yahoo.comJgreene@gmail.com'\n '515.125.678590.126.679515.123.245515.125.679590.126.680515.123.246515.125.680590.126.681515.123.247515.125.681590.126.682515.123.248515.125.682590.126.683515.123.249515.125.683590.126.684515.123.250515.125.684590.126.685515.123.251'\n '17-06-201723-01-200131-08-200208-04-200315-11-200923-06-200529-01-200906-09-190217-06-201723-01-200117-06-201723-01-200117-06-201723-01-200117-06-201723-01-200117-06-201723-01-200117-06-201723-01-200117-06-2017'\n 'AD_PRESAD_VPIT_PROGFI_MGRPU_MANST_CLERKAC_ACCOUNTANTAD_PRESAD_VPIT_PROGFI_MGRPU_MANST_CLERKAC_ACCOUNTANTAD_PRESAD_VPIT_PROGFI_MGRPU_MANST_CLERKAC_ACCOUNTANT'] to numeric"
     ]
    }
   ],
   "source": [
    "print (\"min of all columns\",df.min())\n",
    "print (\"min of a column \",df['salary'].min())\n",
    "print (df.max())\n",
    "print (df.mean())\n",
    "print (df['salary'].median())"
   ]
  },
  {
   "cell_type": "code",
   "execution_count": 139,
   "id": "a935b8e6-d261-4e31-b657-752c766be6f6",
   "metadata": {},
   "outputs": [],
   "source": [
    "import numpy as np\n",
    "increment = list(np.random.randint(1,12,21))"
   ]
  },
  {
   "cell_type": "code",
   "execution_count": 140,
   "id": "40850fd0-7fc5-4652-a24a-9bcd569d0962",
   "metadata": {},
   "outputs": [],
   "source": [
    "df['increment'] = increment"
   ]
  },
  {
   "cell_type": "code",
   "execution_count": null,
   "id": "cd0752d5-406b-4519-8090-1e33f968077d",
   "metadata": {},
   "outputs": [],
   "source": [
    "# arithmetic operations"
   ]
  },
  {
   "cell_type": "code",
   "execution_count": 143,
   "id": "6e59a032-5180-4cbd-a8b5-472efdce658b",
   "metadata": {},
   "outputs": [
    {
     "data": {
      "text/plain": [
       "0     0.09\n",
       "1     0.07\n",
       "2     0.01\n",
       "3     0.08\n",
       "4     0.04\n",
       "5     0.07\n",
       "6     0.09\n",
       "7     0.10\n",
       "8     0.06\n",
       "9     0.07\n",
       "10    0.02\n",
       "11    0.11\n",
       "12    0.07\n",
       "13    0.06\n",
       "14    0.09\n",
       "15    0.01\n",
       "16    0.05\n",
       "17    0.08\n",
       "18    0.01\n",
       "19    0.09\n",
       "20    0.02\n",
       "Name: increment, dtype: float64"
      ]
     },
     "execution_count": 143,
     "metadata": {},
     "output_type": "execute_result"
    }
   ],
   "source": [
    "# scalar division\n",
    "# can do any operation: add,multiply,subtract,divide\n",
    "df['increment']/100"
   ]
  },
  {
   "cell_type": "code",
   "execution_count": 145,
   "id": "7f337168-4606-4e54-bfde-9d1839e21577",
   "metadata": {},
   "outputs": [],
   "source": [
    "# series operation\n",
    "    # can do any operation between series : add,multiply,subtract,divide\n",
    "inc_series = df['salary'] * df['increment']/100\n",
    "# storing the results in to a new column\n",
    "df['incremented_sal'] = inc_series"
   ]
  },
  {
   "cell_type": "code",
   "execution_count": 146,
   "id": "8ab51416-3095-4562-9d63-73518a266593",
   "metadata": {},
   "outputs": [
    {
     "data": {
      "text/plain": [
       "Index(['employee_id', 'first_name', 'last_name', 'email', 'phone_number',\n",
       "       'hire_date', 'job_id', 'salary', 'manager_id', 'department_id',\n",
       "       'increment', 'incremented_sal'],\n",
       "      dtype='object')"
      ]
     },
     "execution_count": 146,
     "metadata": {},
     "output_type": "execute_result"
    }
   ],
   "source": [
    "df.columns"
   ]
  },
  {
   "cell_type": "code",
   "execution_count": 150,
   "id": "103dccc5-bb8f-45f1-b0da-23d0777f56ec",
   "metadata": {},
   "outputs": [
    {
     "name": "stdout",
     "output_type": "stream",
     "text": [
      "    employee_id first_name    last_name                email phone_number  \\\n",
      "20          120       Jack       Greene    Jgreene@gmail.com  515.123.251   \n",
      "8           108      Sigal     Kaufling   Kaufling@yahoo.com  515.123.247   \n",
      "0           100     Steven         King     Steven@gmail.com  515.125.678   \n",
      "3           103      Bruce         Popp      Bruce@gmail.com  515.125.679   \n",
      "16          116      Jason    Bernstein  Bernstein@yahoo.com  590.126.684   \n",
      "9           109       Adam      Vollman       Adam@gmail.com  515.125.681   \n",
      "12          112      Kevin       Rogers     Rogers@yahoo.com  515.125.682   \n",
      "4           104      David     Raphaely   Raphaely@gmail.com  590.126.680   \n",
      "19          119    William        Smith      Smith@yahoo.com  590.126.685   \n",
      "15          115      James      Zlotkey      James@gmail.com  515.125.683   \n",
      "5           105      Nancy         Khoo      Nancy@gmail.com  515.123.246   \n",
      "17          117      Peter         Hall       Hall@gmail.com  515.123.250   \n",
      "1           101       Ross      Kochhar   Rkochhar@yahoo.com  590.126.679   \n",
      "10          110     Mathew       Himuro     Himuro@yahoo.com  590.126.682   \n",
      "2           102       Alex        Urman  AlexUrman@gmail.com  515.123.245   \n",
      "7           107     Daniel        Weiss      Weiss@yahoo.com  590.126.681   \n",
      "13          113      Julia        Patel      Julia@yahoo.com  590.126.683   \n",
      "14          114      Irene       Davies     Davies@gmail.com  515.123.249   \n",
      "11          111     Harvey  Mikkilineni     Harvey@gmail.com  515.123.248   \n",
      "6           106       John        Baida       John@yahoo.com  515.125.680   \n",
      "18          118     Sartha        Sully     Sartha@gmail.com  515.125.684   \n",
      "\n",
      "     hire_date         job_id  salary  manager_id  department_id  increment  \\\n",
      "20  17-06-2017  AC_ACCOUNTANT   20068         119             90          2   \n",
      "8   17-06-2017          AD_VP   23488         111             60          6   \n",
      "0   17-06-2017        AD_PRES   24000         100             90          9   \n",
      "3   08-04-2003         FI_MGR   26969         103             60          8   \n",
      "16  17-06-2017        IT_PROG   27978         117            100          5   \n",
      "9   23-01-2001        IT_PROG   29047         114             90          7   \n",
      "12  17-06-2017       ST_CLERK   30897         112             70          7   \n",
      "4   15-11-2009         PU_MAN   34048         105             60          4   \n",
      "19  23-01-2001       ST_CLERK   38628         120             70          9   \n",
      "15  23-01-2001          AD_VP   43386         116             80          1   \n",
      "5   23-06-2005       ST_CLERK   46206         113             70          7   \n",
      "17  23-01-2001         FI_MGR   46632         118             80          8   \n",
      "1   23-01-2001          AD_VP   50806         100             90          7   \n",
      "10  17-06-2017         FI_MGR   51428         145            100          2   \n",
      "2   31-08-2002        IT_PROG   54071         102             90          1   \n",
      "7   06-09-1902        AD_PRES   56356         131             70         10   \n",
      "13  23-01-2001  AC_ACCOUNTANT   59197         131             80          6   \n",
      "14  17-06-2017        AD_PRES   61211         121             80          9   \n",
      "11  23-01-2001         PU_MAN   61770         145            100         11   \n",
      "6   29-01-2009  AC_ACCOUNTANT   63090         123             70          9   \n",
      "18  17-06-2017         PU_MAN   66662         121             60          1   \n",
      "\n",
      "    incremented_sal  \n",
      "20           401.36  \n",
      "8           1409.28  \n",
      "0           2160.00  \n",
      "3           2157.52  \n",
      "16          1398.90  \n",
      "9           2033.29  \n",
      "12          2162.79  \n",
      "4           1361.92  \n",
      "19          3476.52  \n",
      "15           433.86  \n",
      "5           3234.42  \n",
      "17          3730.56  \n",
      "1           3556.42  \n",
      "10          1028.56  \n",
      "2            540.71  \n",
      "7           5635.60  \n",
      "13          3551.82  \n",
      "14          5508.99  \n",
      "11          6794.70  \n",
      "6           5678.10  \n",
      "18           666.62  \n"
     ]
    }
   ],
   "source": [
    "# sort_values\n",
    "df.sort_values(by='salary') # string\n",
    "df.sort_values(by=['salary','increment']) # col list\n",
    "df.sort_values(by='salary',ascending = False) # here getting the values in descending \n",
    "# order ascending or descending default is ascending= True\n",
    "df = df.sort_values(by='salary')\n",
    "df.sort_values(by='salary',inplace = True)"
   ]
  },
  {
   "cell_type": "code",
   "execution_count": 151,
   "id": "2db98f17-ce84-4a06-961d-2d555080a037",
   "metadata": {},
   "outputs": [
    {
     "data": {
      "text/html": [
       "<div>\n",
       "<style scoped>\n",
       "    .dataframe tbody tr th:only-of-type {\n",
       "        vertical-align: middle;\n",
       "    }\n",
       "\n",
       "    .dataframe tbody tr th {\n",
       "        vertical-align: top;\n",
       "    }\n",
       "\n",
       "    .dataframe thead th {\n",
       "        text-align: right;\n",
       "    }\n",
       "</style>\n",
       "<table border=\"1\" class=\"dataframe\">\n",
       "  <thead>\n",
       "    <tr style=\"text-align: right;\">\n",
       "      <th></th>\n",
       "      <th>employee_id</th>\n",
       "      <th>first_name</th>\n",
       "      <th>last_name</th>\n",
       "      <th>email</th>\n",
       "      <th>phone_number</th>\n",
       "      <th>hire_date</th>\n",
       "      <th>job_id</th>\n",
       "      <th>salary</th>\n",
       "      <th>manager_id</th>\n",
       "      <th>department_id</th>\n",
       "      <th>increment</th>\n",
       "      <th>incremented_sal</th>\n",
       "    </tr>\n",
       "  </thead>\n",
       "  <tbody>\n",
       "    <tr>\n",
       "      <th>0</th>\n",
       "      <td>100</td>\n",
       "      <td>Steven</td>\n",
       "      <td>King</td>\n",
       "      <td>Steven@gmail.com</td>\n",
       "      <td>515.125.678</td>\n",
       "      <td>17-06-2017</td>\n",
       "      <td>AD_PRES</td>\n",
       "      <td>24000</td>\n",
       "      <td>100</td>\n",
       "      <td>90</td>\n",
       "      <td>9</td>\n",
       "      <td>2160.00</td>\n",
       "    </tr>\n",
       "    <tr>\n",
       "      <th>1</th>\n",
       "      <td>101</td>\n",
       "      <td>Ross</td>\n",
       "      <td>Kochhar</td>\n",
       "      <td>Rkochhar@yahoo.com</td>\n",
       "      <td>590.126.679</td>\n",
       "      <td>23-01-2001</td>\n",
       "      <td>AD_VP</td>\n",
       "      <td>50806</td>\n",
       "      <td>100</td>\n",
       "      <td>90</td>\n",
       "      <td>7</td>\n",
       "      <td>3556.42</td>\n",
       "    </tr>\n",
       "    <tr>\n",
       "      <th>2</th>\n",
       "      <td>102</td>\n",
       "      <td>Alex</td>\n",
       "      <td>Urman</td>\n",
       "      <td>AlexUrman@gmail.com</td>\n",
       "      <td>515.123.245</td>\n",
       "      <td>31-08-2002</td>\n",
       "      <td>IT_PROG</td>\n",
       "      <td>54071</td>\n",
       "      <td>102</td>\n",
       "      <td>90</td>\n",
       "      <td>1</td>\n",
       "      <td>540.71</td>\n",
       "    </tr>\n",
       "    <tr>\n",
       "      <th>3</th>\n",
       "      <td>103</td>\n",
       "      <td>Bruce</td>\n",
       "      <td>Popp</td>\n",
       "      <td>Bruce@gmail.com</td>\n",
       "      <td>515.125.679</td>\n",
       "      <td>08-04-2003</td>\n",
       "      <td>FI_MGR</td>\n",
       "      <td>26969</td>\n",
       "      <td>103</td>\n",
       "      <td>60</td>\n",
       "      <td>8</td>\n",
       "      <td>2157.52</td>\n",
       "    </tr>\n",
       "    <tr>\n",
       "      <th>4</th>\n",
       "      <td>104</td>\n",
       "      <td>David</td>\n",
       "      <td>Raphaely</td>\n",
       "      <td>Raphaely@gmail.com</td>\n",
       "      <td>590.126.680</td>\n",
       "      <td>15-11-2009</td>\n",
       "      <td>PU_MAN</td>\n",
       "      <td>34048</td>\n",
       "      <td>105</td>\n",
       "      <td>60</td>\n",
       "      <td>4</td>\n",
       "      <td>1361.92</td>\n",
       "    </tr>\n",
       "    <tr>\n",
       "      <th>5</th>\n",
       "      <td>105</td>\n",
       "      <td>Nancy</td>\n",
       "      <td>Khoo</td>\n",
       "      <td>Nancy@gmail.com</td>\n",
       "      <td>515.123.246</td>\n",
       "      <td>23-06-2005</td>\n",
       "      <td>ST_CLERK</td>\n",
       "      <td>46206</td>\n",
       "      <td>113</td>\n",
       "      <td>70</td>\n",
       "      <td>7</td>\n",
       "      <td>3234.42</td>\n",
       "    </tr>\n",
       "    <tr>\n",
       "      <th>6</th>\n",
       "      <td>106</td>\n",
       "      <td>John</td>\n",
       "      <td>Baida</td>\n",
       "      <td>John@yahoo.com</td>\n",
       "      <td>515.125.680</td>\n",
       "      <td>29-01-2009</td>\n",
       "      <td>AC_ACCOUNTANT</td>\n",
       "      <td>63090</td>\n",
       "      <td>123</td>\n",
       "      <td>70</td>\n",
       "      <td>9</td>\n",
       "      <td>5678.10</td>\n",
       "    </tr>\n",
       "    <tr>\n",
       "      <th>7</th>\n",
       "      <td>107</td>\n",
       "      <td>Daniel</td>\n",
       "      <td>Weiss</td>\n",
       "      <td>Weiss@yahoo.com</td>\n",
       "      <td>590.126.681</td>\n",
       "      <td>06-09-1902</td>\n",
       "      <td>AD_PRES</td>\n",
       "      <td>56356</td>\n",
       "      <td>131</td>\n",
       "      <td>70</td>\n",
       "      <td>10</td>\n",
       "      <td>5635.60</td>\n",
       "    </tr>\n",
       "    <tr>\n",
       "      <th>8</th>\n",
       "      <td>108</td>\n",
       "      <td>Sigal</td>\n",
       "      <td>Kaufling</td>\n",
       "      <td>Kaufling@yahoo.com</td>\n",
       "      <td>515.123.247</td>\n",
       "      <td>17-06-2017</td>\n",
       "      <td>AD_VP</td>\n",
       "      <td>23488</td>\n",
       "      <td>111</td>\n",
       "      <td>60</td>\n",
       "      <td>6</td>\n",
       "      <td>1409.28</td>\n",
       "    </tr>\n",
       "    <tr>\n",
       "      <th>9</th>\n",
       "      <td>109</td>\n",
       "      <td>Adam</td>\n",
       "      <td>Vollman</td>\n",
       "      <td>Adam@gmail.com</td>\n",
       "      <td>515.125.681</td>\n",
       "      <td>23-01-2001</td>\n",
       "      <td>IT_PROG</td>\n",
       "      <td>29047</td>\n",
       "      <td>114</td>\n",
       "      <td>90</td>\n",
       "      <td>7</td>\n",
       "      <td>2033.29</td>\n",
       "    </tr>\n",
       "    <tr>\n",
       "      <th>10</th>\n",
       "      <td>110</td>\n",
       "      <td>Mathew</td>\n",
       "      <td>Himuro</td>\n",
       "      <td>Himuro@yahoo.com</td>\n",
       "      <td>590.126.682</td>\n",
       "      <td>17-06-2017</td>\n",
       "      <td>FI_MGR</td>\n",
       "      <td>51428</td>\n",
       "      <td>145</td>\n",
       "      <td>100</td>\n",
       "      <td>2</td>\n",
       "      <td>1028.56</td>\n",
       "    </tr>\n",
       "    <tr>\n",
       "      <th>11</th>\n",
       "      <td>111</td>\n",
       "      <td>Harvey</td>\n",
       "      <td>Mikkilineni</td>\n",
       "      <td>Harvey@gmail.com</td>\n",
       "      <td>515.123.248</td>\n",
       "      <td>23-01-2001</td>\n",
       "      <td>PU_MAN</td>\n",
       "      <td>61770</td>\n",
       "      <td>145</td>\n",
       "      <td>100</td>\n",
       "      <td>11</td>\n",
       "      <td>6794.70</td>\n",
       "    </tr>\n",
       "    <tr>\n",
       "      <th>12</th>\n",
       "      <td>112</td>\n",
       "      <td>Kevin</td>\n",
       "      <td>Rogers</td>\n",
       "      <td>Rogers@yahoo.com</td>\n",
       "      <td>515.125.682</td>\n",
       "      <td>17-06-2017</td>\n",
       "      <td>ST_CLERK</td>\n",
       "      <td>30897</td>\n",
       "      <td>112</td>\n",
       "      <td>70</td>\n",
       "      <td>7</td>\n",
       "      <td>2162.79</td>\n",
       "    </tr>\n",
       "    <tr>\n",
       "      <th>13</th>\n",
       "      <td>113</td>\n",
       "      <td>Julia</td>\n",
       "      <td>Patel</td>\n",
       "      <td>Julia@yahoo.com</td>\n",
       "      <td>590.126.683</td>\n",
       "      <td>23-01-2001</td>\n",
       "      <td>AC_ACCOUNTANT</td>\n",
       "      <td>59197</td>\n",
       "      <td>131</td>\n",
       "      <td>80</td>\n",
       "      <td>6</td>\n",
       "      <td>3551.82</td>\n",
       "    </tr>\n",
       "    <tr>\n",
       "      <th>14</th>\n",
       "      <td>114</td>\n",
       "      <td>Irene</td>\n",
       "      <td>Davies</td>\n",
       "      <td>Davies@gmail.com</td>\n",
       "      <td>515.123.249</td>\n",
       "      <td>17-06-2017</td>\n",
       "      <td>AD_PRES</td>\n",
       "      <td>61211</td>\n",
       "      <td>121</td>\n",
       "      <td>80</td>\n",
       "      <td>9</td>\n",
       "      <td>5508.99</td>\n",
       "    </tr>\n",
       "    <tr>\n",
       "      <th>15</th>\n",
       "      <td>115</td>\n",
       "      <td>James</td>\n",
       "      <td>Zlotkey</td>\n",
       "      <td>James@gmail.com</td>\n",
       "      <td>515.125.683</td>\n",
       "      <td>23-01-2001</td>\n",
       "      <td>AD_VP</td>\n",
       "      <td>43386</td>\n",
       "      <td>116</td>\n",
       "      <td>80</td>\n",
       "      <td>1</td>\n",
       "      <td>433.86</td>\n",
       "    </tr>\n",
       "    <tr>\n",
       "      <th>16</th>\n",
       "      <td>116</td>\n",
       "      <td>Jason</td>\n",
       "      <td>Bernstein</td>\n",
       "      <td>Bernstein@yahoo.com</td>\n",
       "      <td>590.126.684</td>\n",
       "      <td>17-06-2017</td>\n",
       "      <td>IT_PROG</td>\n",
       "      <td>27978</td>\n",
       "      <td>117</td>\n",
       "      <td>100</td>\n",
       "      <td>5</td>\n",
       "      <td>1398.90</td>\n",
       "    </tr>\n",
       "    <tr>\n",
       "      <th>17</th>\n",
       "      <td>117</td>\n",
       "      <td>Peter</td>\n",
       "      <td>Hall</td>\n",
       "      <td>Hall@gmail.com</td>\n",
       "      <td>515.123.250</td>\n",
       "      <td>23-01-2001</td>\n",
       "      <td>FI_MGR</td>\n",
       "      <td>46632</td>\n",
       "      <td>118</td>\n",
       "      <td>80</td>\n",
       "      <td>8</td>\n",
       "      <td>3730.56</td>\n",
       "    </tr>\n",
       "    <tr>\n",
       "      <th>18</th>\n",
       "      <td>118</td>\n",
       "      <td>Sartha</td>\n",
       "      <td>Sully</td>\n",
       "      <td>Sartha@gmail.com</td>\n",
       "      <td>515.125.684</td>\n",
       "      <td>17-06-2017</td>\n",
       "      <td>PU_MAN</td>\n",
       "      <td>66662</td>\n",
       "      <td>121</td>\n",
       "      <td>60</td>\n",
       "      <td>1</td>\n",
       "      <td>666.62</td>\n",
       "    </tr>\n",
       "    <tr>\n",
       "      <th>19</th>\n",
       "      <td>119</td>\n",
       "      <td>William</td>\n",
       "      <td>Smith</td>\n",
       "      <td>Smith@yahoo.com</td>\n",
       "      <td>590.126.685</td>\n",
       "      <td>23-01-2001</td>\n",
       "      <td>ST_CLERK</td>\n",
       "      <td>38628</td>\n",
       "      <td>120</td>\n",
       "      <td>70</td>\n",
       "      <td>9</td>\n",
       "      <td>3476.52</td>\n",
       "    </tr>\n",
       "    <tr>\n",
       "      <th>20</th>\n",
       "      <td>120</td>\n",
       "      <td>Jack</td>\n",
       "      <td>Greene</td>\n",
       "      <td>Jgreene@gmail.com</td>\n",
       "      <td>515.123.251</td>\n",
       "      <td>17-06-2017</td>\n",
       "      <td>AC_ACCOUNTANT</td>\n",
       "      <td>20068</td>\n",
       "      <td>119</td>\n",
       "      <td>90</td>\n",
       "      <td>2</td>\n",
       "      <td>401.36</td>\n",
       "    </tr>\n",
       "  </tbody>\n",
       "</table>\n",
       "</div>"
      ],
      "text/plain": [
       "    employee_id first_name    last_name                email phone_number  \\\n",
       "0           100     Steven         King     Steven@gmail.com  515.125.678   \n",
       "1           101       Ross      Kochhar   Rkochhar@yahoo.com  590.126.679   \n",
       "2           102       Alex        Urman  AlexUrman@gmail.com  515.123.245   \n",
       "3           103      Bruce         Popp      Bruce@gmail.com  515.125.679   \n",
       "4           104      David     Raphaely   Raphaely@gmail.com  590.126.680   \n",
       "5           105      Nancy         Khoo      Nancy@gmail.com  515.123.246   \n",
       "6           106       John        Baida       John@yahoo.com  515.125.680   \n",
       "7           107     Daniel        Weiss      Weiss@yahoo.com  590.126.681   \n",
       "8           108      Sigal     Kaufling   Kaufling@yahoo.com  515.123.247   \n",
       "9           109       Adam      Vollman       Adam@gmail.com  515.125.681   \n",
       "10          110     Mathew       Himuro     Himuro@yahoo.com  590.126.682   \n",
       "11          111     Harvey  Mikkilineni     Harvey@gmail.com  515.123.248   \n",
       "12          112      Kevin       Rogers     Rogers@yahoo.com  515.125.682   \n",
       "13          113      Julia        Patel      Julia@yahoo.com  590.126.683   \n",
       "14          114      Irene       Davies     Davies@gmail.com  515.123.249   \n",
       "15          115      James      Zlotkey      James@gmail.com  515.125.683   \n",
       "16          116      Jason    Bernstein  Bernstein@yahoo.com  590.126.684   \n",
       "17          117      Peter         Hall       Hall@gmail.com  515.123.250   \n",
       "18          118     Sartha        Sully     Sartha@gmail.com  515.125.684   \n",
       "19          119    William        Smith      Smith@yahoo.com  590.126.685   \n",
       "20          120       Jack       Greene    Jgreene@gmail.com  515.123.251   \n",
       "\n",
       "     hire_date         job_id  salary  manager_id  department_id  increment  \\\n",
       "0   17-06-2017        AD_PRES   24000         100             90          9   \n",
       "1   23-01-2001          AD_VP   50806         100             90          7   \n",
       "2   31-08-2002        IT_PROG   54071         102             90          1   \n",
       "3   08-04-2003         FI_MGR   26969         103             60          8   \n",
       "4   15-11-2009         PU_MAN   34048         105             60          4   \n",
       "5   23-06-2005       ST_CLERK   46206         113             70          7   \n",
       "6   29-01-2009  AC_ACCOUNTANT   63090         123             70          9   \n",
       "7   06-09-1902        AD_PRES   56356         131             70         10   \n",
       "8   17-06-2017          AD_VP   23488         111             60          6   \n",
       "9   23-01-2001        IT_PROG   29047         114             90          7   \n",
       "10  17-06-2017         FI_MGR   51428         145            100          2   \n",
       "11  23-01-2001         PU_MAN   61770         145            100         11   \n",
       "12  17-06-2017       ST_CLERK   30897         112             70          7   \n",
       "13  23-01-2001  AC_ACCOUNTANT   59197         131             80          6   \n",
       "14  17-06-2017        AD_PRES   61211         121             80          9   \n",
       "15  23-01-2001          AD_VP   43386         116             80          1   \n",
       "16  17-06-2017        IT_PROG   27978         117            100          5   \n",
       "17  23-01-2001         FI_MGR   46632         118             80          8   \n",
       "18  17-06-2017         PU_MAN   66662         121             60          1   \n",
       "19  23-01-2001       ST_CLERK   38628         120             70          9   \n",
       "20  17-06-2017  AC_ACCOUNTANT   20068         119             90          2   \n",
       "\n",
       "    incremented_sal  \n",
       "0           2160.00  \n",
       "1           3556.42  \n",
       "2            540.71  \n",
       "3           2157.52  \n",
       "4           1361.92  \n",
       "5           3234.42  \n",
       "6           5678.10  \n",
       "7           5635.60  \n",
       "8           1409.28  \n",
       "9           2033.29  \n",
       "10          1028.56  \n",
       "11          6794.70  \n",
       "12          2162.79  \n",
       "13          3551.82  \n",
       "14          5508.99  \n",
       "15           433.86  \n",
       "16          1398.90  \n",
       "17          3730.56  \n",
       "18           666.62  \n",
       "19          3476.52  \n",
       "20           401.36  "
      ]
     },
     "execution_count": 151,
     "metadata": {},
     "output_type": "execute_result"
    }
   ],
   "source": [
    "df"
   ]
  },
  {
   "cell_type": "code",
   "execution_count": null,
   "id": "a509a519-fe96-46c9-a66e-0ff262cf8b76",
   "metadata": {},
   "outputs": [],
   "source": [
    "## Series operations: \n",
    "# filtering\n",
    "# arithmetic\n",
    "# Scalar series\n",
    "# ranking \n",
    "# sorting\n",
    "# append"
   ]
  },
  {
   "cell_type": "code",
   "execution_count": null,
   "id": "24f54d6c-6a2a-44dd-95ed-bbfd716cfe1b",
   "metadata": {},
   "outputs": [],
   "source": []
  },
  {
   "cell_type": "code",
   "execution_count": 40,
   "id": "35c4fbde-9433-4557-b752-88c70af81f30",
   "metadata": {},
   "outputs": [
    {
     "name": "stdout",
     "output_type": "stream",
     "text": [
      "2.1.4\n"
     ]
    }
   ],
   "source": [
    "# to check the version of pandas\n",
    "print (pd.__version__)"
   ]
  },
  {
   "cell_type": "code",
   "execution_count": null,
   "id": "4884be30-ed59-4baa-9f14-3bce23ef9e38",
   "metadata": {},
   "outputs": [],
   "source": [
    "# dataframes"
   ]
  },
  {
   "cell_type": "code",
   "execution_count": 63,
   "id": "3350d760-ae18-426b-a72f-e8b1b2da4723",
   "metadata": {},
   "outputs": [],
   "source": [
    "# pandas.DataFrame(data=None, index=None, columns=None, dtype=None, copy=None)[source]#\n",
    "\n"
   ]
  },
  {
   "cell_type": "code",
   "execution_count": 115,
   "id": "b33c8f7b-c2e3-4580-8e0e-61c27bdfb80b",
   "metadata": {},
   "outputs": [
    {
     "name": "stdout",
     "output_type": "stream",
     "text": [
      "<class 'pandas.core.frame.DataFrame'>\n",
      "RangeIndex: 26 entries, 0 to 25\n",
      "Data columns (total 1 columns):\n",
      " #   Column    Non-Null Count  Dtype\n",
      "---  ------    --------------  -----\n",
      " 0   test_col  26 non-null     int64\n",
      "dtypes: int64(1)\n",
      "memory usage: 340.0 bytes\n",
      "samples are     test_col\n",
      "16         4\n",
      "11         2\n",
      "type: <class 'pandas.core.frame.DataFrame'>         test_col\n",
      "count  26.000000\n",
      "mean    4.923077\n",
      "std     2.606501\n",
      "min     1.000000\n",
      "25%     3.000000\n",
      "50%     4.500000\n",
      "75%     7.000000\n",
      "max    10.000000\n"
     ]
    },
    {
     "data": {
      "text/plain": [
       "(26, 1)"
      ]
     },
     "execution_count": 115,
     "metadata": {},
     "output_type": "execute_result"
    }
   ],
   "source": [
    "# shape,dtypes,info,values,head,tail,sample,describe,\n",
    "df = pd.DataFrame(data = [1,2,3,4,5,6,7,8,9,10,1,2,3,4,4,4,4,5,6,7,8,2,2,5,7,9],columns = ['test_col'])\n",
    "# to get the basic information about the dataframes\n",
    "df.info()\n",
    "# head function to get the top 5 rows in the dataframe\n",
    "df.head()\n",
    "df.head(7)\n",
    "# to get the values from the last: default is 5 can change it as per need\n",
    "df.tail()\n",
    "# to get the datatype\n",
    "df.dtypes\n",
    "# to get the samples from the data  default is 1\n",
    "print (\"samples are\",df.sample(2))\n",
    "# to get the values of the dataframe\n",
    "df.values\n",
    "# describe would tell you the basic stats of the data frame\n",
    "print (\"type:\",type(df.describe()),df.describe())\n",
    "# value counts\n",
    "df['test_col'].value_counts()\n",
    "# to get the shape of the dataframe\n",
    "df.shape"
   ]
  },
  {
   "cell_type": "code",
   "execution_count": 220,
   "id": "badf2396-5abd-440e-af9f-83f6c5d96b12",
   "metadata": {},
   "outputs": [
    {
     "data": {
      "text/plain": [
       "5     46206\n",
       "6     63090\n",
       "7     56356\n",
       "12    30897\n",
       "19    38628\n",
       "Name: salary, dtype: int64"
      ]
     },
     "execution_count": 220,
     "metadata": {},
     "output_type": "execute_result"
    }
   ],
   "source": [
    "df['salary'][df['department_id'] == 70]"
   ]
  }
 ],
 "metadata": {
  "kernelspec": {
   "display_name": "Python 3 (ipykernel)",
   "language": "python",
   "name": "python3"
  },
  "language_info": {
   "codemirror_mode": {
    "name": "ipython",
    "version": 3
   },
   "file_extension": ".py",
   "mimetype": "text/x-python",
   "name": "python",
   "nbconvert_exporter": "python",
   "pygments_lexer": "ipython3",
   "version": "3.11.7"
  }
 },
 "nbformat": 4,
 "nbformat_minor": 5
}
