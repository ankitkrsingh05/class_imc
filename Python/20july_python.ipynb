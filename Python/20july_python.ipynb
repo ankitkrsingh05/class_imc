{
 "cells": [
  {
   "cell_type": "code",
   "execution_count": null,
   "id": "34eb104b-f0ca-4235-a8cc-24bb6cff6070",
   "metadata": {},
   "outputs": [],
   "source": [
    "# loops - for,while,nested,break,continue,pass,nested, sum,max,search,occurence,patterns\n",
    "# comments in python\n",
    "# \\t \\n, sep in print\n",
    "# f'{}','{}'.format(),and simple comma separated\n",
    "\n",
    "# lambda functions\n",
    "# map, filter , reduce"
   ]
  },
  {
   "cell_type": "code",
   "execution_count": null,
   "id": "5dbcba96-2879-4e7c-98cb-fdfd1dc55d6f",
   "metadata": {},
   "outputs": [],
   "source": [
    "# raw - for text which is not executable\n",
    "# markdown - this is for heading\n",
    "# code -  this is executable"
   ]
  },
  {
   "cell_type": "code",
   "execution_count": 1,
   "id": "6d826e1b-2fda-42a0-88a6-f6833009e703",
   "metadata": {},
   "outputs": [
    {
     "data": {
      "text/plain": [
       "'\\nThis is multiline comment\\n'"
      ]
     },
     "execution_count": 1,
     "metadata": {},
     "output_type": "execute_result"
    }
   ],
   "source": [
    "# comments\n",
    "# -  this is single line comment\n",
    "'''\n",
    "This is multiline comment\n",
    "'''"
   ]
  },
  {
   "cell_type": "code",
   "execution_count": null,
   "id": "c548d074-1116-4408-8e10-1c34d945fa18",
   "metadata": {},
   "outputs": [],
   "source": [
    "# loops \n",
    "Whenever we want to execute a block of code again and again we use loops"
   ]
  },
  {
   "cell_type": "code",
   "execution_count": null,
   "id": "bffe0e90-85d4-4cf1-a8ea-3f03671eb5ff",
   "metadata": {},
   "outputs": [],
   "source": [
    "# for loop\n",
    "# while loop"
   ]
  },
  {
   "cell_type": "code",
   "execution_count": 3,
   "id": "bf6bf8e8-1840-409d-b3ac-247dc3dcecc4",
   "metadata": {},
   "outputs": [],
   "source": [
    "lst = [1,2,3,4,5,6,7,8,9]"
   ]
  },
  {
   "cell_type": "code",
   "execution_count": 5,
   "id": "45556a48-6acc-4a4b-913c-339acafdb255",
   "metadata": {},
   "outputs": [
    {
     "ename": "SyntaxError",
     "evalue": "invalid syntax (3290625537.py, line 4)",
     "output_type": "error",
     "traceback": [
      "\u001b[0;36m  Cell \u001b[0;32mIn[5], line 4\u001b[0;36m\u001b[0m\n\u001b[0;31m    for <iterable_variabl> in <iterator>:\u001b[0m\n\u001b[0m        ^\u001b[0m\n\u001b[0;31mSyntaxError\u001b[0m\u001b[0;31m:\u001b[0m invalid syntax\n"
     ]
    }
   ],
   "source": [
    "for l in lst:\n",
    "    print (l)\n",
    "\n",
    "# syntax for <iterable_variabl> in <iterator>:"
   ]
  },
  {
   "cell_type": "code",
   "execution_count": null,
   "id": "320bdd50-ade8-4f39-8630-906c623d957b",
   "metadata": {},
   "outputs": [],
   "source": [
    "while (<condition>):\n",
    "    <loop body>\n",
    "# the loop body will execute untill the statement inside the while condition is true"
   ]
  },
  {
   "cell_type": "code",
   "execution_count": 9,
   "id": "846db7fe-e387-49a8-aeed-c07b8c9fa6d7",
   "metadata": {},
   "outputs": [
    {
     "name": "stdout",
     "output_type": "stream",
     "text": [
      "0\n",
      "1\n",
      "2\n",
      "3\n",
      "4\n",
      "5\n",
      "6\n",
      "7\n",
      "8\n"
     ]
    }
   ],
   "source": [
    "i = 0\n",
    "lst[i]\n",
    "\n",
    "while (i <= 8):\n",
    "    print (i)\n",
    "    i = i + 1"
   ]
  },
  {
   "cell_type": "code",
   "execution_count": null,
   "id": "cbe22c75-ea3c-4635-af00-15048020bab8",
   "metadata": {},
   "outputs": [],
   "source": [
    "# differnce in usage of while and for loop\n",
    "# use use for loop when we have the range fixed/ or we have the loop counts with us\n",
    "# we use while when we arent sure about the end of the loop"
   ]
  },
  {
   "cell_type": "code",
   "execution_count": 15,
   "id": "54d202cd-bde0-471c-b024-76b568426582",
   "metadata": {},
   "outputs": [
    {
     "name": "stdout",
     "output_type": "stream",
     "text": [
      "1\n",
      "2\n",
      "now the program will skip to the next element in the loop: continue command\n",
      "4\n",
      "5\n",
      "control of the program would come out of the loop: break command\n"
     ]
    }
   ],
   "source": [
    "# break would terminate the loop \n",
    "# continue makes the loop skip the current loop and jump to the next iterative element in the loop\n",
    "for i in lst:\n",
    "    if i==3:\n",
    "        print (\"now the program will skip to the next element in the loop: continue command\")\n",
    "        continue\n",
    "    print (i)\n",
    "    if i == 5:\n",
    "        print (\"control of the program would come out of the loop: break command\")\n",
    "        break\n",
    "    "
   ]
  },
  {
   "cell_type": "code",
   "execution_count": null,
   "id": "efe23445-b919-4776-9c87-986d2d4a83e0",
   "metadata": {},
   "outputs": [],
   "source": [
    "# print statement"
   ]
  },
  {
   "cell_type": "code",
   "execution_count": 32,
   "id": "c1616975-c7a2-48a4-9346-41a5a8b6faa7",
   "metadata": {},
   "outputs": [
    {
     "name": "stdout",
     "output_type": "stream",
     "text": [
      "1,2,4\n",
      "1\t2\t4\n",
      "1\n",
      "2\n",
      "4\n",
      "1\n",
      "2\n",
      "4test1\n",
      "2\n",
      "4\n",
      "test\n",
      "a = 5 \n",
      "b = 2 c = 4\n",
      "\n",
      "a = 1 \n",
      "b = 2 c = 4\n"
     ]
    }
   ],
   "source": [
    "a,b,c = 1,2,4\n",
    "print (a,b,c,sep = \",\")\n",
    "print (a,b,c,sep = \"\\t\") # \\t is for tabbed separator\n",
    "print (a,b,c,sep = \"\\n\") # \\n is for next line\n",
    "print (a,b,c,sep = \"\\n\",end = \"test\") # end is for adding anythin \n",
    "print (a,b,c,sep = \"\\n\",end = \"\\ntest\") # end is for adding anythin \n",
    "\n",
    "# formatting the output in print\n",
    "print ('\\na = {} \\nb = {} c = {}'.format(5,b,c))\n",
    "print (f'\\na = {a} \\nb = {b} c = {c}')"
   ]
  },
  {
   "cell_type": "code",
   "execution_count": 39,
   "id": "23f66262-acf6-4778-a90a-15c685a9648f",
   "metadata": {},
   "outputs": [
    {
     "name": "stdout",
     "output_type": "stream",
     "text": [
      "[1, 2, 3, 4, 5]\n",
      "1\n",
      "2\n",
      "3\n",
      "4\n",
      "5\n",
      "[6, 7, 8, 9, 10]\n",
      "6\n",
      "7\n",
      "8\n",
      "9\n",
      "10\n"
     ]
    }
   ],
   "source": [
    "# nested loop:\n",
    "## loop inside loop\n",
    "## for each value of the outer loop the inner loop would exeute completely\n",
    "lst_2d = [[1,2,3,4,5],[6,7,8,9,10]]\n",
    "# print (lst_2d[0][1],lst_2d[1])\n",
    "for each_list in lst_2d:\n",
    "    print (f\"this is the {each_list}\")\n",
    "    for j in each_list:\n",
    "        print (j)"
   ]
  },
  {
   "cell_type": "code",
   "execution_count": 40,
   "id": "1d87ced2-1e73-47c0-9b17-c803f181ff4d",
   "metadata": {},
   "outputs": [
    {
     "data": {
      "text/plain": [
       "[1, 2, 3, 4, 5]"
      ]
     },
     "execution_count": 40,
     "metadata": {},
     "output_type": "execute_result"
    }
   ],
   "source": [
    "lst_2d[0]\n",
    "0,1,2,3,4 # if we want to generate this- we use range (start,stop,step = 1(default))"
   ]
  },
  {
   "cell_type": "code",
   "execution_count": 57,
   "id": "aaa826db-d58c-4ad2-9bd2-01655d014275",
   "metadata": {},
   "outputs": [
    {
     "name": "stdout",
     "output_type": "stream",
     "text": [
      "this is our list  [1, 2, 3, 4, 5] length of the list is  5\n",
      "this is how we are creating the list of indexes for the list [0, 1, 2, 3, 4]\n",
      "this is the i value 0 value in the list 1 ie test[0]\n",
      "this is the i value 1 value in the list 2 ie test[1]\n",
      "this is the i value 2 value in the list 3 ie test[2]\n",
      "this is the i value 3 value in the list 4 ie test[3]\n",
      "this is the i value 4 value in the list 5 ie test[4]\n"
     ]
    }
   ],
   "source": [
    "# write a program to find all the even indexed values\n",
    "test = lst_2d[0]\n",
    "print (\"this is our list \",test,\"length of the list is \",len(test))\n",
    "print (\"this is how we are creating the list of indexes for the list\",list(range(0,5)))\n",
    "\n",
    "for i in range(0,len(test)):\n",
    "    print (f'this is the i value {i} value in the list {test[i]} ie test[{i}]')\n",
    "    "
   ]
  },
  {
   "cell_type": "code",
   "execution_count": 78,
   "id": "89d3f9fd-b942-489d-8fd4-6892f6b1bd86",
   "metadata": {},
   "outputs": [
    {
     "name": "stdout",
     "output_type": "stream",
     "text": [
      "this is our list  [[1, 2, 3, 4, 5], [6, 7, 8, 9, 10]]\n",
      "length of the list 2d is  2 \n",
      "this is the length of the first element 5\n",
      "i = 0 , lst_2d[i] = [1, 2, 3, 4, 5] , length = 5\n",
      "i = 0 j = 0 lst_2d[0][0] = 1\n",
      "i = 0 j = 1 lst_2d[0][1] = 2\n",
      "i = 0 j = 2 lst_2d[0][2] = 3\n",
      "i = 0 j = 3 lst_2d[0][3] = 4\n",
      "i = 0 j = 4 lst_2d[0][4] = 5\n",
      "i = 1 , lst_2d[i] = [6, 7, 8, 9, 10] , length = 5\n",
      "i = 1 j = 0 lst_2d[1][0] = 6\n",
      "i = 1 j = 1 lst_2d[1][1] = 7\n",
      "i = 1 j = 2 lst_2d[1][2] = 8\n",
      "i = 1 j = 3 lst_2d[1][3] = 9\n",
      "i = 1 j = 4 lst_2d[1][4] = 10\n"
     ]
    },
    {
     "data": {
      "text/plain": [
       "10"
      ]
     },
     "execution_count": 78,
     "metadata": {},
     "output_type": "execute_result"
    }
   ],
   "source": [
    "# write a program to find all the even indexed values\n",
    "lst_2d\n",
    "print (\"this is our list \",lst_2d)\n",
    "print (\"length of the list 2d is \",len(lst_2d),\"\\nthis is the length of the first element\",len(lst_2d[0]))\n",
    "# for i in range(0,len(lst2d))\n",
    "\n",
    "for i in range(len(lst_2d)):\n",
    "    print (f'i = {i} , lst_2d[i] = {lst_2d[i]} , length = {len(lst_2d[i])}')\n",
    "    for j in range(len(lst_2d[i])):\n",
    "        print (f'i = {i} j = {j} lst_2d[{i}][{j}] = {lst_2d[i][j]}')\n",
    "\n",
    "lst_2d[i][4]\n"
   ]
  },
  {
   "cell_type": "code",
   "execution_count": null,
   "id": "740a34f7-4c89-475e-9cd1-d0071d7526e7",
   "metadata": {},
   "outputs": [],
   "source": [
    "# sum,max,search,occurence"
   ]
  },
  {
   "cell_type": "code",
   "execution_count": 80,
   "id": "f929e8e8-36a4-4e55-b432-2f1b56178dbb",
   "metadata": {},
   "outputs": [],
   "source": [
    "test_list = [12,23,45,55,65,72,12,11,14,85,90,65,65,65]\n",
    "# 1 Write a program to fina the sum of all the elements in the list using loop\n",
    "# 2 Write a program to fina the max of all the elements in the list using loop\n",
    "# 3 Write a program to fina the min of all the elements in the list using loop\n",
    "# 4 Write a program to fina if the number 65 is present in the list using loop\n",
    "# 5 Write a program to find the occurence of 65  in the list"
   ]
  },
  {
   "cell_type": "code",
   "execution_count": 87,
   "id": "d5db47f5-a2b7-4071-bfc2-3b976b6cc590",
   "metadata": {},
   "outputs": [
    {
     "name": "stdout",
     "output_type": "stream",
     "text": [
      "value: 12 sum: 0\n",
      "value: 23 sum: 12\n",
      "value: 45 sum: 35\n",
      "value: 55 sum: 80\n",
      "value: 65 sum: 135\n",
      "value: 72 sum: 200\n",
      "value: 12 sum: 272\n",
      "value: 11 sum: 284\n",
      "value: 14 sum: 295\n",
      "value: 85 sum: 309\n",
      "value: 90 sum: 394\n",
      "value: 65 sum: 484\n",
      "value: 65 sum: 549\n",
      "value: 65 sum: 614\n",
      "final total sum =  679\n"
     ]
    }
   ],
   "source": [
    "# 1\n",
    "# sum(test_list)\n",
    "total_sum = 0\n",
    "for vals in test_list:\n",
    "    print (\"value:\",vals,\"sum:\",total_sum)\n",
    "    total_sum += vals\n",
    "print (\"final total sum = \",total_sum)"
   ]
  },
  {
   "cell_type": "code",
   "execution_count": 90,
   "id": "f4781377-c25f-4cfb-8fbe-cf7592865075",
   "metadata": {},
   "outputs": [
    {
     "name": "stdout",
     "output_type": "stream",
     "text": [
      "the number 12 is less than the max number 12\n",
      "max_num currently is : 12 and current number is 23\n",
      "max_num currently is : 23 and current number is 45\n",
      "max_num currently is : 45 and current number is 55\n",
      "max_num currently is : 55 and current number is 65\n",
      "max_num currently is : 65 and current number is 72\n",
      "the number 12 is less than the max number 72\n",
      "the number 11 is less than the max number 72\n",
      "the number 14 is less than the max number 72\n",
      "max_num currently is : 72 and current number is 85\n",
      "max_num currently is : 85 and current number is 90\n",
      "the number 65 is less than the max number 90\n",
      "the number 65 is less than the max number 90\n",
      "the number 65 is less than the max number 90\n",
      "90\n"
     ]
    }
   ],
   "source": [
    "# 2\n",
    "# choose a number which is generally very low like -999999999 \n",
    "# or take the first element from the list - note that the list must contain elements atleast 1 to work\n",
    "# max(test_list)\n",
    "max_num = test_list[0]\n",
    "for vals in test_list:\n",
    "    if vals > max_num:\n",
    "        print (f'max_num currently is : {max_num} and current number is {vals}')\n",
    "        max_num = vals \n",
    "    else:\n",
    "        print (f'the number {vals} is less than the max number {max_num}')\n",
    "print (max_num)"
   ]
  },
  {
   "cell_type": "code",
   "execution_count": 91,
   "id": "af77186e-4a43-484f-9955-ea7e966a53e6",
   "metadata": {},
   "outputs": [
    {
     "name": "stdout",
     "output_type": "stream",
     "text": [
      "the number 12 is not less than the min number 12\n",
      "the number 23 is not less than the min number 12\n",
      "the number 45 is not less than the min number 12\n",
      "the number 55 is not less than the min number 12\n",
      "the number 65 is not less than the min number 12\n",
      "the number 72 is not less than the min number 12\n",
      "the number 12 is not less than the min number 12\n",
      "min_num currently is : 12 and current number is 11\n",
      "the number 14 is not less than the min number 12\n",
      "the number 85 is not less than the min number 12\n",
      "the number 90 is not less than the min number 12\n",
      "the number 65 is not less than the min number 12\n",
      "the number 65 is not less than the min number 12\n",
      "the number 65 is not less than the min number 12\n",
      "11\n"
     ]
    }
   ],
   "source": [
    "# 2\n",
    "# choose a number which is generally very high like 999999999 \n",
    "# or take the first element from the list - note that the list must contain elements atleast 1 to work\n",
    "# min(test_list)\n",
    "min_num = test_list[0]\n",
    "for vals in test_list:\n",
    "    if vals < min_num:\n",
    "        print (f'min_num currently is : {min_num} and current number is {vals}')\n",
    "        max_num = vals \n",
    "    else:\n",
    "        print (f'the number {vals} is not less than the min number {min_num}')\n",
    "print (max_num)"
   ]
  },
  {
   "cell_type": "code",
   "execution_count": 98,
   "id": "9a3039a8-c837-47b9-b8e4-90c724c358c4",
   "metadata": {},
   "outputs": [
    {
     "data": {
      "text/plain": [
       "True"
      ]
     },
     "execution_count": 98,
     "metadata": {},
     "output_type": "execute_result"
    }
   ],
   "source": [
    "# searching of number 65\n",
    "\n",
    "num_search = 65\n",
    "# num_search in test_list # \n",
    "for vals in test_list:\n",
    "    if num_search == vals:\n",
    "        print (\"number found\")\n",
    "        break\n"
   ]
  },
  {
   "cell_type": "code",
   "execution_count": 100,
   "id": "efa2a56b-5925-40ed-9c85-dd7f091efca6",
   "metadata": {},
   "outputs": [
    {
     "name": "stdout",
     "output_type": "stream",
     "text": [
      "4\n",
      "index : 0, value: 12\n",
      "index : 1, value: 23\n",
      "index : 2, value: 45\n",
      "index : 3, value: 55\n",
      "index : 4, value: 65\n",
      "number found 65 at index 4\n",
      "index : 5, value: 72\n",
      "index : 6, value: 12\n",
      "index : 7, value: 11\n",
      "index : 8, value: 14\n",
      "index : 9, value: 85\n",
      "index : 10, value: 90\n",
      "index : 11, value: 65\n",
      "number found 65 at index 11\n",
      "index : 12, value: 65\n",
      "number found 65 at index 12\n",
      "index : 13, value: 65\n",
      "number found 65 at index 13\n"
     ]
    }
   ],
   "source": [
    "# searching of number 65 and print its index\n",
    "num_search = 65\n",
    "# print (test_list.index(65))\n",
    "for i in range(0,len(test_list)):\n",
    "    print (f'index : {i}, value: {test_list[i]}')\n",
    "    if num_search == test_list[i]:\n",
    "        print (f\"number found {num_search} at index {i}\",)\n",
    "        # break"
   ]
  },
  {
   "cell_type": "code",
   "execution_count": 105,
   "id": "5a4ba1a8-a8cb-449f-be9d-e99600bd92c0",
   "metadata": {},
   "outputs": [
    {
     "name": "stdout",
     "output_type": "stream",
     "text": [
      "162\n",
      "index : 0, value: 12\n",
      "index : 1, value: 23\n",
      "index : 2, value: 45\n",
      "index : 3, value: 55\n",
      "index : 4, value: 65\n",
      "index : 5, value: 72\n",
      "the current index is 5 it is either 5 or 10\n",
      "index : 6, value: 12\n",
      "index : 7, value: 11\n",
      "index : 8, value: 14\n",
      "index : 9, value: 85\n",
      "index : 10, value: 90\n",
      "the current index is 10 it is either 5 or 10\n",
      "index : 11, value: 65\n",
      "index : 12, value: 65\n",
      "index : 13, value: 65\n",
      "sum_indexes 162\n"
     ]
    }
   ],
   "source": [
    "# sum of numbers at the index 5 and 10\n",
    "index_1 = 5\n",
    "index_2 = 10\n",
    "sum_indexes = 0\n",
    "# print (sum([test_list[5],test_list[10]]))\n",
    "for i in range(0,len(test_list)):\n",
    "    print (f'index : {i}, value: {test_list[i]}')\n",
    "    if i == 5 or i == 10:\n",
    "        print (f\"the current index is {i} it is either {index_1} or {index_2}\")\n",
    "        sum_indexes += test_list[i]\n",
    "print (\"sum_indexes\",sum_indexes)"
   ]
  },
  {
   "cell_type": "code",
   "execution_count": null,
   "id": "06b84c5d-6beb-40c1-b902-26a2b7ef2341",
   "metadata": {},
   "outputs": [],
   "source": []
  },
  {
   "cell_type": "code",
   "execution_count": null,
   "id": "7b628dc2-8945-4993-9a6c-1c7f7aec91e6",
   "metadata": {},
   "outputs": [],
   "source": []
  },
  {
   "cell_type": "code",
   "execution_count": 111,
   "id": "d13c6f63-476d-4bec-9221-fe8f84461492",
   "metadata": {},
   "outputs": [
    {
     "name": "stdout",
     "output_type": "stream",
     "text": [
      "the number 65 has occured 4 times\n"
     ]
    }
   ],
   "source": [
    "# 5 Write a program to find the occurence of 65  in the list\n",
    "num = 65\n",
    "counter = 0\n",
    "# occurence = {num: 4,'test':15,'check':[1,2,3,4,5]}\n",
    "for i in range(0,len(test_list)):\n",
    "    if (num == test_list[i]):\n",
    "        counter += 1\n",
    "print (f\"the number {num} has occured {counter} times\")"
   ]
  },
  {
   "cell_type": "code",
   "execution_count": 130,
   "id": "7417fcd4-8bb4-4be7-824f-ed7593771bd8",
   "metadata": {},
   "outputs": [
    {
     "name": "stdout",
     "output_type": "stream",
     "text": [
      "{2: 'two', 1: 'one'}\n"
     ]
    }
   ],
   "source": [
    "# we know that in dictionary the keys are unique\n",
    "# \n",
    "# t = {2:'two'}\n",
    "# t[1] = 'one'\n",
    "# print (t)"
   ]
  },
  {
   "cell_type": "code",
   "execution_count": 126,
   "id": "07f1f1e8-2d37-4135-9fb3-85bdfba323b9",
   "metadata": {},
   "outputs": [
    {
     "data": {
      "text/plain": [
       "[12, 23, 45, 55, 65, 72, 12, 11, 14, 85, 90, 65, 65, 65, 12, 45, 85]"
      ]
     },
     "execution_count": 126,
     "metadata": {},
     "output_type": "execute_result"
    }
   ],
   "source": [
    "test_list"
   ]
  },
  {
   "cell_type": "code",
   "execution_count": 151,
   "id": "5049b0de-500d-40cb-a092-f786f114f1e6",
   "metadata": {},
   "outputs": [
    {
     "name": "stdout",
     "output_type": "stream",
     "text": [
      "[12, 23, 45, 55, 65, 72, 12, 11, 14, 85, 90, 65, 65, 65, 12, 45, 85]\n",
      "{12: 3, 23: 1, 45: 2, 55: 1, 65: 4, 72: 1, 11: 1, 14: 1, 85: 2, 90: 1} \n",
      "occurence of 65 in the list is 4 times\n"
     ]
    }
   ],
   "source": [
    "# 5 Write a program to find the occurence of all the numbers in the list -  interview question\n",
    "occurence = {}\n",
    "print (test_list)\n",
    "for num in test_list:\n",
    "    \n",
    "    if num in occurence:\n",
    "        occurence[num] += 1\n",
    "        # print (f'num {num} already in dictionary soo adding 1 ,occurence: {occurence}')\n",
    "    else:\n",
    "        # print (f'num {num} not in occurence {occurence}')\n",
    "        occurence[num] = 1\n",
    "print (occurence,f'\\noccurence of 65 in the list is {occurence[65]} times')\n",
    "    # print (f'the current value is {test_list[i]},occurence dictionary is : {occurence}')\n",
    "# print (f\"the number {num} has occured {occurence[num]} times\")"
   ]
  },
  {
   "cell_type": "code",
   "execution_count": 169,
   "id": "03ede06d-9c95-405a-b05d-c8ebaf4063e1",
   "metadata": {},
   "outputs": [
    {
     "name": "stdout",
     "output_type": "stream",
     "text": [
      "even\n",
      "even\n"
     ]
    }
   ],
   "source": [
    "def check_even(num = 2):\n",
    "    if num % 2 == 0:\n",
    "        print (\"even\")\n",
    "    else:\n",
    "        print (\"odd\")\n",
    "check_even()\n",
    "check_even(4)"
   ]
  },
  {
   "cell_type": "code",
   "execution_count": 201,
   "id": "264ee8f2-8fdb-4e33-9c9c-acf49c028918",
   "metadata": {},
   "outputs": [],
   "source": [
    "# function - userdefined functions\n",
    "test_list = [12,34,56,66,78,86,25,22,12,13,12,12,45,55]\n",
    "def div_10(test_lst):\n",
    "    print (test_lst,test_list,id(test_list),id(test_lst))\n",
    "    test_list2 = []\n",
    "    for i in range(len(test_lst)):\n",
    "        test_list2.append(test_lst[i]/10)\n",
    "    return test_list2"
   ]
  },
  {
   "cell_type": "code",
   "execution_count": 202,
   "id": "45936dc4-6a4d-4016-b0dc-c6e2e6fe7b39",
   "metadata": {},
   "outputs": [
    {
     "name": "stdout",
     "output_type": "stream",
     "text": [
      "[12, 34, 56, 66, 78, 86, 25, 22, 12, 13, 12, 12, 45, 55] [12, 34, 56, 66, 78, 86, 25, 22, 12, 13, 12, 12, 45, 55] 4435559808 4435559808\n",
      "[1.2, 3.4, 5.6, 6.6, 7.8, 8.6, 2.5, 2.2, 1.2, 1.3, 1.2, 1.2, 4.5, 5.5]\n",
      "[12, 34, 56, 66, 78, 86, 25, 22, 12, 13, 12, 12, 45, 55]\n"
     ]
    }
   ],
   "source": [
    "# calling of the function\n",
    "print (div_10(test_list))\n",
    "print (test_list)"
   ]
  },
  {
   "cell_type": "code",
   "execution_count": 210,
   "id": "14322b22-0eb7-4822-af53-d344ef1e395d",
   "metadata": {},
   "outputs": [],
   "source": [
    "def div_10_num(val):\n",
    "    return val/10\n",
    "func_var = div_10_num\n",
    "print (func_var(12))"
   ]
  },
  {
   "cell_type": "code",
   "execution_count": 221,
   "id": "cffd2865-84e7-429d-aaaa-1c3aa847b582",
   "metadata": {},
   "outputs": [
    {
     "name": "stdout",
     "output_type": "stream",
     "text": [
      "1.2\n",
      "3.4\n",
      "5.6\n",
      "6.6\n",
      "7.8\n",
      "8.6\n",
      "2.5\n",
      "2.2\n",
      "1.2\n",
      "1.3\n",
      "1.2\n",
      "1.2\n",
      "4.5\n",
      "5.5\n"
     ]
    }
   ],
   "source": []
  },
  {
   "cell_type": "code",
   "execution_count": 208,
   "id": "71aedf2d-0cee-4b9b-a9a2-83c614c608a9",
   "metadata": {},
   "outputs": [],
   "source": [
    "test = lambda val: val/100"
   ]
  },
  {
   "cell_type": "code",
   "execution_count": 218,
   "id": "25522fcc-97d9-434b-b7e3-67220cea5e1d",
   "metadata": {},
   "outputs": [
    {
     "data": {
      "text/plain": [
       "(function, 1.2)"
      ]
     },
     "execution_count": 218,
     "metadata": {},
     "output_type": "execute_result"
    }
   ],
   "source": [
    "type(test),test(12)"
   ]
  },
  {
   "cell_type": "code",
   "execution_count": 220,
   "id": "f489483c-5823-46f6-95f1-1afcff11b911",
   "metadata": {},
   "outputs": [
    {
     "name": "stdout",
     "output_type": "stream",
     "text": [
      "[1.2, 3.4, 5.6, 6.6, 7.8, 8.6, 2.5, 2.2, 1.2, 1.3, 1.2, 1.2, 4.5, 5.5]\n"
     ]
    }
   ],
   "source": [
    "# apply the function div_10_num to the each element of the list\n",
    "print(list(map(div_10_num,test_list)))\n",
    "# for vals in test_list:\n",
    "#     print (test(vals))"
   ]
  },
  {
   "cell_type": "code",
   "execution_count": null,
   "id": "bea64a7f-9515-4a44-b371-2d6ec866a13e",
   "metadata": {},
   "outputs": [],
   "source": [
    "# note that we can assign functions to avariable"
   ]
  },
  {
   "cell_type": "code",
   "execution_count": 213,
   "id": "94135171-ce12-4f95-a91e-f895f68cf3da",
   "metadata": {},
   "outputs": [
    {
     "name": "stdout",
     "output_type": "stream",
     "text": [
      "2.4\n",
      "2.4\n"
     ]
    }
   ],
   "source": [
    "print (test(24))\n",
    "print (div_10_num(24))"
   ]
  },
  {
   "cell_type": "code",
   "execution_count": 224,
   "id": "077fd316-95b9-4288-b135-f8c4a16f27a5",
   "metadata": {},
   "outputs": [
    {
     "data": {
      "text/plain": [
       "True"
      ]
     },
     "execution_count": 224,
     "metadata": {},
     "output_type": "execute_result"
    }
   ],
   "source": [
    "# function to find all the even values\n",
    "def check_even(val):\n",
    "    if val % 2 == 0:\n",
    "        return True\n",
    "    else:\n",
    "        return False\n",
    "check_even(14)"
   ]
  },
  {
   "cell_type": "code",
   "execution_count": 227,
   "id": "9baebfad-15b8-4840-9b39-5f392a357483",
   "metadata": {},
   "outputs": [
    {
     "data": {
      "text/plain": [
       "[12, 34, 56, 66, 78, 86, 22, 12, 12, 12]"
      ]
     },
     "execution_count": 227,
     "metadata": {},
     "output_type": "execute_result"
    }
   ],
   "source": [
    "# Construct an iterator from those elements of iterable for which function is true. \n",
    "# iterable may be either a sequence, a container which supports iteration, or an iterator. If function is None, the identity function is assumed, that is, all elements of iterable that are false are removed.\n",
    "list(filter(check_even,test_list))"
   ]
  },
  {
   "cell_type": "code",
   "execution_count": 228,
   "id": "a5792ddb-d390-45cb-9619-e7418e9cba68",
   "metadata": {},
   "outputs": [
    {
     "data": {
      "text/plain": [
       "[True,\n",
       " True,\n",
       " True,\n",
       " True,\n",
       " True,\n",
       " True,\n",
       " False,\n",
       " True,\n",
       " True,\n",
       " False,\n",
       " True,\n",
       " True,\n",
       " False,\n",
       " False]"
      ]
     },
     "execution_count": 228,
     "metadata": {},
     "output_type": "execute_result"
    }
   ],
   "source": [
    "list(map(check_even,test_list))"
   ]
  },
  {
   "cell_type": "code",
   "execution_count": 232,
   "id": "ee54ac58-30a1-4b35-b4d5-86ab9ccf664f",
   "metadata": {},
   "outputs": [
    {
     "name": "stdout",
     "output_type": "stream",
     "text": [
      "8\n"
     ]
    },
    {
     "data": {
      "text/plain": [
       "55"
      ]
     },
     "execution_count": 232,
     "metadata": {},
     "output_type": "execute_result"
    }
   ],
   "source": [
    "# reduce \n",
    "reduce_list = [1,2,3,4,5,6,7,8,9,10]\n",
    "from functools import reduce\n",
    "add_func = lambda x,y: x+y\n",
    "print (add_func(2,6))\n",
    "reduce(add_func,reduce_list)"
   ]
  },
  {
   "cell_type": "code",
   "execution_count": null,
   "id": "db48ccaf-0729-40e1-8c25-ee1ef7b6d0cc",
   "metadata": {},
   "outputs": [],
   "source": [
    "#lambda\n",
    "# lambda functions are anonymous functions used for single line operations and ease\n",
    "# lambda <paramter>: <expression>\n"
   ]
  },
  {
   "cell_type": "code",
   "execution_count": 177,
   "id": "c17f700f-4ec7-4d61-bd5c-b6b2a733a8ff",
   "metadata": {},
   "outputs": [
    {
     "name": "stdout",
     "output_type": "stream",
     "text": [
      "Hello Ravi\n",
      "wassup Ravi\n",
      "hello Ravi\n"
     ]
    }
   ],
   "source": [
    "# default parameter\n",
    "def hello_func(name,greeting=\"hello\"):\n",
    "    print (f'{greeting } {name}')\n",
    "hello_func(\"Ravi\", \"Hello\")\n",
    "hello_func(\"Ravi\", \"wassup\")\n",
    "hello_func(\"Ravi\")"
   ]
  },
  {
   "cell_type": "code",
   "execution_count": null,
   "id": "c0636d5c-511a-4b8d-9a7d-58846390341c",
   "metadata": {},
   "outputs": [],
   "source": [
    "# while question\n",
    "# map reduce filter revision\n",
    "# nested loop patter programs\n",
    "# question"
   ]
  }
 ],
 "metadata": {
  "kernelspec": {
   "display_name": "Python 3 (ipykernel)",
   "language": "python",
   "name": "python3"
  },
  "language_info": {
   "codemirror_mode": {
    "name": "ipython",
    "version": 3
   },
   "file_extension": ".py",
   "mimetype": "text/x-python",
   "name": "python",
   "nbconvert_exporter": "python",
   "pygments_lexer": "ipython3",
   "version": "3.11.7"
  }
 },
 "nbformat": 4,
 "nbformat_minor": 5
}
