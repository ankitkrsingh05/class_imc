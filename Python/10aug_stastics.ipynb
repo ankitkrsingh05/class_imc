{
 "cells": [
  {
   "cell_type": "code",
   "execution_count": null,
   "id": "6b25f9d5-11b0-4b89-83da-1990ee337754",
   "metadata": {},
   "outputs": [],
   "source": [
    "# statistics\n",
    "    # definition \n",
    "    # Use\n",
    "    # intuition\n",
    "    # popoulation vs sample\n",
    "    # variables in stastics\n",
    "\n",
    "# descriptive stastics\n",
    "# measure of central tendency\n",
    "# random variables"
   ]
  },
  {
   "cell_type": "code",
   "execution_count": null,
   "id": "c5712f5d-1f2b-4692-900a-6d08f126ab8b",
   "metadata": {},
   "outputs": [],
   "source": [
    "# Statistics is the study of the collection,\n",
    "# analysis, interpretation, presentation, and organization of data. \n",
    "# In other words, it is a mathematical discipline to collect, summarize data. \n",
    "# Also, we can say that statistics is a branch of applied mathematics. \n",
    "# However, there are two important and basic ideas involved in statistics; \n",
    "# they are uncertainty and variation. \n",
    "# The uncertainty and variation in \n",
    "# different fields can be determined only through statistical analysis. \n",
    "# These uncertainties are basically determined by the probability \n",
    "# that plays an important role in statistics. "
   ]
  },
  {
   "cell_type": "code",
   "execution_count": null,
   "id": "a9758341-7c93-4179-b83e-aade078e2d15",
   "metadata": {},
   "outputs": [],
   "source": [
    "# fields\n",
    "    # surveys\n",
    "    # clinical trials - \n",
    "    # website optimizations - \n"
   ]
  },
  {
   "cell_type": "code",
   "execution_count": null,
   "id": "981cdf1c-cfd1-4b3e-8aa2-f875f9551820",
   "metadata": {},
   "outputs": [],
   "source": [
    "# Population is the complete dataset with each of the data points in the complete space\n",
    "# sample is the part of the population:\n",
    "    # which we use get the inferences about the population\n",
    "    # selection of sample is to taken care of :\n",
    "        # sample shouldnt be biased\n",
    "        # sample size should be enough to make close inferences to the population"
   ]
  },
  {
   "cell_type": "code",
   "execution_count": null,
   "id": "21a3281d-c580-4761-a201-b8328995f82b",
   "metadata": {},
   "outputs": [],
   "source": [
    "# Variable in statistics\n",
    "    # Numerical\n",
    "        # disrecte  ()\n",
    "            # age\n",
    "        # continous variable\n",
    "            # weight,salary,\n",
    "    # Categorical\n",
    "        # nominal\n",
    "        # ordinal"
   ]
  },
  {
   "cell_type": "code",
   "execution_count": null,
   "id": "e7037f51-123a-49ea-b1ee-d0c692240193",
   "metadata": {},
   "outputs": [],
   "source": [
    "# descriptive stastics\n",
    "# Descriptive statistics refers \n",
    "# to a set of methods used to summarize and describe the main features of a dataset, \n",
    "# such as its central tendency, variability, and distribution. \n",
    "# These methods provide an overview of the data \n",
    "# and help identify patterns and relationships."
   ]
  },
  {
   "cell_type": "code",
   "execution_count": null,
   "id": "a49ff825-c0a1-4363-9080-66aef962e796",
   "metadata": {},
   "outputs": [],
   "source": [
    "# measure of central tendancy\n",
    "    # mean  : (sum of observations) / (total number of observation)\n",
    "    # median :\n",
    "        # sorted data in ascending order\n",
    "        #  middle value( if even then get the mean of the middle of 2 values)\n",
    "    # mode:\n",
    "        # the value/event which has occured the most number of times in a list/set/space \n",
    "            # that is the mode\n"
   ]
  },
  {
   "cell_type": "code",
   "execution_count": 28,
   "id": "503d0d70-7356-448b-843d-8513d974b669",
   "metadata": {},
   "outputs": [],
   "source": [
    "lst = [1,1,2,3,4,55,7,8,19,2,2,2,5,65,32,2,100000000000000]"
   ]
  },
  {
   "cell_type": "code",
   "execution_count": 32,
   "id": "b83e363b-1983-45dc-ba10-3e7ccac727d4",
   "metadata": {},
   "outputs": [],
   "source": [
    "import numpy as np"
   ]
  },
  {
   "cell_type": "code",
   "execution_count": 33,
   "id": "e4c053a9-0c06-47a3-85c6-409336bc1a87",
   "metadata": {},
   "outputs": [
    {
     "data": {
      "text/plain": [
       "5882352941188.823"
      ]
     },
     "execution_count": 33,
     "metadata": {},
     "output_type": "execute_result"
    }
   ],
   "source": [
    "np.mean(lst)"
   ]
  },
  {
   "cell_type": "code",
   "execution_count": 14,
   "id": "1e974931-8c4c-4023-86f1-4c273e1e5f88",
   "metadata": {},
   "outputs": [
    {
     "data": {
      "text/plain": [
       "([1, 1, 2, 2, 2, 2, 3, 4, 5, 7, 8, 19, 32, 55, 65],\n",
       " <function list.index(value, start=0, stop=9223372036854775807, /)>)"
      ]
     },
     "execution_count": 14,
     "metadata": {},
     "output_type": "execute_result"
    }
   ],
   "source": [
    "sorted(lst),lst.index"
   ]
  },
  {
   "cell_type": "code",
   "execution_count": 34,
   "id": "6964f5e5-1dd9-46ae-9cb3-185acafeddb8",
   "metadata": {},
   "outputs": [],
   "source": [
    "def calc_median(lst):\n",
    "    sorted_lst = sorted(lst)\n",
    "    length = len(sorted_lst)\n",
    "    median = None\n",
    "    if length % 2 != 0:\n",
    "        median = sorted_lst[int((length+1)/2)]\n",
    "    else:\n",
    "        idx_1 = int((length)/2)\n",
    "        idx_2 = int((length/2) + 1)\n",
    "        median = (sorted_lst[idx_1] + sorted_lst[idx_2])/2\n",
    "    return median"
   ]
  },
  {
   "cell_type": "code",
   "execution_count": 35,
   "id": "defe63c7-b5dc-4e73-8684-882f6790dd9d",
   "metadata": {},
   "outputs": [
    {
     "data": {
      "text/plain": [
       "5"
      ]
     },
     "execution_count": 35,
     "metadata": {},
     "output_type": "execute_result"
    }
   ],
   "source": [
    "calc_median(lst)"
   ]
  },
  {
   "cell_type": "code",
   "execution_count": null,
   "id": "74e613f8-3cc0-431f-8975-592944a393d5",
   "metadata": {},
   "outputs": [],
   "source": [
    "# mean vs median\n",
    "    # mean is used when we know that there arent any outliers in the data\n",
    "    # mean is very sensitive to outliers\n",
    "    # median is used when there are outliers"
   ]
  },
  {
   "cell_type": "code",
   "execution_count": null,
   "id": "474c629a-5072-4688-b9a7-cccbb0374f51",
   "metadata": {},
   "outputs": [],
   "source": [
    "# weighted mean\n",
    "    # \n",
    "    # [200,300,350]\n",
    "    # [0.5,0.2,0.3]\n",
    "\n",
    "# trimming mean\n",
    "    # percentage of data is removed before the calculation of mean\n",
    "        \n"
   ]
  },
  {
   "cell_type": "code",
   "execution_count": null,
   "id": "4725600b-4ffe-4215-8784-fcc1a6fb9ba5",
   "metadata": {},
   "outputs": [],
   "source": [
    "# mode\n",
    "    # highest frequency data point in the data"
   ]
  },
  {
   "cell_type": "code",
   "execution_count": null,
   "id": "2718925a-f964-400e-9f10-6309e03a71d9",
   "metadata": {},
   "outputs": [],
   "source": [
    "# populaation mean\n",
    "# sample mean"
   ]
  },
  {
   "cell_type": "code",
   "execution_count": null,
   "id": "b0337aad-1b49-4a08-bd58-8cb8c95a7e8c",
   "metadata": {},
   "outputs": [],
   "source": [
    "# In probability, a real-valued function, defined over the sample space of a random experiment, \n",
    "# is called a random variable. \n",
    "# That is, the values of the random variable correspond to the outcomes of the random experiment. \n",
    "# Random variables could be either discrete or continuous.\n",
    "# In this article, let’s discuss the different types of random variables."
   ]
  },
  {
   "cell_type": "code",
   "execution_count": null,
   "id": "e6c3c28b-8dc6-43c1-adb2-217a2510d1d1",
   "metadata": {},
   "outputs": [],
   "source": [
    "# types of random variable:\n",
    "    # discrete variable\n",
    "        # coin toss\n",
    "        # dice roll\n",
    "        # cards \n",
    "    # continous variable\n",
    "        # average temperature of city each day\n",
    "        # weights of a students in a class\n",
    "        # randomly selecting power of a appliances"
   ]
  },
  {
   "cell_type": "code",
   "execution_count": 36,
   "id": "e15cb90d-789d-4858-82c1-9924cfad0e9b",
   "metadata": {},
   "outputs": [],
   "source": [
    "from collections import Counter"
   ]
  },
  {
   "cell_type": "code",
   "execution_count": 54,
   "id": "df2421c1-b06b-4f1e-9f18-e55c1b1a7efa",
   "metadata": {},
   "outputs": [
    {
     "data": {
      "text/plain": [
       "Counter({2: 5,\n",
       "         1: 2,\n",
       "         3: 1,\n",
       "         4: 1,\n",
       "         55: 1,\n",
       "         7: 1,\n",
       "         8: 1,\n",
       "         19: 1,\n",
       "         5: 1,\n",
       "         65: 1,\n",
       "         32: 1,\n",
       "         100000000000000: 1})"
      ]
     },
     "execution_count": 54,
     "metadata": {},
     "output_type": "execute_result"
    }
   ],
   "source": [
    "Counter(lst)"
   ]
  }
 ],
 "metadata": {
  "kernelspec": {
   "display_name": "Python 3 (ipykernel)",
   "language": "python",
   "name": "python3"
  },
  "language_info": {
   "codemirror_mode": {
    "name": "ipython",
    "version": 3
   },
   "file_extension": ".py",
   "mimetype": "text/x-python",
   "name": "python",
   "nbconvert_exporter": "python",
   "pygments_lexer": "ipython3",
   "version": "3.11.7"
  }
 },
 "nbformat": 4,
 "nbformat_minor": 5
}
