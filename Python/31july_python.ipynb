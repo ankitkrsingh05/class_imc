{
 "cells": [
  {
   "cell_type": "code",
   "execution_count": null,
   "id": "ae44fcf2-6ee4-4f7c-9143-a13512a1d288",
   "metadata": {},
   "outputs": [],
   "source": [
    "# Dataframe Sorting - sort_values ()\n",
    "# Ranking in Dataframe - rank ()\n",
    "# Dataframe Concat\n",
    "# Dataframe Joins\n",
    "# Dataframe Merge\n",
    "# difference between them\n",
    "# pivot melt : from documentation\n",
    "# pandas loc and iloc\n",
    "    # loc : [<row selection,column selection>]selection based on condition examples, range of rows,updating the values,\n",
    "    # iloc: rows and columns selection \n",
    "# crosstab\n",
    "# grouping - \n",
    "# replacing: to replace the values, using function and dict\n",
    "# missing values: fillna,isna\n",
    "# dropping of columns using the function\n",
    "# duplicates checking duplicated function: keep df.duplicated([<cols>])"
   ]
  },
  {
   "cell_type": "code",
   "execution_count": null,
   "id": "86bbbcc9-cefb-408b-81ed-abc72588fdb5",
   "metadata": {},
   "outputs": [],
   "source": []
  },
  {
   "cell_type": "code",
   "execution_count": null,
   "id": "bbc1688a-8886-4c26-915a-a9c04300b511",
   "metadata": {},
   "outputs": [],
   "source": []
  }
 ],
 "metadata": {
  "kernelspec": {
   "display_name": "Python 3 (ipykernel)",
   "language": "python",
   "name": "python3"
  },
  "language_info": {
   "codemirror_mode": {
    "name": "ipython",
    "version": 3
   },
   "file_extension": ".py",
   "mimetype": "text/x-python",
   "name": "python",
   "nbconvert_exporter": "python",
   "pygments_lexer": "ipython3",
   "version": "3.11.7"
  }
 },
 "nbformat": 4,
 "nbformat_minor": 5
}
