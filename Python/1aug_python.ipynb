{
 "cells": [
  {
   "cell_type": "code",
   "execution_count": null,
   "id": "a39faf26-2a00-44a0-89f5-f1110c6907f5",
   "metadata": {},
   "outputs": [],
   "source": [
    "# grouping loopin over - revision - done\n",
    "# Ranking in Dataframe - rank ()\n",
    "# Dataframe Concat\n",
    "# Dataframe Joins\n",
    "# Dataframe Merge\n",
    "# difference between them\n",
    "# pivot melt : from documentation\n",
    "\n",
    "# dropping of columns using the function - done\n",
    "# duplicates checking duplicated function: keep df.duplicated([<cols>]) - done"
   ]
  },
  {
   "cell_type": "code",
   "execution_count": null,
   "id": "18e728cf-d092-4b0f-9d94-37e41d1c3623",
   "metadata": {},
   "outputs": [],
   "source": [
    "import pandas as pd\n",
    "csv_file_path = \"/Users/ankitkumarsingh/Documents/imarticus/class_imc/Python/employee_details.csv\"\n",
    "df = pd.read_csv(csv_file_path)\n",
    "df.columns = [cols.lower().replace('\\t','') for cols in df.columns]"
   ]
  },
  {
   "cell_type": "code",
   "execution_count": null,
   "id": "65586d7e-e469-48e0-985e-2fa11ced49c3",
   "metadata": {},
   "outputs": [],
   "source": [
    "df.head()"
   ]
  },
  {
   "cell_type": "code",
   "execution_count": null,
   "id": "1f0fcb91-542c-463f-9409-2a432806e288",
   "metadata": {},
   "outputs": [],
   "source": []
  },
  {
   "cell_type": "code",
   "execution_count": null,
   "id": "14be6dc1-6b0d-4194-bf0b-d9a8058a87c0",
   "metadata": {
    "scrolled": true
   },
   "outputs": [],
   "source": [
    "# ranking the data frame based on columns list\n",
    "# for all other parameters we can refer to the documentation\n",
    "df['salary'].rank(ascending = False)"
   ]
  },
  {
   "cell_type": "code",
   "execution_count": null,
   "id": "eb418b56-9959-42a1-9fd9-5651cabc54cf",
   "metadata": {},
   "outputs": [],
   "source": [
    "department_df = pd.read_csv('Department_Details.csv')"
   ]
  },
  {
   "cell_type": "code",
   "execution_count": null,
   "id": "297747da-0319-40c3-b7e4-76f42a5307fb",
   "metadata": {},
   "outputs": [],
   "source": [
    "department_df.columns\n",
    "# {'EMPLOYEE_ID':'employee_id'}\n",
    "# dict1 = {}\n",
    "# for col in department_df.columns:\n",
    "#     print (col,col.lower())\n",
    "#     dict1[col] = col.lower()\n",
    "# print (dict1)\n",
    "\n",
    "rename_dict = dict(zip(department_df.columns,[cols.lower() for cols in department_df.columns]))\n"
   ]
  },
  {
   "cell_type": "code",
   "execution_count": null,
   "id": "d8012020-aaaa-4f9d-a4e5-6a204b043b6c",
   "metadata": {},
   "outputs": [],
   "source": [
    "rename_dict"
   ]
  },
  {
   "cell_type": "code",
   "execution_count": null,
   "id": "25ed9346-7978-4510-be2b-f7f6ce35b666",
   "metadata": {},
   "outputs": [],
   "source": [
    "department_df.columns"
   ]
  },
  {
   "cell_type": "code",
   "execution_count": null,
   "id": "88250c94-ecdf-49f6-9775-bee2c3c6bcc5",
   "metadata": {},
   "outputs": [],
   "source": [
    "# 'TEST'.lower()\n",
    "\n",
    "# [cols.lower() for cols in department_df.columns]\n",
    "# Alternative to specifying axis (mapper, axis=1 is equivalent to columns=mapper).\n",
    "department_df.rename(rename_dict,axis = 1)\n",
    "department_df = department_df.rename(columns = rename_dict)\n",
    "# department_df.rename(columns = rename_dict,inplace = True)"
   ]
  },
  {
   "cell_type": "code",
   "execution_count": null,
   "id": "e71b851e-ab96-4ecf-8ebb-34f0a1895077",
   "metadata": {},
   "outputs": [],
   "source": [
    "# for functions which have updation on the dataframe \n",
    "# would generaaly have inplace as a parameter to manipulate \n",
    "# the values in the original dataframe or store the returned dataframe into a new dataframe\n",
    "department_df"
   ]
  },
  {
   "cell_type": "code",
   "execution_count": null,
   "id": "7a1b89c2-91d8-46f7-a108-db9f99bdb19b",
   "metadata": {},
   "outputs": [],
   "source": [
    "department_df[department_df.duplicated(subset = 'department_name',keep = 'first')]"
   ]
  },
  {
   "cell_type": "code",
   "execution_count": null,
   "id": "fffca944-b84c-4913-9837-bdd5da8b98c2",
   "metadata": {},
   "outputs": [],
   "source": [
    "department_df.drop(columns = ['department_name','location_id'])\n",
    "\n",
    "# To delete all the even positioned values in the department_df using drop\n",
    "# department_df.drop(index = ['department_name','location_id'])\n",
    "# for l in department_df.index # range(0,n)\n",
    "department_df.drop(index = [l for l in list(department_df.index) if l%2 == 0])\n",
    "# department_df[[l%2 != 0 for l in list(department_df.index)]] "
   ]
  },
  {
   "cell_type": "code",
   "execution_count": null,
   "id": "a9f48861-8d7b-4e22-9f4d-f31d70043ac8",
   "metadata": {},
   "outputs": [],
   "source": [
    "# Creating first dataframe\n",
    "df1 = pd.DataFrame({'A': ['A0', 'A1', 'A2', 'A3'],\n",
    "                    'B': ['B0', 'B1', 'B2', 'B3'],\n",
    "                    'C': ['C0', 'C1', 'C2', 'C3'],\n",
    "                    'D': ['D0', 'D1', 'D2', 'D3']},\n",
    "                   index=[0, 1, 2, 3])\n",
    " \n",
    "# Creating second dataframe\n",
    "df2 = pd.DataFrame({'A': ['A4', 'A5', 'A6', 'A7'],\n",
    "                    'B': ['B4', 'B5', 'B6', 'B7'],\n",
    "                    'C': ['C4', 'C5', 'C6', 'C7'],\n",
    "                    'D': ['D4', 'D5', 'D6', 'D7']},\n",
    "                   index=[4, 5, 6, 7])\n",
    " \n",
    "# Creating third dataframe\n",
    "df3 = pd.DataFrame({'A': ['A8', 'A9', 'A10', 'A11'],\n",
    "                    'B': ['B8', 'B9', 'B10', 'B11'],\n",
    "                    'C': ['C8', 'C9', 'C10', 'C11'],\n",
    "                    'D': ['D8', 'D9', 'D10', 'D11']},\n",
    "                   index=[8, 9, 10, 11])\n",
    "# Creating third dataframe\n",
    "df4 = pd.DataFrame({'E': ['E8', 'E9', 'E10', 'A11'],\n",
    "                    'F': ['F8', 'F9', 'B10', 'B11'],\n",
    "                    'G': ['F8', 'F9', 'C10', 'C11'],\n",
    "                    'H': ['F8', 'F9', 'D10', 'D11']},\n",
    "                   index=[8,9 , 10, 11])\n",
    "\n"
   ]
  },
  {
   "cell_type": "code",
   "execution_count": null,
   "id": "79ddfb5d-9bb1-42fe-b0e4-32c5bd625cef",
   "metadata": {},
   "outputs": [],
   "source": [
    "df1,df2,df3"
   ]
  },
  {
   "cell_type": "code",
   "execution_count": null,
   "id": "1faab490-eacb-4898-852c-7aaf191331c2",
   "metadata": {},
   "outputs": [],
   "source": [
    "# concat:\n",
    "#  this is used to concat/ stack a dataframe onto another\n",
    "pd.concat([df3,pd.concat([df1,df2])])"
   ]
  },
  {
   "cell_type": "code",
   "execution_count": null,
   "id": "beaf112f-0e9e-4cb7-bbe6-bbc803222733",
   "metadata": {},
   "outputs": [],
   "source": [
    "pd.concat([df3,df4],axis = 1)"
   ]
  },
  {
   "cell_type": "code",
   "execution_count": null,
   "id": "980f6114-9ae1-450b-beb0-4cdceb17699c",
   "metadata": {},
   "outputs": [],
   "source": [
    "# merge - left,right,inner, full ,outer\n",
    "# join - joininng the dataframes based on the index column"
   ]
  },
  {
   "cell_type": "code",
   "execution_count": null,
   "id": "945748fa-c43e-4bdb-bdba-aae9c1462a7a",
   "metadata": {},
   "outputs": [],
   "source": [
    "# Dataframe created\n",
    "left = pd.DataFrame({'Key': ['K0', 'K1', 'K2', 'K3'],\n",
    "                     'A': ['A0', 'A1', 'A2', 'A3'],\n",
    "                     'B': ['B0', 'B1', 'B2', 'B3']})\n",
    " \n",
    "right = pd.DataFrame({'Key': ['K0', 'K1', 'K2', 'K3'],\n",
    "                      'C': ['C0', 'C1', 'C2', 'C3'],\n",
    "                      'D': ['D0', 'D1', 'D2', 'D3']})"
   ]
  },
  {
   "cell_type": "code",
   "execution_count": null,
   "id": "29e52462-4c3d-4be7-b930-9f974922913a",
   "metadata": {},
   "outputs": [],
   "source": [
    "left.join(right,rsuffix = '_right')"
   ]
  },
  {
   "cell_type": "code",
   "execution_count": null,
   "id": "3716d6ee-e09f-4b9c-873a-c621426138f9",
   "metadata": {},
   "outputs": [],
   "source": [
    "df,department_df"
   ]
  },
  {
   "cell_type": "code",
   "execution_count": null,
   "id": "e0c81b9a-69c1-405c-a33d-28b9050aa390",
   "metadata": {},
   "outputs": [],
   "source": [
    "# index setting and resetting:\n",
    "# df.set_index('<column_name>')\n",
    "emp_df = df[1:8]"
   ]
  },
  {
   "cell_type": "code",
   "execution_count": null,
   "id": "bf76b23d-e15f-44c2-97e4-61f8d109d08d",
   "metadata": {},
   "outputs": [],
   "source": [
    "#### emp_df,df\n",
    "emp_df = emp_df.set_index('employee_id')\n",
    "print (emp_df.columns,emp_df)\n",
    "# reset_index\n",
    "emp_df.reset_index(inplace = True)\n",
    "print (\"after rest_index\")\n",
    "print (emp_df,emp_df.columns)\n"
   ]
  },
  {
   "cell_type": "code",
   "execution_count": null,
   "id": "90d2fb58-3aef-434b-8363-7578fa732801",
   "metadata": {},
   "outputs": [],
   "source": [
    "# setting the employee_id as index for both dataframes\n",
    "\n",
    "emp_df.set_index('employee_id',inplace = True)\n",
    "df.set_index('employee_id',inplace = True)"
   ]
  },
  {
   "cell_type": "code",
   "execution_count": null,
   "id": "bb25ac42-6956-4805-9a26-1a8bef158d58",
   "metadata": {},
   "outputs": [],
   "source": [
    "emp_df.index,df.index"
   ]
  },
  {
   "cell_type": "code",
   "execution_count": null,
   "id": "b4724cab-6195-4d12-814f-486b547f0cfc",
   "metadata": {},
   "outputs": [],
   "source": [
    "# join would join based on the index values from both the dataframes\n",
    "emp_df.join(df,lsuffix='_original',rsuffix = '_new')"
   ]
  },
  {
   "cell_type": "code",
   "execution_count": null,
   "id": "873fbcaa-4e90-48cd-b0f4-20f318623a10",
   "metadata": {},
   "outputs": [],
   "source": [
    "department_df.set_index('employee_id',inplace = True)"
   ]
  },
  {
   "cell_type": "code",
   "execution_count": null,
   "id": "5e00b8ef-e102-46a1-ad34-e58b427913fd",
   "metadata": {},
   "outputs": [],
   "source": [
    "df,department_df\n",
    "\n",
    "department_df.drop([102,103,104],inplace = True)\n",
    "\n"
   ]
  },
  {
   "cell_type": "code",
   "execution_count": null,
   "id": "3df1db60-ea18-4313-8eed-6669c746ede4",
   "metadata": {},
   "outputs": [],
   "source": [
    "department_df"
   ]
  },
  {
   "cell_type": "code",
   "execution_count": null,
   "id": "fe2c622c-f716-4a85-b997-af0fd49f0924",
   "metadata": {},
   "outputs": [],
   "source": [
    "# df.join(department_df,rsuffix = '_dept',how= 'left')\n",
    "df.join(department_df,rsuffix = '_dept',how = 'inner')\n",
    "# default is left for how"
   ]
  },
  {
   "cell_type": "code",
   "execution_count": null,
   "id": "fddb8c28-78ba-4432-a898-f42369d0f43b",
   "metadata": {},
   "outputs": [],
   "source": [
    "df.join(department_df,lsuffix='_emp',rsuffix = '_dept')"
   ]
  },
  {
   "cell_type": "code",
   "execution_count": null,
   "id": "875ba04e-9db0-44e4-992f-7f49bd83176d",
   "metadata": {},
   "outputs": [],
   "source": [
    "# reverting the indexes\n",
    "df.reset_index(inplace = True)\n",
    "department_df.reset_index(inplace = True)"
   ]
  },
  {
   "cell_type": "code",
   "execution_count": null,
   "id": "15a9e0c4-2577-4abd-8716-9b45280f188a",
   "metadata": {},
   "outputs": [],
   "source": [
    "# merge\n",
    "# used when column names are different in each dataframes\n",
    "df.merge(department_df.rename(columns = {'department_id':'dept_id'}),left_on = 'department_id',right_on = 'dept_id')\n",
    "# used when column names are same in both the dataframes\n",
    "df.merge(department_df,on = 'department_id')\n",
    "# for suffixes for common columns we use suffixes\n",
    "df.merge(department_df,on = 'department_id',suffixes = ('_emp','_dept'),)\n",
    "# how would tell the type of join -  inner is the default\n",
    "df.merge(department_df,on = 'department_id',how = 'left')\n",
    "df.merge(department_df,on = 'department_id',how = 'right')\n",
    "df.merge(department_df,on = 'department_id',how = 'inner')\n",
    "\n"
   ]
  },
  {
   "cell_type": "code",
   "execution_count": null,
   "id": "7a1f190e-54f3-4b87-bd0e-4614b5fc8c1b",
   "metadata": {},
   "outputs": [],
   "source": [
    "# pivot\n",
    "# melt\n",
    "# groupby would group the data based on the column provided\n",
    "df.groupby('department_id').sum()['salary']\n",
    "# transpose would make the columns as rows and rows as columns\n",
    "df.transpose()\n",
    "# pivot table would create a pivot table for the column values provided,value column and aggfunc provided\n",
    "pivot_df = df.pivot_table(columns = 'department_id',values = 'salary',aggfunc = 'sum')\n",
    "# melt would return the pivot tables back to its original form\n",
    "\n",
    "\n"
   ]
  },
  {
   "cell_type": "code",
   "execution_count": null,
   "id": "86e42e66-c3c0-4c5e-b4c1-fe6a90dc50d3",
   "metadata": {},
   "outputs": [],
   "source": [
    "pivot_df"
   ]
  },
  {
   "cell_type": "code",
   "execution_count": null,
   "id": "4722e7d6-1e51-4ad7-9b9d-12c82c97456f",
   "metadata": {},
   "outputs": [],
   "source": [
    "# pivot_df.melt(value_vars = 'salary',id_vars = [60,70,80])"
   ]
  }
 ],
 "metadata": {
  "kernelspec": {
   "display_name": "Python 3 (ipykernel)",
   "language": "python",
   "name": "python3"
  },
  "language_info": {
   "codemirror_mode": {
    "name": "ipython",
    "version": 3
   },
   "file_extension": ".py",
   "mimetype": "text/x-python",
   "name": "python",
   "nbconvert_exporter": "python",
   "pygments_lexer": "ipython3",
   "version": "3.11.7"
  }
 },
 "nbformat": 4,
 "nbformat_minor": 5
}
