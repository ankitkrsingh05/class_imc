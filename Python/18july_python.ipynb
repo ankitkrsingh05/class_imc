{
 "cells": [
  {
   "cell_type": "code",
   "execution_count": null,
   "id": "93907aed-fb19-4539-8305-dd47ec567349",
   "metadata": {},
   "outputs": [],
   "source": [
    "# collections detailed discussion\n",
    "    # list operations\n",
    "        # list slicing,add,delete,update,sort,sum\n",
    "        # 2d array - list of list\n",
    "    # tuple operations\n",
    "    # dictionary operations - get and other method\n",
    "    # sets methods - \n",
    "# conditional statements - \n",
    "# loops - \n",
    "# python all types of functions\n",
    "    # inbuilt functions - \n",
    "    # userdefined finctions\n",
    "    # lambda functions\n",
    "    # Print functions and other defined functions- interview questions"
   ]
  },
  {
   "cell_type": "code",
   "execution_count": 2,
   "id": "8e95edec-7948-4667-9e31-a71eeb8ef502",
   "metadata": {},
   "outputs": [],
   "source": [
    "# calling of a function\n",
    " <We can stored the value returned by the function> = <function_name>(<parameter1>,<parameter2>,<parameter3>....)"
   ]
  },
  {
   "cell_type": "code",
   "execution_count": 9,
   "id": "9aa71c2a-f017-45b0-b27d-f64073faba8d",
   "metadata": {},
   "outputs": [
    {
     "name": "stdin",
     "output_type": "stream",
     "text": [
      "enter age 32\n"
     ]
    },
    {
     "name": "stdout",
     "output_type": "stream",
     "text": [
      "32\n"
     ]
    },
    {
     "ename": "NameError",
     "evalue": "name 'testdsadfa' is not defined",
     "output_type": "error",
     "traceback": [
      "\u001b[0;31m---------------------------------------------------------------------------\u001b[0m",
      "\u001b[0;31mNameError\u001b[0m                                 Traceback (most recent call last)",
      "Cell \u001b[0;32mIn[9], line 23\u001b[0m\n\u001b[1;32m     21\u001b[0m age \u001b[38;5;241m=\u001b[39m \u001b[38;5;28mint\u001b[39m(\u001b[38;5;28minput\u001b[39m(\u001b[38;5;124m\"\u001b[39m\u001b[38;5;124menter age\u001b[39m\u001b[38;5;124m\"\u001b[39m))\n\u001b[1;32m     22\u001b[0m \u001b[38;5;28mprint\u001b[39m (age)\n\u001b[0;32m---> 23\u001b[0m \u001b[38;5;28mprint\u001b[39m (testdsadfa) \u001b[38;5;66;03m# error\u001b[39;00m\n\u001b[1;32m     24\u001b[0m \u001b[38;5;28;01mif\u001b[39;00m (age \u001b[38;5;241m<\u001b[39m \u001b[38;5;241m0\u001b[39m):\n\u001b[1;32m     25\u001b[0m     \u001b[38;5;28mprint\u001b[39m (\u001b[38;5;124m\"\u001b[39m\u001b[38;5;124mplease enter the value greater than 10\u001b[39m\u001b[38;5;124m\"\u001b[39m)\n",
      "\u001b[0;31mNameError\u001b[0m: name 'testdsadfa' is not defined"
     ]
    }
   ],
   "source": [
    "# conditional statements\n",
    "# if elif else\n",
    "# if <condtition>{\n",
    "#     print (\"\")\n",
    "# }\n",
    "\n",
    "# if <condition>:\n",
    "#     <program body only when condition is met>\n",
    "# elif < condiition>:\n",
    "#         <program body>\n",
    "# else:\n",
    "#     <program body if none of the condition is satisfied>\n",
    "\n",
    "# Take the age of user:\n",
    "# print baby if age is below 10,\n",
    "# child if age is between 10 and 22\n",
    "# teenager if age is between 22 and 40\n",
    "# old if age is between >40\n",
    "# else\n",
    "# return \"not a valid age\"\n",
    "age = int(input(\"enter age\"))\n",
    "print (age)\n",
    "if (age < 0):\n",
    "    print (\"please enter the value greater than 10\")\n",
    "if (age < 10):\n",
    "    print (\"baby\")\n",
    "elif (age > 10 and age <22):\n",
    "    print (\"teenager\")\n",
    "elif (age >22 and age <40):\n",
    "    print (\"old\")\n",
    "else:\n",
    "    print (\"not a valid age\")"
   ]
  },
  {
   "cell_type": "code",
   "execution_count": 11,
   "id": "0a5f2121-3173-4fda-b17d-62f274d963b9",
   "metadata": {},
   "outputs": [
    {
     "name": "stdin",
     "output_type": "stream",
     "text": [
      "enter age 7\n"
     ]
    },
    {
     "name": "stdout",
     "output_type": "stream",
     "text": [
      "7\n",
      "age is greater than 0\n",
      "age is greateer than 0 and also less than 10\n",
      "age is between 5 and 10\n"
     ]
    }
   ],
   "source": [
    "age = int(input(\"enter age\"))\n",
    "print (age)\n",
    "if (age > 0):\n",
    "    # nested if\n",
    "    print (\"age is greater than 0\")\n",
    "    if (age < 10): # age > 0 and age <10\n",
    "        print (\"age is greateer than 0 and also less than 10\")\n",
    "        if (age >=5):\n",
    "            print (\"age is between 5 and 10\")\n",
    "    elif (age >10 and age < 22):\n",
    "        print (\"teenager\")\n",
    "    else:\n",
    "        print (\"old\")\n",
    "else:\n",
    "    print (\"Enter age greater than 0\")\n",
    "    "
   ]
  },
  {
   "cell_type": "code",
   "execution_count": null,
   "id": "91ba8f11-359a-4d8b-abf8-9a51aeee0150",
   "metadata": {},
   "outputs": [],
   "source": []
  }
 ],
 "metadata": {
  "kernelspec": {
   "display_name": "Python 3 (ipykernel)",
   "language": "python",
   "name": "python3"
  },
  "language_info": {
   "codemirror_mode": {
    "name": "ipython",
    "version": 3
   },
   "file_extension": ".py",
   "mimetype": "text/x-python",
   "name": "python",
   "nbconvert_exporter": "python",
   "pygments_lexer": "ipython3",
   "version": "3.11.7"
  }
 },
 "nbformat": 4,
 "nbformat_minor": 5
}
