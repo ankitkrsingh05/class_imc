{
 "cells": [
  {
   "cell_type": "code",
   "execution_count": null,
   "id": "ce874587-ccfa-4b13-afb1-d5d54af3f215",
   "metadata": {},
   "outputs": [],
   "source": [
    "#Plan for the day\n",
    "## Variables\n",
    "## Operators\n",
    "## Functions\n",
    "## input\n",
    "## questions--\n",
    "## Flow Control\n",
    "## Condition statements\n",
    "## Loops"
   ]
  },
  {
   "cell_type": "code",
   "execution_count": null,
   "id": "9543d8d3-3916-4ec7-a038-3119b97a5f7c",
   "metadata": {},
   "outputs": [],
   "source": []
  },
  {
   "cell_type": "code",
   "execution_count": null,
   "id": "4eed3348-32a0-4df5-9e0d-f5c7002b3012",
   "metadata": {},
   "outputs": [],
   "source": [
    "What are Variables?\n",
    "Variables are containers for storing data values. In Python, variables are created when you assign a value to them.\n",
    "\n",
    "Naming Conventions:\n",
    "\n",
    "Variable names can contain letters, digits, and underscores (_).\n",
    "Variable names must start with a letter or an underscore.\n",
    "Variable names are case-sensitive (age, Age, and AGE are different variables).\n",
    "Variable names should be descriptive and follow the snake_case naming convention.\n",
    "    \n",
    "Assigning Values to Variables:\n",
    "Python uses the = operator to assign values to variables. The type of the variable is determined dynamically based on the value assigned to it.\n",
    "# Assigning values to variables\n",
    "name = \"Alice\"\n",
    "age = 25\n",
    "height = 5.7\n",
    "is_student = True\n",
    "Variable Types:\n",
    "Python variables can hold different types of data. The most commonly used data types include:\n",
    "\n",
    "Numbers:\n",
    "Integers: Whole numbers, e.g., int, long (Python 2 only)\n",
    "Floats: Decimal numbers, e.g., float\n",
    "Complex: Complex numbers, e.g., complex\n",
    "\n",
    "# Number variables\n",
    "int_var = 10\n",
    "float_var = 3.14\n",
    "complex_var = 1 + 2j\n",
    "Strings:\n",
    "Strings are sequences of characters, enclosed in single, double, or triple quotes.\n",
    "\n",
    "# String variables\n",
    "str_var1 = 'Hello'\n",
    "str_var2 = \"World\"\n",
    "str_var3 = '''Triple quoted string can span multiple lines.'''\n",
    "Booleans:\n",
    "Booleans represent one of two values: True or False.\n",
    "\n",
    "# Boolean variables\n",
    "bool_var1 = True\n",
    "bool_var2 = False\n",
    "Lists:\n",
    "Lists are ordered, mutable collections of items.\n",
    "\n",
    "# List variable\n",
    "list_var = [1, 2, 3, 'four', 5.0]\n",
    "Tuples:\n",
    "Tuples are ordered, immutable collections of items.\n",
    "\n",
    "# Tuple variable\n",
    "tuple_var = (1, 2, 3, 'four', 5.0)\n",
    "Dictionaries:\n",
    "Dictionaries are unordered collections of key-value pairs.\n",
    "\n",
    "# Dictionary variable\n",
    "dict_var = {'name': 'Alice', 'age': 25, 'height': 5.7}\n",
    "\n",
    "# set\n",
    "Sets:\n",
    "Sets are unordered collections of unique items.\n",
    "\n",
    "# Set variable\n",
    "set_var = {1, 2, 3, 4, 5}"
   ]
  },
  {
   "cell_type": "code",
   "execution_count": null,
   "id": "3af16141-bfeb-40b5-bfb0-82ef36d54df8",
   "metadata": {},
   "outputs": [],
   "source": []
  },
  {
   "cell_type": "code",
   "execution_count": null,
   "id": "b5e97e36-5e0a-4f76-ac38-5eba8d7dbae8",
   "metadata": {},
   "outputs": [],
   "source": []
  },
  {
   "cell_type": "code",
   "execution_count": null,
   "id": "d2434540-47dd-4dd8-8306-f8ddb6b7a52b",
   "metadata": {},
   "outputs": [],
   "source": []
  },
  {
   "cell_type": "code",
   "execution_count": null,
   "id": "6ed5d3a8-7b5d-49b5-b989-7d49e142363e",
   "metadata": {},
   "outputs": [],
   "source": [
    "Operators in Python are special symbols that perform operations on variables and values. Python supports a variety of operators, categorized into different types based on their functionality.\n",
    "\n",
    "1. Arithmetic Operators\n",
    "Arithmetic operators are used to perform mathematical operations.\n",
    "\n",
    "Addition (+): Adds two operands.\n",
    "Subtraction (-): Subtracts the second operand from the first.\n",
    "Multiplication (*): Multiplies two operands.\n",
    "Division (/): Divides the first operand by the second.\n",
    "Modulus (%): Returns the remainder when the first operand is divided by the second.\n",
    "Exponentiation (**): Raises the first operand to the power of the second.\n",
    "Floor Division (//): Divides the first operand by the second and returns the largest integer less than or equal to the result.\n",
    "\n",
    "a = 10\n",
    "b = 3\n",
    "\n",
    "print(a + b)  # Addition: 13\n",
    "print(a - b)  # Subtraction: 7\n",
    "print(a * b)  # Multiplication: 30\n",
    "print(a / b)  # Division: 3.3333333333333335\n",
    "print(a % b)  # Modulus: 1\n",
    "print(a ** b) # Exponentiation: 1000\n",
    "print(a // b) # Floor Division: 3\n",
    "2. Comparison Operators\n",
    "Comparison operators are used to compare two values. They return a boolean value (True or False).\n",
    "\n",
    "Equal (==): Returns True if both operands are equal.\n",
    "Not Equal (!=): Returns True if operands are not equal.\n",
    "Greater Than (>): Returns True if the first operand is greater than the second.\n",
    "Less Than (<): Returns True if the first operand is less than the second.\n",
    "Greater Than or Equal To (>=): Returns True if the first operand is greater than or equal to the second.\n",
    "Less Than or Equal To (<=): Returns True if the first operand is less than or equal to the second.\n",
    "\n",
    "a = 10\n",
    "b = 3\n",
    "\n",
    "print(a == b)  # Equal: False\n",
    "print(a != b)  # Not Equal: True\n",
    "print(a > b)   # Greater Than: True\n",
    "print(a < b)   # Less Than: False\n",
    "print(a >= b)  # Greater Than or Equal To: True\n",
    "print(a <= b)  # Less Than or Equal To: False\n",
    "3. Logical Operators\n",
    "Logical operators are used to combine conditional statements.\n",
    "\n",
    "And (and): Returns True if both statements are true.\n",
    "Or (or): Returns True if at least one of the statements is true.\n",
    "Not (not): Reverses the result, returns False if the result is true.\n",
    "\n",
    "a = True\n",
    "b = False\n",
    "\n",
    "print(a and b) # And: False\n",
    "print(a or b)  # Or: True\n",
    "print(not a)   # Not: False\n",
    "4. Assignment Operators\n",
    "Assignment operators are used to assign values to variables.\n",
    "\n",
    "Assignment (=): Assigns a value to a variable.\n",
    "Add and Assign (+=): Adds and assigns the value.\n",
    "Subtract and Assign (-=): Subtracts and assigns the value.\n",
    "Multiply and Assign (*=): Multiplies and assigns the value.\n",
    "Divide and Assign (/=): Divides and assigns the value.\n",
    "Modulus and Assign (%=): Modulus and assigns the value.\n",
    "Exponentiation and Assign (**=): Exponentiation and assigns the value.\n",
    "Floor Division and Assign (//=): Floor division and assigns the value.\n",
    "\n",
    "a = 10\n",
    "b = 3\n",
    "\n",
    "a += b  # a = a + b\n",
    "print(a)  # 13\n",
    "\n",
    "a -= b  # a = a - b\n",
    "print(a)  # 10\n",
    "\n",
    "a *= b  # a = a * b\n",
    "print(a)  # 30\n",
    "\n",
    "a /= b  # a = a / b\n",
    "print(a)  # 10.0\n",
    "\n",
    "a %= b  # a = a % b\n",
    "print(a)  # 1.0\n",
    "\n",
    "a **= b  # a = a ** b\n",
    "print(a)  # 1.0\n",
    "\n",
    "a //= b  # a = a // b\n",
    "print(a)  # 0.0\n",
    "5. Bitwise Operators\n",
    "Bitwise operators are used to perform bit-level operations.\n",
    "\n",
    "AND (&): Sets each bit to 1 if both bits are 1.\n",
    "OR (|): Sets each bit to 1 if one of two bits is 1.\n",
    "XOR (^): Sets each bit to 1 if only one of two bits is 1.\n",
    "NOT (~): Inverts all the bits.\n",
    "Left Shift (<<): Shifts bits to the left.\n",
    "Right Shift (>>): Shifts bits to the right.\n",
    "\n",
    "a = 10  # 1010 in binary\n",
    "b = 4   # 0100 in binary\n",
    "\n",
    "print(a & b)  # AND: 0 (0000 in binary)\n",
    "print(a | b)  # OR: 14 (1110 in binary)\n",
    "print(a ^ b)  # XOR: 14 (1110 in binary)\n",
    "print(~a)     # NOT: -11 (invert all bits)\n",
    "print(a << 1) # Left Shift: 20 (10100 in binary)\n",
    "print(a >> 1) # Right Shift: 5 (0101 in binary)\n",
    "6. Membership Operators\n",
    "Membership operators are used to test if a sequence is present in an object.\n",
    "\n",
    "in: Returns True if a sequence with the specified value is present in the object.\n",
    "not in: Returns True if a sequence with the specified value is not present in the object.\n",
    "\n",
    "x = [\"apple\", \"banana\", \"cherry\"]\n",
    "\n",
    "print(\"banana\" in x)      # True\n",
    "print(\"grape\" not in x)   # True\n",
    "7. Identity Operators\n",
    "Identity operators are used to compare the memory locations of two objects.\n",
    "\n",
    "is: Returns True if both variables are the same object.\n",
    "is not: Returns True if both variables are not the same object.\n",
    "\n",
    "x = [\"apple\", \"banana\", \"cherry\"]\n",
    "y = [\"apple\", \"banana\", \"cherry\"]\n",
    "z = x\n",
    "\n",
    "print(x is z)      # True\n",
    "print(x is y)      # False\n",
    "print(x == y)      # True\n",
    "print(x is not y)  # True\n",
    "print(x != y)      # False\n",
    "Summary of Operators\n",
    "Arithmetic Operators perform mathematical operations.\n",
    "Comparison Operators compare two values and return a boolean.\n",
    "Logical Operators combine conditional statements.\n",
    "Assignment Operators assign and modify the value of a variable.\n",
    "Bitwise Operators perform operations on binary representations of numbers.\n",
    "Membership Operators test if a value or variable is found in a sequence.\n",
    "Identity Operators compare the memory locations of two objects."
   ]
  },
  {
   "cell_type": "code",
   "execution_count": null,
   "id": "ca68cdbb-d6c5-4e83-8104-97ae4dfaf272",
   "metadata": {},
   "outputs": [],
   "source": [
    "1. Defining a Function\n",
    "A function is defined using the def keyword, followed by the function name and parentheses (). Any parameters should be placed within the parentheses. The function body starts with a colon : and is indented.\n",
    "\n",
    "2. Calling a Function\n",
    "A function is called by using its name followed by parentheses. If the function requires arguments, they are passed within the parentheses.\n",
    "\n",
    "3. Function Parameters\n",
    "Functions can take parameters (arguments) to provide additional information. Parameters are specified within the parentheses in the function definition.\n",
    "\n",
    "4. Default Parameters\n",
    "Default parameters allow you to specify default values for parameters. If no argument is provided, the default value is used.\n",
    "\n",
    "5. Return Statement\n",
    "The return statement is used to exit a function and return a value to the caller. A function can return any type of value.\n",
    "\n",
    "6. Variable Scope\n",
    "\n",
    "Local Variables: Variables declared inside a function are local to that function and cannot be accessed outside of it.\n",
    "Global Variables: Variables declared outside of all functions are global and can be accessed from any part of the program.\n",
    "7. Global Keyword\n",
    "To modify a global variable inside a function, use the global keyword.\n",
    "\n",
    "8. Function with Variable-Length Arguments\n",
    "Functions can accept a variable number of arguments using *args for non-keyword arguments and **kwargs for keyword arguments.\n",
    "\n",
    "*args: Allows a function to accept any number of positional arguments.\n",
    "**kwargs: Allows a function to accept any number of keyword arguments.\n",
    "\n",
    "                                                                                                 "
   ]
  },
  {
   "cell_type": "code",
   "execution_count": 5,
   "id": "a0172178-234c-40aa-88ff-c7d55426c132",
   "metadata": {},
   "outputs": [
    {
     "name": "stdout",
     "output_type": "stream",
     "text": [
      "<class 'int'> <class 'float'>\n"
     ]
    }
   ],
   "source": [
    "# variable\n",
    "# = is an assignment operator\n",
    "\n",
    "# Types of variable \n",
    "# Integer\n",
    "a = 12 # integer\n",
    "b = 12.45 # float\n",
    "print (type(a),type(b))"
   ]
  },
  {
   "cell_type": "code",
   "execution_count": 6,
   "id": "429fae49-5b80-46b1-b281-acea18be2570",
   "metadata": {},
   "outputs": [
    {
     "name": "stdout",
     "output_type": "stream",
     "text": [
      "This is a class <class 'str'>\n"
     ]
    }
   ],
   "source": [
    "# String\n",
    "\n",
    "str = 'This is a class'\n",
    "print (str,type(str))"
   ]
  },
  {
   "cell_type": "code",
   "execution_count": 8,
   "id": "9ab77fb2-178a-4441-8565-65d361273d86",
   "metadata": {},
   "outputs": [
    {
     "name": "stdout",
     "output_type": "stream",
     "text": [
      "True\n"
     ]
    }
   ],
   "source": [
    "# boolean\n",
    "\n",
    "bool_test = True\n",
    "print (bool_test)"
   ]
  },
  {
   "cell_type": "code",
   "execution_count": 11,
   "id": "952cf709-d646-4a5e-8f81-b2a1bfd003c8",
   "metadata": {},
   "outputs": [
    {
     "name": "stdout",
     "output_type": "stream",
     "text": [
      "<class 'NoneType'> None\n"
     ]
    }
   ],
   "source": [
    "#\n",
    "test = None\n",
    "print (type(test),test)"
   ]
  },
  {
   "cell_type": "code",
   "execution_count": 20,
   "id": "766710ae-beb9-4abf-b4a9-814f10b813db",
   "metadata": {},
   "outputs": [
    {
     "name": "stdout",
     "output_type": "stream",
     "text": [
      "[2, 'ast', 2.6, None] <class 'list'>\n",
      "(1, 3, 4, 5, 'tst') <class 'tuple'>\n",
      "{'name': 'Roy', 'age': 24, 'gender': 'Male', 'enrolled': True, 'weight': 45.78} <class 'dict'>\n",
      "{1, 3, 4, 5, 'tst'} <class 'set'>\n"
     ]
    }
   ],
   "source": [
    "# collection\n",
    "\n",
    "#list  -  it is part of collection\n",
    "# these are mutable -  its values can be changed\n",
    "# i.e group/ collection of different primitive data types\n",
    "lst = [2,'ast',2.6,None]\n",
    "\n",
    "print (lst,type(lst))\n",
    "\n",
    "# tuple\n",
    "# these are immutable\n",
    "# servers output data generally are in tuples\n",
    "tpl = (1,3,4,5,'tst')\n",
    "print (tpl, type(tpl))\n",
    "# difference between tuple and list\n",
    "    # tuple are immutable and list are mutable\n",
    "# dictionaries -\n",
    "# key value based datatype\n",
    "dct = {\n",
    "    'name': 'Roy',\n",
    "    'age' : 24,\n",
    "    'gender': 'Male',\n",
    "    'enrolled': True,\n",
    "    'weight': 45.78\n",
    "}\n",
    "print (dct,type(dct))\n",
    "# json is generated from dictionaries\n",
    "# set\n",
    "# set would contain only the distict values\n",
    "set_exp = {1,1,1,1,1, 3, 4, 4, 5, 'tst'}\n",
    "print (set_exp,type(set_exp))"
   ]
  },
  {
   "cell_type": "code",
   "execution_count": null,
   "id": "f9cf8702-e933-419a-8529-105a650daa5a",
   "metadata": {},
   "outputs": [],
   "source": [
    "# operators"
   ]
  },
  {
   "cell_type": "code",
   "execution_count": null,
   "id": "8af81795-9f34-4776-a17e-9a0e53a6177e",
   "metadata": {},
   "outputs": [],
   "source": [
    "# int + int = int\n",
    "# int + float = float\n",
    "# int +"
   ]
  },
  {
   "cell_type": "code",
   "execution_count": 35,
   "id": "30e252f8-e529-4dc5-a816-1b58760ff14f",
   "metadata": {},
   "outputs": [
    {
     "ename": "SyntaxError",
     "evalue": "invalid syntax (3741105632.py, line 9)",
     "output_type": "error",
     "traceback": [
      "\u001b[0;36m  Cell \u001b[0;32mIn[35], line 9\u001b[0;36m\u001b[0m\n\u001b[0;31m    print (a += 5)\u001b[0m\n\u001b[0m             ^\u001b[0m\n\u001b[0;31mSyntaxError\u001b[0m\u001b[0;31m:\u001b[0m invalid syntax\n"
     ]
    }
   ],
   "source": [
    "#arithmetic operators\n",
    "a = 10\n",
    "b = 5\n",
    "print (a,b)\n",
    "# ** - to give the power\n",
    "# % - to give the remainder\n",
    "\n",
    "print (a + b,a - b,a * b,a ** b,a / b,a % b,a // b)\n",
    "# print (a = 5) == a= a+5"
   ]
  },
  {
   "cell_type": "code",
   "execution_count": null,
   "id": "1c2178fc-465e-44b4-91c5-c5b592bc6544",
   "metadata": {},
   "outputs": [],
   "source": [
    "Equal (==): Returns True if both operands are equal.\n",
    "Not Equal (!=): Returns True if operands are not equal.\n",
    "Greater Than (>): Returns True if the first operand is greater than the second.\n",
    "Less Than (<): Returns True if the first operand is less than the second.\n",
    "Greater Than or Equal To (>=): Returns True if the first operand is greater than or equal to the second.\n",
    "Less Than or Equal To (<=): Returns True if the first operand is less than or equal to the second."
   ]
  },
  {
   "cell_type": "code",
   "execution_count": 29,
   "id": "4c9363b1-4445-42b1-b78e-2dcced600112",
   "metadata": {},
   "outputs": [],
   "source": [
    "a = 10\n",
    "b = 2.5\n",
    "c = 'test'\n",
    "d = 'test1'\n",
    "e = True # True or False\n",
    "f = None\n",
    "g = 12"
   ]
  },
  {
   "cell_type": "code",
   "execution_count": 42,
   "id": "2e6069ea-4341-4601-be43-0e8a95aae684",
   "metadata": {},
   "outputs": [
    {
     "ename": "TypeError",
     "evalue": "unsupported operand type(s) for +: 'int' and 'str'",
     "output_type": "error",
     "traceback": [
      "\u001b[0;31m---------------------------------------------------------------------------\u001b[0m",
      "\u001b[0;31mTypeError\u001b[0m                                 Traceback (most recent call last)",
      "Cell \u001b[0;32mIn[42], line 1\u001b[0m\n\u001b[0;32m----> 1\u001b[0m \u001b[38;5;28mprint\u001b[39m (a \u001b[38;5;241m+\u001b[39m c)\n",
      "\u001b[0;31mTypeError\u001b[0m: unsupported operand type(s) for +: 'int' and 'str'"
     ]
    }
   ],
   "source": [
    "print (a + c)"
   ]
  },
  {
   "cell_type": "code",
   "execution_count": 41,
   "id": "299568ae-4131-47a3-80d2-0f135aea2f3b",
   "metadata": {},
   "outputs": [
    {
     "name": "stdout",
     "output_type": "stream",
     "text": [
      "True False True True False True\n",
      "True\n"
     ]
    }
   ],
   "source": [
    "# a == 12,\n",
    "a > g, a > 12,e != False, a>=g , a<=g \n",
    "print (a == 10, a > g, a < 12,e != False, a >= g , a <=g)\n",
    "\n",
    "print ((False !=  True))"
   ]
  },
  {
   "cell_type": "code",
   "execution_count": null,
   "id": "1509c363-2feb-4415-9e52-407e07e7387e",
   "metadata": {},
   "outputs": [],
   "source": [
    "# Logical operators\n",
    "# And (and): Returns True if both statements are true.\n",
    "# Or (or): Returns True if at least one of the statements is true.\n",
    "# Not (not): Reverses the result, returns False if the result is true."
   ]
  },
  {
   "cell_type": "code",
   "execution_count": 44,
   "id": "0e96763a-6556-4759-a3d6-ab17ed49ae61",
   "metadata": {},
   "outputs": [
    {
     "name": "stdout",
     "output_type": "stream",
     "text": [
      "False True True\n"
     ]
    }
   ],
   "source": [
    "# Boolean and boolean\n",
    "print (False and True,False or True, not False)"
   ]
  },
  {
   "cell_type": "code",
   "execution_count": 54,
   "id": "fcfb6113-f307-4f6c-b07b-9da4d0167c62",
   "metadata": {},
   "outputs": [],
   "source": [
    "# \n",
    "a = 25\n",
    "b = 12\n",
    "# print a and b are divisible by 5 or not  as TRUE or FALSE\n",
    "# print TRUE if either a or b is divisble by 5"
   ]
  },
  {
   "cell_type": "code",
   "execution_count": 57,
   "id": "9fe3569c-0da9-4f36-ba89-dcd029438458",
   "metadata": {},
   "outputs": [
    {
     "name": "stdout",
     "output_type": "stream",
     "text": [
      "0\n",
      "True\n",
      "False\n",
      "False\n",
      "True\n"
     ]
    }
   ],
   "source": [
    "print (a%5)# arithmetic operator\n",
    "# this means the remainder is 0\n",
    "print (a%5 == 0)# comparison operator\n",
    "print (b%5 == 0)# comparison operator\n",
    "# print (True and False)\n",
    "print ((a%5 == 0) and (b%5 == 0))\n",
    "print ((a%5 == 0) or (b%5 == 0))"
   ]
  },
  {
   "cell_type": "code",
   "execution_count": 59,
   "id": "c0d0f6b9-e496-4e6d-ace4-35c03cd0866d",
   "metadata": {},
   "outputs": [
    {
     "name": "stdout",
     "output_type": "stream",
     "text": [
      "4\n",
      "5\n",
      "1\n",
      "-5\n",
      "8\n",
      "2\n"
     ]
    }
   ],
   "source": [
    "# bitwise operator\n",
    "a = 10  # 1010 in binary\n",
    "b = 4   # 0100 in binary\n",
    "\n",
    "print(a & b)  # AND: 0 (0000 in binary)\n",
    "print(a | b)  # OR: 14 (1110 in binary)\n",
    "print(a ^ b)  # XOR: 14 (1110 in binary)\n",
    "print(~a)     # NOT: -11 (invert all bits)\n",
    "print(a << 1) # Left Shift: 20 (10100 in binary)\n",
    "print(a >> 1) # Right Shift: 5 (0101 in binary)"
   ]
  },
  {
   "cell_type": "code",
   "execution_count": null,
   "id": "3ac7cc2d-4272-4d93-9ba4-a0f91acb5679",
   "metadata": {},
   "outputs": [],
   "source": [
    "# membership operators\n",
    "# in \n",
    "# not in"
   ]
  },
  {
   "cell_type": "code",
   "execution_count": 189,
   "id": "352b55a1-f938-4aa6-b6ab-74abe59dc773",
   "metadata": {},
   "outputs": [],
   "source": [
    "x = [\"apple\", \"banana\", \"cherry\"]"
   ]
  },
  {
   "cell_type": "code",
   "execution_count": 191,
   "id": "6959ac84-f80d-4734-987e-e505bc918dfb",
   "metadata": {},
   "outputs": [
    {
     "data": {
      "text/plain": [
       "False"
      ]
     },
     "execution_count": 191,
     "metadata": {},
     "output_type": "execute_result"
    }
   ],
   "source": [
    "'apple' not in x"
   ]
  },
  {
   "cell_type": "code",
   "execution_count": 78,
   "id": "20e6ddee-7ad6-4c63-ba60-d031c10481af",
   "metadata": {},
   "outputs": [
    {
     "name": "stdout",
     "output_type": "stream",
     "text": [
      "4358950848 4372676352 4358950848\n",
      "True\n",
      "['apple', 'banana', 'cherry'] ['apple', 'banana', 'cherry']\n",
      "False\n",
      "True\n",
      "True\n",
      "False\n"
     ]
    }
   ],
   "source": [
    "x = [\"apple\", \"banana\", \"cherry\"]\n",
    "y = [\"apple\", \"banana\", \"cherry\"]\n",
    "z = x\n",
    "print (id(x),id(y),id(z)) # memory location of variables\n",
    "print(x is z)      # True\n",
    "# x[2] = 'choryy'\n",
    "print (x,z)\n",
    "print(x is y)      # False\n",
    "print(x == y)      # True\n",
    "print(x is not y)  # True\n",
    "print(x != y) "
   ]
  },
  {
   "cell_type": "code",
   "execution_count": 80,
   "id": "35b0da7d-65f6-4775-bb10-861394470209",
   "metadata": {},
   "outputs": [
    {
     "name": "stdin",
     "output_type": "stream",
     "text": [
      "Enter your name test\n"
     ]
    }
   ],
   "source": [
    "# runtime variable assignment\n",
    "name = input(\"Enter your name\")"
   ]
  },
  {
   "cell_type": "code",
   "execution_count": 88,
   "id": "f9e6a8b4-19c3-408d-b3e6-a151e4d83451",
   "metadata": {},
   "outputs": [
    {
     "name": "stdin",
     "output_type": "stream",
     "text": [
      "Enter your age 76.4\n"
     ]
    }
   ],
   "source": [
    "weight = input(\"Enter your age\")"
   ]
  },
  {
   "cell_type": "code",
   "execution_count": 89,
   "id": "a80858e2-a80e-408f-9cd2-054a24de252b",
   "metadata": {},
   "outputs": [
    {
     "name": "stdout",
     "output_type": "stream",
     "text": [
      "23.6 <class 'str'>\n"
     ]
    }
   ],
   "source": [
    "print (name,type(name))"
   ]
  },
  {
   "cell_type": "code",
   "execution_count": 93,
   "id": "c35f96cb-7506-4668-8ac0-dd6ee33dbd71",
   "metadata": {},
   "outputs": [
    {
     "name": "stdout",
     "output_type": "stream",
     "text": [
      "76.4 <class 'str'>\n"
     ]
    }
   ],
   "source": [
    "print (weight,type(weight))"
   ]
  },
  {
   "cell_type": "code",
   "execution_count": 108,
   "id": "cd3bc065-c813-4073-a688-adbfda38f91a",
   "metadata": {},
   "outputs": [
    {
     "name": "stdout",
     "output_type": "stream",
     "text": [
      "<class 'float'>\n",
      "76\n"
     ]
    }
   ],
   "source": [
    "# explicit conversion of datatype\n",
    "print (type(float(weight))) "
   ]
  },
  {
   "cell_type": "code",
   "execution_count": 97,
   "id": "1fe33615-f8d9-40a4-8232-6ca012622400",
   "metadata": {},
   "outputs": [],
   "source": [
    "a= 5"
   ]
  },
  {
   "cell_type": "code",
   "execution_count": 109,
   "id": "c6a33e4d-ef62-4657-87f9-33510d618f03",
   "metadata": {},
   "outputs": [],
   "source": [
    "b=5.5\n",
    "s = 'test'"
   ]
  },
  {
   "cell_type": "code",
   "execution_count": 105,
   "id": "5cbd33e5-a1cf-4e0d-b513-0db870448f34",
   "metadata": {},
   "outputs": [
    {
     "data": {
      "text/plain": [
       "float"
      ]
     },
     "execution_count": 105,
     "metadata": {},
     "output_type": "execute_result"
    }
   ],
   "source": [
    "type(float(a)+b)"
   ]
  },
  {
   "cell_type": "code",
   "execution_count": 113,
   "id": "ea861f79-4d38-4f2b-92b3-5ee071dc70cd",
   "metadata": {},
   "outputs": [
    {
     "data": {
      "text/plain": [
       "7"
      ]
     },
     "execution_count": 113,
     "metadata": {},
     "output_type": "execute_result"
    }
   ],
   "source": [
    "int('7')"
   ]
  },
  {
   "cell_type": "code",
   "execution_count": null,
   "id": "65e40d93-19f3-4bc6-902d-97cc6e067720",
   "metadata": {},
   "outputs": [],
   "source": [
    "# write a program to \n",
    "#take username and age from user and then add 15 to the age entered by the user"
   ]
  },
  {
   "cell_type": "code",
   "execution_count": 124,
   "id": "f510559d-0d20-48cf-9189-9a4c086b9ec4",
   "metadata": {},
   "outputs": [],
   "source": [
    "a = 5\n",
    "p = 4"
   ]
  },
  {
   "cell_type": "code",
   "execution_count": 125,
   "id": "4c94d77e-56fd-4ffa-bef3-dfdb4f1859f4",
   "metadata": {},
   "outputs": [
    {
     "name": "stdout",
     "output_type": "stream",
     "text": [
      "4\n"
     ]
    }
   ],
   "source": [
    "a = 8\n",
    "print (p)"
   ]
  },
  {
   "cell_type": "code",
   "execution_count": 119,
   "id": "002a9f83-9735-4f5f-9ea9-99a244213432",
   "metadata": {},
   "outputs": [
    {
     "name": "stdin",
     "output_type": "stream",
     "text": [
      "enter username ad\n",
      "enter age 45\n"
     ]
    }
   ],
   "source": [
    "# dynamic assignment of variable\n",
    "    # variable assignment would be done \n",
    "username = input(\"enter username\")\n",
    "age = input(\"enter age\")\n",
    "\n",
    "# operations\n",
    "    # explicit type comversion: int(age)\n",
    "    # arithmetic operation on int(age) + 15\n",
    "    # assignment operation on age = int(age) + 15\n",
    "\n",
    "age = int(age) +15\n",
    "\n",
    "print (username,age)"
   ]
  },
  {
   "cell_type": "code",
   "execution_count": 133,
   "id": "7ee8a83c-476b-4d38-ae1a-31fbfc87eaab",
   "metadata": {},
   "outputs": [
    {
     "name": "stdout",
     "output_type": "stream",
     "text": [
      "4304844136 4304844136 4304844136\n",
      "5 5 5\n",
      "15 5 5\n",
      "4304844456 4304844136 4304844136\n",
      "4304844456 4304844136 4304845768\n"
     ]
    }
   ],
   "source": [
    "# another way of assignment of mulitple values at once\n",
    "# note it all would point to the same memory location\n",
    "# untill a variable's value is changed\n",
    "# once the value is changed the variables memory location is changed\n",
    "a = b = c = 5\n",
    "print (id(a),id(b),id(c))\n",
    "# a = b =7\n",
    "print (a,b,c)\n",
    "a = 15\n",
    "print (a,b,c)\n",
    "\n",
    "print (id(a),id(b),id(c))\n",
    "c = 56\n",
    "print (id(a),id(b),id(c))"
   ]
  },
  {
   "cell_type": "code",
   "execution_count": 115,
   "id": "1cec1900-3952-4666-9e4c-7f11b2e38655",
   "metadata": {},
   "outputs": [
    {
     "name": "stdout",
     "output_type": "stream",
     "text": [
      "5 5 5 4304844136 4304844136 4304844136\n"
     ]
    }
   ],
   "source": [
    "print (a,b,c,id(a),id(b),id(c))"
   ]
  },
  {
   "cell_type": "code",
   "execution_count": 134,
   "id": "a6ef1a57-28ec-45a4-a62d-6054f738a142",
   "metadata": {},
   "outputs": [
    {
     "name": "stdout",
     "output_type": "stream",
     "text": [
      "1 1 1 4304844008 4304844008 4304844008\n"
     ]
    }
   ],
   "source": [
    "a,b,c = 1,1,1\n",
    "print (a,b,c,id(a),id(b),id(c))"
   ]
  },
  {
   "cell_type": "code",
   "execution_count": 136,
   "id": "afd771b8-5485-4691-9b45-7f78298f3df3",
   "metadata": {},
   "outputs": [
    {
     "name": "stdout",
     "output_type": "stream",
     "text": [
      "7 7 4304844200 4304844200\n",
      "14 7 4304844424 4304844200\n"
     ]
    }
   ],
   "source": [
    "a = 7\n",
    "b = 7\n",
    "print (a,b,id(a),id(b))\n",
    "a = 14\n",
    "print (a,b,id(a),id(b))"
   ]
  },
  {
   "cell_type": "code",
   "execution_count": null,
   "id": "e7c01fe6-d8dd-42ea-988f-e1bd17c6a353",
   "metadata": {},
   "outputs": [],
   "source": [
    "# functions"
   ]
  },
  {
   "cell_type": "code",
   "execution_count": 137,
   "id": "75b63b88-2a39-47fc-a8cc-4c4634fce549",
   "metadata": {},
   "outputs": [],
   "source": [
    "# are the code blocks which can be used to perform a task\n",
    "# functions helps to create resusable code which can be used again and again in the code"
   ]
  },
  {
   "cell_type": "code",
   "execution_count": 139,
   "id": "6e09957e-f4ca-477f-9b02-9585efd17b88",
   "metadata": {},
   "outputs": [],
   "source": [
    "# syntax\n",
    "# def <function_name> (<paramete list>):\n",
    "#     <function body>\n",
    "#     return <return value>;"
   ]
  },
  {
   "cell_type": "code",
   "execution_count": 160,
   "id": "2d168606-cff9-4bcf-8b9c-f27337ed39d5",
   "metadata": {},
   "outputs": [],
   "source": [
    "test_global = 30 # global variable\n",
    "\n",
    "def sum_ret(var1,var2):\n",
    "    # this is function scope start\n",
    "        # any variable defined within the scope would not have access outside the finction scope\n",
    "    local_var = var1 + var2\n",
    "    test_local = 12\n",
    "    print (\"inside\",test_local)\n",
    "    # print(var1,var2,c)\n",
    "    print (test_global) # accessing the global variable inside the function scope\n",
    "    # function scope ends here after the return\n",
    "    return local_var"
   ]
  },
  {
   "cell_type": "code",
   "execution_count": 161,
   "id": "0dd46d18-acdc-45c8-a6d6-0b054b2383b0",
   "metadata": {},
   "outputs": [
    {
     "name": "stdout",
     "output_type": "stream",
     "text": [
      "inside 12\n",
      "30\n"
     ]
    }
   ],
   "source": [
    "# function calling\n",
    "result = sum_ret(12,13)"
   ]
  },
  {
   "cell_type": "code",
   "execution_count": 192,
   "id": "4f07bcff-e430-4b59-8d2b-7f8fd259d406",
   "metadata": {},
   "outputs": [
    {
     "ename": "NameError",
     "evalue": "name 'local_var' is not defined",
     "output_type": "error",
     "traceback": [
      "\u001b[0;31m---------------------------------------------------------------------------\u001b[0m",
      "\u001b[0;31mNameError\u001b[0m                                 Traceback (most recent call last)",
      "Cell \u001b[0;32mIn[192], line 2\u001b[0m\n\u001b[1;32m      1\u001b[0m \u001b[38;5;66;03m# test local would not have \u001b[39;00m\n\u001b[0;32m----> 2\u001b[0m \u001b[38;5;28mprint\u001b[39m (local_var)\n",
      "\u001b[0;31mNameError\u001b[0m: name 'local_var' is not defined"
     ]
    }
   ],
   "source": [
    "# test local would not have \n",
    "print (local_var)"
   ]
  },
  {
   "cell_type": "code",
   "execution_count": null,
   "id": "9f7c4d6b-6f54-4bd8-9a78-62ad911de519",
   "metadata": {},
   "outputs": [],
   "source": [
    "# scope\n",
    "# existence of any variable is defined by scope\n"
   ]
  },
  {
   "cell_type": "code",
   "execution_count": 144,
   "id": "e7ea064b-84fc-4d6b-ade4-87a75368b3bc",
   "metadata": {},
   "outputs": [
    {
     "name": "stdout",
     "output_type": "stream",
     "text": [
      "3 5 8\n"
     ]
    },
    {
     "data": {
      "text/plain": [
       "8"
      ]
     },
     "execution_count": 144,
     "metadata": {},
     "output_type": "execute_result"
    }
   ],
   "source": [
    "sum_ret(3,5)"
   ]
  },
  {
   "cell_type": "code",
   "execution_count": null,
   "id": "4db48125-7e1b-465e-b819-c7232fe45477",
   "metadata": {},
   "outputs": [],
   "source": [
    "# write a program to calculate addition substraction division for 2 numbers taken from user\n",
    "# inside a finction calculate all these values and print inside the function"
   ]
  },
  {
   "cell_type": "code",
   "execution_count": 182,
   "id": "b82a8c93-c696-406b-af6d-a0412aed6e6e",
   "metadata": {},
   "outputs": [],
   "source": [
    "def calculator(a,b):\n",
    "    result_sum = a+b\n",
    "    result_sub = a-b\n",
    "    result_mul = a*b\n",
    "    result_div = a/b\n",
    "    # print (result_sum,result_sub,result_mul,result_div)\n",
    "    return result_sum,result_sub,result_mul,result_div,a,b"
   ]
  },
  {
   "cell_type": "code",
   "execution_count": 175,
   "id": "74f282a7-fa10-4569-ac6b-e60c5968f63b",
   "metadata": {},
   "outputs": [
    {
     "name": "stdout",
     "output_type": "stream",
     "text": [
      "<class 'list'>\n"
     ]
    }
   ],
   "source": [
    "print (type(calculator(15,20)))"
   ]
  },
  {
   "cell_type": "code",
   "execution_count": 178,
   "id": "b9afbe1e-3538-45c7-a6a4-d78c1ece2da3",
   "metadata": {},
   "outputs": [
    {
     "data": {
      "text/plain": [
       "(34, -6, 280, 0.7)"
      ]
     },
     "execution_count": 178,
     "metadata": {},
     "output_type": "execute_result"
    }
   ],
   "source": [
    "calculator(14,20)"
   ]
  },
  {
   "cell_type": "code",
   "execution_count": 183,
   "id": "46292f92-ad98-45c4-bfa2-bdad3b47d0bf",
   "metadata": {},
   "outputs": [],
   "source": [
    "# result_sum,result_sub,result_mul,result_div,a,b\n",
    "result_sum,result_sub,result_mul,result_div,a,b = calculator(15,20)"
   ]
  },
  {
   "cell_type": "code",
   "execution_count": 193,
   "id": "16643a21-fc5b-463a-8854-d915163428b0",
   "metadata": {},
   "outputs": [
    {
     "name": "stdout",
     "output_type": "stream",
     "text": [
      "35\n"
     ]
    }
   ],
   "source": [
    "a += 4\n",
    "print (a)"
   ]
  }
 ],
 "metadata": {
  "kernelspec": {
   "display_name": "Python 3 (ipykernel)",
   "language": "python",
   "name": "python3"
  },
  "language_info": {
   "codemirror_mode": {
    "name": "ipython",
    "version": 3
   },
   "file_extension": ".py",
   "mimetype": "text/x-python",
   "name": "python",
   "nbconvert_exporter": "python",
   "pygments_lexer": "ipython3",
   "version": "3.11.7"
  }
 },
 "nbformat": 4,
 "nbformat_minor": 5
}
