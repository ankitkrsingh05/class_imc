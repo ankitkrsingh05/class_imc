{
 "cells": [
  {
   "cell_type": "code",
   "execution_count": null,
   "id": "ce874587-ccfa-4b13-afb1-d5d54af3f215",
   "metadata": {},
   "outputs": [],
   "source": [
    "#Plan for the day\n",
    "## Variables\n",
    "## Operators\n",
    "## Functions\n",
    "## input\n",
    "## questions--\n",
    "## Flow Control\n",
    "## Condition statements\n",
    "## Loops"
   ]
  },
  {
   "cell_type": "code",
   "execution_count": null,
   "id": "9543d8d3-3916-4ec7-a038-3119b97a5f7c",
   "metadata": {},
   "outputs": [],
   "source": []
  },
  {
   "cell_type": "code",
   "execution_count": null,
   "id": "4eed3348-32a0-4df5-9e0d-f5c7002b3012",
   "metadata": {},
   "outputs": [],
   "source": [
    "What are Variables?\n",
    "Variables are containers for storing data values. In Python, variables are created when you assign a value to them.\n",
    "\n",
    "Naming Conventions:\n",
    "\n",
    "Variable names can contain letters, digits, and underscores (_).\n",
    "Variable names must start with a letter or an underscore.\n",
    "Variable names are case-sensitive (age, Age, and AGE are different variables).\n",
    "Variable names should be descriptive and follow the snake_case naming convention.\n",
    "    \n",
    "Assigning Values to Variables:\n",
    "Python uses the = operator to assign values to variables. The type of the variable is determined dynamically based on the value assigned to it.\n",
    "# Assigning values to variables\n",
    "name = \"Alice\"\n",
    "age = 25\n",
    "height = 5.7\n",
    "is_student = True\n",
    "Variable Types:\n",
    "Python variables can hold different types of data. The most commonly used data types include:\n",
    "\n",
    "Numbers:\n",
    "Integers: Whole numbers, e.g., int, long (Python 2 only)\n",
    "Floats: Decimal numbers, e.g., float\n",
    "Complex: Complex numbers, e.g., complex\n",
    "\n",
    "# Number variables\n",
    "int_var = 10\n",
    "float_var = 3.14\n",
    "complex_var = 1 + 2j\n",
    "Strings:\n",
    "Strings are sequences of characters, enclosed in single, double, or triple quotes.\n",
    "\n",
    "# String variables\n",
    "str_var1 = 'Hello'\n",
    "str_var2 = \"World\"\n",
    "str_var3 = '''Triple quoted string can span multiple lines.'''\n",
    "Booleans:\n",
    "Booleans represent one of two values: True or False.\n",
    "\n",
    "# Boolean variables\n",
    "bool_var1 = True\n",
    "bool_var2 = False\n",
    "Lists:\n",
    "Lists are ordered, mutable collections of items.\n",
    "\n",
    "# List variable\n",
    "list_var = [1, 2, 3, 'four', 5.0]\n",
    "Tuples:\n",
    "Tuples are ordered, immutable collections of items.\n",
    "\n",
    "# Tuple variable\n",
    "tuple_var = (1, 2, 3, 'four', 5.0)\n",
    "Dictionaries:\n",
    "Dictionaries are unordered collections of key-value pairs.\n",
    "\n",
    "# Dictionary variable\n",
    "dict_var = {'name': 'Alice', 'age': 25, 'height': 5.7}\n",
    "\n",
    "# set\n",
    "Sets:\n",
    "Sets are unordered collections of unique items.\n",
    "\n",
    "# Set variable\n",
    "set_var = {1, 2, 3, 4, 5}"
   ]
  },
  {
   "cell_type": "code",
   "execution_count": null,
   "id": "3af16141-bfeb-40b5-bfb0-82ef36d54df8",
   "metadata": {},
   "outputs": [],
   "source": []
  },
  {
   "cell_type": "code",
   "execution_count": null,
   "id": "b5e97e36-5e0a-4f76-ac38-5eba8d7dbae8",
   "metadata": {},
   "outputs": [],
   "source": []
  },
  {
   "cell_type": "code",
   "execution_count": null,
   "id": "d2434540-47dd-4dd8-8306-f8ddb6b7a52b",
   "metadata": {},
   "outputs": [],
   "source": []
  },
  {
   "cell_type": "code",
   "execution_count": null,
   "id": "6ed5d3a8-7b5d-49b5-b989-7d49e142363e",
   "metadata": {},
   "outputs": [],
   "source": [
    "Operators in Python are special symbols that perform operations on variables and values. Python supports a variety of operators, categorized into different types based on their functionality.\n",
    "\n",
    "1. Arithmetic Operators\n",
    "Arithmetic operators are used to perform mathematical operations.\n",
    "\n",
    "Addition (+): Adds two operands.\n",
    "Subtraction (-): Subtracts the second operand from the first.\n",
    "Multiplication (*): Multiplies two operands.\n",
    "Division (/): Divides the first operand by the second.\n",
    "Modulus (%): Returns the remainder when the first operand is divided by the second.\n",
    "Exponentiation (**): Raises the first operand to the power of the second.\n",
    "Floor Division (//): Divides the first operand by the second and returns the largest integer less than or equal to the result.\n",
    "\n",
    "a = 10\n",
    "b = 3\n",
    "\n",
    "print(a + b)  # Addition: 13\n",
    "print(a - b)  # Subtraction: 7\n",
    "print(a * b)  # Multiplication: 30\n",
    "print(a / b)  # Division: 3.3333333333333335\n",
    "print(a % b)  # Modulus: 1\n",
    "print(a ** b) # Exponentiation: 1000\n",
    "print(a // b) # Floor Division: 3\n",
    "2. Comparison Operators\n",
    "Comparison operators are used to compare two values. They return a boolean value (True or False).\n",
    "\n",
    "Equal (==): Returns True if both operands are equal.\n",
    "Not Equal (!=): Returns True if operands are not equal.\n",
    "Greater Than (>): Returns True if the first operand is greater than the second.\n",
    "Less Than (<): Returns True if the first operand is less than the second.\n",
    "Greater Than or Equal To (>=): Returns True if the first operand is greater than or equal to the second.\n",
    "Less Than or Equal To (<=): Returns True if the first operand is less than or equal to the second.\n",
    "\n",
    "a = 10\n",
    "b = 3\n",
    "\n",
    "print(a == b)  # Equal: False\n",
    "print(a != b)  # Not Equal: True\n",
    "print(a > b)   # Greater Than: True\n",
    "print(a < b)   # Less Than: False\n",
    "print(a >= b)  # Greater Than or Equal To: True\n",
    "print(a <= b)  # Less Than or Equal To: False\n",
    "3. Logical Operators\n",
    "Logical operators are used to combine conditional statements.\n",
    "\n",
    "And (and): Returns True if both statements are true.\n",
    "Or (or): Returns True if at least one of the statements is true.\n",
    "Not (not): Reverses the result, returns False if the result is true.\n",
    "\n",
    "a = True\n",
    "b = False\n",
    "\n",
    "print(a and b) # And: False\n",
    "print(a or b)  # Or: True\n",
    "print(not a)   # Not: False\n",
    "4. Assignment Operators\n",
    "Assignment operators are used to assign values to variables.\n",
    "\n",
    "Assignment (=): Assigns a value to a variable.\n",
    "Add and Assign (+=): Adds and assigns the value.\n",
    "Subtract and Assign (-=): Subtracts and assigns the value.\n",
    "Multiply and Assign (*=): Multiplies and assigns the value.\n",
    "Divide and Assign (/=): Divides and assigns the value.\n",
    "Modulus and Assign (%=): Modulus and assigns the value.\n",
    "Exponentiation and Assign (**=): Exponentiation and assigns the value.\n",
    "Floor Division and Assign (//=): Floor division and assigns the value.\n",
    "\n",
    "a = 10\n",
    "b = 3\n",
    "\n",
    "a += b  # a = a + b\n",
    "print(a)  # 13\n",
    "\n",
    "a -= b  # a = a - b\n",
    "print(a)  # 10\n",
    "\n",
    "a *= b  # a = a * b\n",
    "print(a)  # 30\n",
    "\n",
    "a /= b  # a = a / b\n",
    "print(a)  # 10.0\n",
    "\n",
    "a %= b  # a = a % b\n",
    "print(a)  # 1.0\n",
    "\n",
    "a **= b  # a = a ** b\n",
    "print(a)  # 1.0\n",
    "\n",
    "a //= b  # a = a // b\n",
    "print(a)  # 0.0\n",
    "5. Bitwise Operators\n",
    "Bitwise operators are used to perform bit-level operations.\n",
    "\n",
    "AND (&): Sets each bit to 1 if both bits are 1.\n",
    "OR (|): Sets each bit to 1 if one of two bits is 1.\n",
    "XOR (^): Sets each bit to 1 if only one of two bits is 1.\n",
    "NOT (~): Inverts all the bits.\n",
    "Left Shift (<<): Shifts bits to the left.\n",
    "Right Shift (>>): Shifts bits to the right.\n",
    "\n",
    "a = 10  # 1010 in binary\n",
    "b = 4   # 0100 in binary\n",
    "\n",
    "print(a & b)  # AND: 0 (0000 in binary)\n",
    "print(a | b)  # OR: 14 (1110 in binary)\n",
    "print(a ^ b)  # XOR: 14 (1110 in binary)\n",
    "print(~a)     # NOT: -11 (invert all bits)\n",
    "print(a << 1) # Left Shift: 20 (10100 in binary)\n",
    "print(a >> 1) # Right Shift: 5 (0101 in binary)\n",
    "6. Membership Operators\n",
    "Membership operators are used to test if a sequence is present in an object.\n",
    "\n",
    "in: Returns True if a sequence with the specified value is present in the object.\n",
    "not in: Returns True if a sequence with the specified value is not present in the object.\n",
    "\n",
    "x = [\"apple\", \"banana\", \"cherry\"]\n",
    "\n",
    "print(\"banana\" in x)      # True\n",
    "print(\"grape\" not in x)   # True\n",
    "7. Identity Operators\n",
    "Identity operators are used to compare the memory locations of two objects.\n",
    "\n",
    "is: Returns True if both variables are the same object.\n",
    "is not: Returns True if both variables are not the same object.\n",
    "\n",
    "x = [\"apple\", \"banana\", \"cherry\"]\n",
    "y = [\"apple\", \"banana\", \"cherry\"]\n",
    "z = x\n",
    "\n",
    "print(x is z)      # True\n",
    "print(x is y)      # False\n",
    "print(x == y)      # True\n",
    "print(x is not y)  # True\n",
    "print(x != y)      # False\n",
    "Summary of Operators\n",
    "Arithmetic Operators perform mathematical operations.\n",
    "Comparison Operators compare two values and return a boolean.\n",
    "Logical Operators combine conditional statements.\n",
    "Assignment Operators assign and modify the value of a variable.\n",
    "Bitwise Operators perform operations on binary representations of numbers.\n",
    "Membership Operators test if a value or variable is found in a sequence.\n",
    "Identity Operators compare the memory locations of two objects."
   ]
  },
  {
   "cell_type": "code",
   "execution_count": null,
   "id": "ca68cdbb-d6c5-4e83-8104-97ae4dfaf272",
   "metadata": {},
   "outputs": [],
   "source": [
    "1. Defining a Function\n",
    "A function is defined using the def keyword, followed by the function name and parentheses (). Any parameters should be placed within the parentheses. The function body starts with a colon : and is indented.\n",
    "\n",
    "2. Calling a Function\n",
    "A function is called by using its name followed by parentheses. If the function requires arguments, they are passed within the parentheses.\n",
    "\n",
    "3. Function Parameters\n",
    "Functions can take parameters (arguments) to provide additional information. Parameters are specified within the parentheses in the function definition.\n",
    "\n",
    "4. Default Parameters\n",
    "Default parameters allow you to specify default values for parameters. If no argument is provided, the default value is used.\n",
    "\n",
    "5. Return Statement\n",
    "The return statement is used to exit a function and return a value to the caller. A function can return any type of value.\n",
    "\n",
    "6. Variable Scope\n",
    "\n",
    "Local Variables: Variables declared inside a function are local to that function and cannot be accessed outside of it.\n",
    "Global Variables: Variables declared outside of all functions are global and can be accessed from any part of the program.\n",
    "7. Global Keyword\n",
    "To modify a global variable inside a function, use the global keyword.\n",
    "\n",
    "8. Function with Variable-Length Arguments\n",
    "Functions can accept a variable number of arguments using *args for non-keyword arguments and **kwargs for keyword arguments.\n",
    "\n",
    "*args: Allows a function to accept any number of positional arguments.\n",
    "**kwargs: Allows a function to accept any number of keyword arguments.\n",
    "\n",
    "                                                                                                 "
   ]
  },
  {
   "cell_type": "code",
   "execution_count": 5,
   "id": "a0172178-234c-40aa-88ff-c7d55426c132",
   "metadata": {},
   "outputs": [
    {
     "name": "stdout",
     "output_type": "stream",
     "text": [
      "<class 'int'> <class 'float'>\n"
     ]
    }
   ],
   "source": [
    "# variable\n",
    "# = is an assignment operator\n",
    "\n",
    "# Types of variable \n",
    "# Integer\n",
    "a = 12 # integer\n",
    "b = 12.45 # float\n",
    "print (type(a),type(b))"
   ]
  },
  {
   "cell_type": "code",
   "execution_count": 6,
   "id": "429fae49-5b80-46b1-b281-acea18be2570",
   "metadata": {},
   "outputs": [
    {
     "name": "stdout",
     "output_type": "stream",
     "text": [
      "This is a class <class 'str'>\n"
     ]
    }
   ],
   "source": [
    "# String\n",
    "\n",
    "str = 'This is a class'\n",
    "print (str,type(str))"
   ]
  },
  {
   "cell_type": "code",
   "execution_count": 8,
   "id": "9ab77fb2-178a-4441-8565-65d361273d86",
   "metadata": {},
   "outputs": [
    {
     "name": "stdout",
     "output_type": "stream",
     "text": [
      "True\n"
     ]
    }
   ],
   "source": [
    "# boolean\n",
    "\n",
    "bool_test = True\n",
    "print (bool_test)"
   ]
  },
  {
   "cell_type": "code",
   "execution_count": 11,
   "id": "952cf709-d646-4a5e-8f81-b2a1bfd003c8",
   "metadata": {},
   "outputs": [
    {
     "name": "stdout",
     "output_type": "stream",
     "text": [
      "<class 'NoneType'> None\n"
     ]
    }
   ],
   "source": [
    "#\n",
    "test = None\n",
    "print (type(test),test)"
   ]
  },
  {
   "cell_type": "code",
   "execution_count": 20,
   "id": "766710ae-beb9-4abf-b4a9-814f10b813db",
   "metadata": {},
   "outputs": [
    {
     "name": "stdout",
     "output_type": "stream",
     "text": [
      "[2, 'ast', 2.6, None] <class 'list'>\n",
      "(1, 3, 4, 5, 'tst') <class 'tuple'>\n",
      "{'name': 'Roy', 'age': 24, 'gender': 'Male', 'enrolled': True, 'weight': 45.78} <class 'dict'>\n",
      "{1, 3, 4, 5, 'tst'} <class 'set'>\n"
     ]
    }
   ],
   "source": [
    "# collection\n",
    "\n",
    "#list  -  it is part of collection\n",
    "# these are mutable -  its values can be changed\n",
    "# i.e group/ collection of different primitive data types\n",
    "lst = [2,'ast',2.6,None]\n",
    "\n",
    "print (lst,type(lst))\n",
    "\n",
    "# tuple\n",
    "# these are immutable\n",
    "# servers output data generally are in tuples\n",
    "tpl = (1,3,4,5,'tst')\n",
    "print (tpl, type(tpl))\n",
    "# difference between tuple and list\n",
    "    # tuple are immutable and list are mutable\n",
    "# dictionaries -\n",
    "# key value based datatype\n",
    "dct = {\n",
    "    'name': 'Roy',\n",
    "    'age' : 24,\n",
    "    'gender': 'Male',\n",
    "    'enrolled': True,\n",
    "    'weight': 45.78\n",
    "}\n",
    "print (dct,type(dct))\n",
    "# json is generated from dictionaries\n",
    "# set\n",
    "# set would contain only the distict values\n",
    "set_exp = {1,1,1,1,1, 3, 4, 4, 5, 'tst'}\n",
    "print (set_exp,type(set_exp))"
   ]
  },
  {
   "cell_type": "code",
   "execution_count": null,
   "id": "f9cf8702-e933-419a-8529-105a650daa5a",
   "metadata": {},
   "outputs": [],
   "source": [
    "# operators"
   ]
  },
  {
   "cell_type": "code",
   "execution_count": 26,
   "id": "30e252f8-e529-4dc5-a816-1b58760ff14f",
   "metadata": {},
   "outputs": [
    {
     "name": "stdout",
     "output_type": "stream",
     "text": [
      "10 5\n",
      "15 5 50 2.0 100000 0 2\n"
     ]
    }
   ],
   "source": [
    "#arithmetic operators\n",
    "a = 10\n",
    "b = 5\n",
    "print (a,b)\n",
    "# ** - to give the power\n",
    "# % - to give the remainder\n",
    "\n",
    "print (a + b,a - b,a * b,a ** b,a / b,a % b,a // b)\n"
   ]
  },
  {
   "cell_type": "code",
   "execution_count": null,
   "id": "1c2178fc-465e-44b4-91c5-c5b592bc6544",
   "metadata": {},
   "outputs": [],
   "source": [
    "Equal (==): Returns True if both operands are equal.\n",
    "Not Equal (!=): Returns True if operands are not equal.\n",
    "Greater Than (>): Returns True if the first operand is greater than the second.\n",
    "Less Than (<): Returns True if the first operand is less than the second.\n",
    "Greater Than or Equal To (>=): Returns True if the first operand is greater than or equal to the second.\n",
    "Less Than or Equal To (<=): Returns True if the first operand is less than or equal to the second."
   ]
  }
 ],
 "metadata": {
  "kernelspec": {
   "display_name": "Python 3 (ipykernel)",
   "language": "python",
   "name": "python3"
  },
  "language_info": {
   "codemirror_mode": {
    "name": "ipython",
    "version": 3
   },
   "file_extension": ".py",
   "mimetype": "text/x-python",
   "name": "python",
   "nbconvert_exporter": "python",
   "pygments_lexer": "ipython3",
   "version": "3.11.7"
  }
 },
 "nbformat": 4,
 "nbformat_minor": 5
}
